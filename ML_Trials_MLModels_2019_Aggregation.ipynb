{
 "cells": [
  {
   "cell_type": "code",
   "execution_count": 12,
   "metadata": {},
   "outputs": [
    {
     "name": "stdout",
     "output_type": "stream",
     "text": [
      "(27708, 20)\n",
      "(27708, 18)\n"
     ]
    }
   ],
   "source": [
    "import os\n",
    "import pandas as pd\n",
    "\n",
    "folder = \"C:/Users/mdjaw/OneDrive/Documents/Markian Training/Research_USQ/USCenterDiseaseControlPrevention/LLCP2019XPT\" \n",
    "os.chdir(folder)\n",
    "\n",
    "BRFSS_Grounded = pd.read_csv(\"LLCP2019XPT_Grounded_KGFS25.csv\")\n",
    "\n",
    "print(BRFSS_Grounded.shape)\n",
    "\n",
    "BRFSS_Grounded_X = BRFSS_Grounded.drop(['CNCRTYP1', 'DIABETE4'], axis = 1)\n",
    "\n",
    "print(BRFSS_Grounded_X.shape)"
   ]
  },
  {
   "cell_type": "code",
   "execution_count": 13,
   "metadata": {},
   "outputs": [
    {
     "name": "stderr",
     "output_type": "stream",
     "text": [
      "C:\\ProgramData\\Anaconda3\\envs\\newenvt\\lib\\site-packages\\sklearn\\multiclass.py:81: UserWarning: Label 0 is present in all training examples.\n",
      "  str(classes[c]))\n"
     ]
    },
    {
     "name": "stdout",
     "output_type": "stream",
     "text": [
      "BRFSS MultiLabel Cancer + Diabetes - Grounded, Knowledge Graph-Based Feature Selection - Logistic Regression\n",
      "              precision    recall  f1-score   support\n",
      "\n",
      "           0       0.86      1.00      0.92      4751\n",
      "           1       0.00      0.00      0.00       791\n",
      "\n",
      "    accuracy                           0.86      5542\n",
      "   macro avg       0.43      0.50      0.46      5542\n",
      "weighted avg       0.73      0.86      0.79      5542\n",
      "\n",
      "Hamming Loss: 0.14272825694695057\n"
     ]
    },
    {
     "name": "stderr",
     "output_type": "stream",
     "text": [
      "C:\\ProgramData\\Anaconda3\\envs\\newenvt\\lib\\site-packages\\sklearn\\metrics\\_classification.py:1245: UndefinedMetricWarning: Precision and F-score are ill-defined and being set to 0.0 in labels with no predicted samples. Use `zero_division` parameter to control this behavior.\n",
      "  _warn_prf(average, modifier, msg_start, len(result))\n",
      "C:\\ProgramData\\Anaconda3\\envs\\newenvt\\lib\\site-packages\\sklearn\\metrics\\_classification.py:1245: UndefinedMetricWarning: Precision and F-score are ill-defined and being set to 0.0 in labels with no predicted samples. Use `zero_division` parameter to control this behavior.\n",
      "  _warn_prf(average, modifier, msg_start, len(result))\n",
      "C:\\ProgramData\\Anaconda3\\envs\\newenvt\\lib\\site-packages\\sklearn\\metrics\\_classification.py:1245: UndefinedMetricWarning: Precision and F-score are ill-defined and being set to 0.0 in labels with no predicted samples. Use `zero_division` parameter to control this behavior.\n",
      "  _warn_prf(average, modifier, msg_start, len(result))\n",
      "C:\\ProgramData\\Anaconda3\\envs\\newenvt\\lib\\site-packages\\sklearn\\multiclass.py:81: UserWarning: Label 0 is present in all training examples.\n",
      "  str(classes[c]))\n"
     ]
    },
    {
     "name": "stdout",
     "output_type": "stream",
     "text": [
      "BRFSS MultiLabel Cancer + Diabetes - Grounded, Knowledge Graph-Based Feature Selection - Logistic Regression\n",
      "              precision    recall  f1-score   support\n",
      "\n",
      "           0       0.86      1.00      0.93      4783\n",
      "           1       0.00      0.00      0.00       759\n",
      "\n",
      "    accuracy                           0.86      5542\n",
      "   macro avg       0.43      0.50      0.46      5542\n",
      "weighted avg       0.74      0.86      0.80      5542\n",
      "\n",
      "Hamming Loss: 0.13695416817033562\n"
     ]
    },
    {
     "name": "stderr",
     "output_type": "stream",
     "text": [
      "C:\\ProgramData\\Anaconda3\\envs\\newenvt\\lib\\site-packages\\sklearn\\metrics\\_classification.py:1245: UndefinedMetricWarning: Precision and F-score are ill-defined and being set to 0.0 in labels with no predicted samples. Use `zero_division` parameter to control this behavior.\n",
      "  _warn_prf(average, modifier, msg_start, len(result))\n",
      "C:\\ProgramData\\Anaconda3\\envs\\newenvt\\lib\\site-packages\\sklearn\\metrics\\_classification.py:1245: UndefinedMetricWarning: Precision and F-score are ill-defined and being set to 0.0 in labels with no predicted samples. Use `zero_division` parameter to control this behavior.\n",
      "  _warn_prf(average, modifier, msg_start, len(result))\n",
      "C:\\ProgramData\\Anaconda3\\envs\\newenvt\\lib\\site-packages\\sklearn\\metrics\\_classification.py:1245: UndefinedMetricWarning: Precision and F-score are ill-defined and being set to 0.0 in labels with no predicted samples. Use `zero_division` parameter to control this behavior.\n",
      "  _warn_prf(average, modifier, msg_start, len(result))\n",
      "C:\\ProgramData\\Anaconda3\\envs\\newenvt\\lib\\site-packages\\sklearn\\multiclass.py:81: UserWarning: Label 0 is present in all training examples.\n",
      "  str(classes[c]))\n"
     ]
    },
    {
     "name": "stdout",
     "output_type": "stream",
     "text": [
      "BRFSS MultiLabel Cancer + Diabetes - Grounded, Knowledge Graph-Based Feature Selection - Logistic Regression\n",
      "              precision    recall  f1-score   support\n",
      "\n",
      "           0       0.86      1.00      0.92      4747\n",
      "           1       0.00      0.00      0.00       795\n",
      "\n",
      "    accuracy                           0.86      5542\n",
      "   macro avg       0.43      0.50      0.46      5542\n",
      "weighted avg       0.73      0.86      0.79      5542\n",
      "\n",
      "Hamming Loss: 0.14345001804402743\n"
     ]
    },
    {
     "name": "stderr",
     "output_type": "stream",
     "text": [
      "C:\\ProgramData\\Anaconda3\\envs\\newenvt\\lib\\site-packages\\sklearn\\metrics\\_classification.py:1245: UndefinedMetricWarning: Precision and F-score are ill-defined and being set to 0.0 in labels with no predicted samples. Use `zero_division` parameter to control this behavior.\n",
      "  _warn_prf(average, modifier, msg_start, len(result))\n",
      "C:\\ProgramData\\Anaconda3\\envs\\newenvt\\lib\\site-packages\\sklearn\\metrics\\_classification.py:1245: UndefinedMetricWarning: Precision and F-score are ill-defined and being set to 0.0 in labels with no predicted samples. Use `zero_division` parameter to control this behavior.\n",
      "  _warn_prf(average, modifier, msg_start, len(result))\n",
      "C:\\ProgramData\\Anaconda3\\envs\\newenvt\\lib\\site-packages\\sklearn\\metrics\\_classification.py:1245: UndefinedMetricWarning: Precision and F-score are ill-defined and being set to 0.0 in labels with no predicted samples. Use `zero_division` parameter to control this behavior.\n",
      "  _warn_prf(average, modifier, msg_start, len(result))\n",
      "C:\\ProgramData\\Anaconda3\\envs\\newenvt\\lib\\site-packages\\sklearn\\multiclass.py:81: UserWarning: Label 0 is present in all training examples.\n",
      "  str(classes[c]))\n"
     ]
    },
    {
     "name": "stdout",
     "output_type": "stream",
     "text": [
      "BRFSS MultiLabel Cancer + Diabetes - Grounded, Knowledge Graph-Based Feature Selection - Logistic Regression\n",
      "              precision    recall  f1-score   support\n",
      "\n",
      "           0       0.88      1.00      0.94      4878\n",
      "           1       0.00      0.00      0.00       663\n",
      "\n",
      "    accuracy                           0.88      5541\n",
      "   macro avg       0.44      0.50      0.47      5541\n",
      "weighted avg       0.78      0.88      0.82      5541\n",
      "\n",
      "Hamming Loss: 0.11965349214943151\n"
     ]
    },
    {
     "name": "stderr",
     "output_type": "stream",
     "text": [
      "C:\\ProgramData\\Anaconda3\\envs\\newenvt\\lib\\site-packages\\sklearn\\metrics\\_classification.py:1245: UndefinedMetricWarning: Precision and F-score are ill-defined and being set to 0.0 in labels with no predicted samples. Use `zero_division` parameter to control this behavior.\n",
      "  _warn_prf(average, modifier, msg_start, len(result))\n",
      "C:\\ProgramData\\Anaconda3\\envs\\newenvt\\lib\\site-packages\\sklearn\\metrics\\_classification.py:1245: UndefinedMetricWarning: Precision and F-score are ill-defined and being set to 0.0 in labels with no predicted samples. Use `zero_division` parameter to control this behavior.\n",
      "  _warn_prf(average, modifier, msg_start, len(result))\n",
      "C:\\ProgramData\\Anaconda3\\envs\\newenvt\\lib\\site-packages\\sklearn\\metrics\\_classification.py:1245: UndefinedMetricWarning: Precision and F-score are ill-defined and being set to 0.0 in labels with no predicted samples. Use `zero_division` parameter to control this behavior.\n",
      "  _warn_prf(average, modifier, msg_start, len(result))\n",
      "C:\\ProgramData\\Anaconda3\\envs\\newenvt\\lib\\site-packages\\sklearn\\multiclass.py:81: UserWarning: Label 0 is present in all training examples.\n",
      "  str(classes[c]))\n"
     ]
    },
    {
     "name": "stdout",
     "output_type": "stream",
     "text": [
      "BRFSS MultiLabel Cancer + Diabetes - Grounded, Knowledge Graph-Based Feature Selection - Logistic Regression\n",
      "              precision    recall  f1-score   support\n",
      "\n",
      "           0       0.88      1.00      0.94      4898\n",
      "           1       0.00      0.00      0.00       643\n",
      "\n",
      "    accuracy                           0.88      5541\n",
      "   macro avg       0.44      0.50      0.47      5541\n",
      "weighted avg       0.78      0.88      0.83      5541\n",
      "\n",
      "Hamming Loss: 0.11604403537267641\n",
      "y_pred shape: \n",
      "(5541, 2)\n",
      "y_pred2 shape:\n",
      "(5,)\n",
      "BRFSS MultiLabel Cancer + Diabetes - Grounded, Knowledge Graph-Based Feature Selection - Logistic Regression AGGREGATE\n",
      "              precision    recall  f1-score   support\n",
      "\n",
      "           0       0.87      1.00      0.93     24057\n",
      "           1       0.00      0.00      0.00      3651\n",
      "\n",
      "    accuracy                           0.87     27708\n",
      "   macro avg       0.43      0.50      0.46     27708\n",
      "weighted avg       0.75      0.87      0.81     27708\n",
      "\n",
      "Hamming Loss: 0.1317659941366843\n"
     ]
    },
    {
     "name": "stderr",
     "output_type": "stream",
     "text": [
      "C:\\ProgramData\\Anaconda3\\envs\\newenvt\\lib\\site-packages\\sklearn\\metrics\\_classification.py:1245: UndefinedMetricWarning: Precision and F-score are ill-defined and being set to 0.0 in labels with no predicted samples. Use `zero_division` parameter to control this behavior.\n",
      "  _warn_prf(average, modifier, msg_start, len(result))\n",
      "C:\\ProgramData\\Anaconda3\\envs\\newenvt\\lib\\site-packages\\sklearn\\metrics\\_classification.py:1245: UndefinedMetricWarning: Precision and F-score are ill-defined and being set to 0.0 in labels with no predicted samples. Use `zero_division` parameter to control this behavior.\n",
      "  _warn_prf(average, modifier, msg_start, len(result))\n",
      "C:\\ProgramData\\Anaconda3\\envs\\newenvt\\lib\\site-packages\\sklearn\\metrics\\_classification.py:1245: UndefinedMetricWarning: Precision and F-score are ill-defined and being set to 0.0 in labels with no predicted samples. Use `zero_division` parameter to control this behavior.\n",
      "  _warn_prf(average, modifier, msg_start, len(result))\n",
      "C:\\ProgramData\\Anaconda3\\envs\\newenvt\\lib\\site-packages\\sklearn\\metrics\\_classification.py:1245: UndefinedMetricWarning: Precision and F-score are ill-defined and being set to 0.0 in labels with no predicted samples. Use `zero_division` parameter to control this behavior.\n",
      "  _warn_prf(average, modifier, msg_start, len(result))\n",
      "C:\\ProgramData\\Anaconda3\\envs\\newenvt\\lib\\site-packages\\sklearn\\metrics\\_classification.py:1245: UndefinedMetricWarning: Precision and F-score are ill-defined and being set to 0.0 in labels with no predicted samples. Use `zero_division` parameter to control this behavior.\n",
      "  _warn_prf(average, modifier, msg_start, len(result))\n",
      "C:\\ProgramData\\Anaconda3\\envs\\newenvt\\lib\\site-packages\\sklearn\\metrics\\_classification.py:1245: UndefinedMetricWarning: Precision and F-score are ill-defined and being set to 0.0 in labels with no predicted samples. Use `zero_division` parameter to control this behavior.\n",
      "  _warn_prf(average, modifier, msg_start, len(result))\n",
      "C:\\ProgramData\\Anaconda3\\envs\\newenvt\\lib\\site-packages\\sklearn\\multiclass.py:81: UserWarning: Label 0 is present in all training examples.\n",
      "  str(classes[c]))\n",
      "C:\\ProgramData\\Anaconda3\\envs\\newenvt\\lib\\site-packages\\sklearn\\metrics\\_classification.py:1245: UndefinedMetricWarning: Precision and F-score are ill-defined and being set to 0.0 in labels with no predicted samples. Use `zero_division` parameter to control this behavior.\n",
      "  _warn_prf(average, modifier, msg_start, len(result))\n",
      "C:\\ProgramData\\Anaconda3\\envs\\newenvt\\lib\\site-packages\\sklearn\\metrics\\_classification.py:1245: UndefinedMetricWarning: Precision and F-score are ill-defined and being set to 0.0 in labels with no predicted samples. Use `zero_division` parameter to control this behavior.\n",
      "  _warn_prf(average, modifier, msg_start, len(result))\n",
      "C:\\ProgramData\\Anaconda3\\envs\\newenvt\\lib\\site-packages\\sklearn\\metrics\\_classification.py:1245: UndefinedMetricWarning: Precision and F-score are ill-defined and being set to 0.0 in labels with no predicted samples. Use `zero_division` parameter to control this behavior.\n",
      "  _warn_prf(average, modifier, msg_start, len(result))\n"
     ]
    },
    {
     "name": "stdout",
     "output_type": "stream",
     "text": [
      "BRFSS MultiLabel Cancer + Diabetes - Grounded, Knowledge Graph-Based Feature Selection - MultinomialNB\n",
      "              precision    recall  f1-score   support\n",
      "\n",
      "           0       0.86      1.00      0.92      4751\n",
      "           1       0.00      0.00      0.00       791\n",
      "\n",
      "    accuracy                           0.86      5542\n",
      "   macro avg       0.43      0.50      0.46      5542\n",
      "weighted avg       0.73      0.86      0.79      5542\n",
      "\n",
      "Hamming Loss: 0.14272825694695057\n"
     ]
    },
    {
     "name": "stderr",
     "output_type": "stream",
     "text": [
      "C:\\ProgramData\\Anaconda3\\envs\\newenvt\\lib\\site-packages\\sklearn\\multiclass.py:81: UserWarning: Label 0 is present in all training examples.\n",
      "  str(classes[c]))\n",
      "C:\\ProgramData\\Anaconda3\\envs\\newenvt\\lib\\site-packages\\sklearn\\metrics\\_classification.py:1245: UndefinedMetricWarning: Precision and F-score are ill-defined and being set to 0.0 in labels with no predicted samples. Use `zero_division` parameter to control this behavior.\n",
      "  _warn_prf(average, modifier, msg_start, len(result))\n",
      "C:\\ProgramData\\Anaconda3\\envs\\newenvt\\lib\\site-packages\\sklearn\\metrics\\_classification.py:1245: UndefinedMetricWarning: Precision and F-score are ill-defined and being set to 0.0 in labels with no predicted samples. Use `zero_division` parameter to control this behavior.\n",
      "  _warn_prf(average, modifier, msg_start, len(result))\n",
      "C:\\ProgramData\\Anaconda3\\envs\\newenvt\\lib\\site-packages\\sklearn\\metrics\\_classification.py:1245: UndefinedMetricWarning: Precision and F-score are ill-defined and being set to 0.0 in labels with no predicted samples. Use `zero_division` parameter to control this behavior.\n",
      "  _warn_prf(average, modifier, msg_start, len(result))\n"
     ]
    },
    {
     "name": "stdout",
     "output_type": "stream",
     "text": [
      "BRFSS MultiLabel Cancer + Diabetes - Grounded, Knowledge Graph-Based Feature Selection - MultinomialNB\n",
      "              precision    recall  f1-score   support\n",
      "\n",
      "           0       0.86      1.00      0.93      4783\n",
      "           1       0.00      0.00      0.00       759\n",
      "\n",
      "    accuracy                           0.86      5542\n",
      "   macro avg       0.43      0.50      0.46      5542\n",
      "weighted avg       0.74      0.86      0.80      5542\n",
      "\n",
      "Hamming Loss: 0.13695416817033562\n"
     ]
    },
    {
     "name": "stderr",
     "output_type": "stream",
     "text": [
      "C:\\ProgramData\\Anaconda3\\envs\\newenvt\\lib\\site-packages\\sklearn\\multiclass.py:81: UserWarning: Label 0 is present in all training examples.\n",
      "  str(classes[c]))\n",
      "C:\\ProgramData\\Anaconda3\\envs\\newenvt\\lib\\site-packages\\sklearn\\metrics\\_classification.py:1245: UndefinedMetricWarning: Precision and F-score are ill-defined and being set to 0.0 in labels with no predicted samples. Use `zero_division` parameter to control this behavior.\n",
      "  _warn_prf(average, modifier, msg_start, len(result))\n",
      "C:\\ProgramData\\Anaconda3\\envs\\newenvt\\lib\\site-packages\\sklearn\\metrics\\_classification.py:1245: UndefinedMetricWarning: Precision and F-score are ill-defined and being set to 0.0 in labels with no predicted samples. Use `zero_division` parameter to control this behavior.\n",
      "  _warn_prf(average, modifier, msg_start, len(result))\n",
      "C:\\ProgramData\\Anaconda3\\envs\\newenvt\\lib\\site-packages\\sklearn\\metrics\\_classification.py:1245: UndefinedMetricWarning: Precision and F-score are ill-defined and being set to 0.0 in labels with no predicted samples. Use `zero_division` parameter to control this behavior.\n",
      "  _warn_prf(average, modifier, msg_start, len(result))\n"
     ]
    },
    {
     "name": "stdout",
     "output_type": "stream",
     "text": [
      "BRFSS MultiLabel Cancer + Diabetes - Grounded, Knowledge Graph-Based Feature Selection - MultinomialNB\n",
      "              precision    recall  f1-score   support\n",
      "\n",
      "           0       0.86      1.00      0.92      4747\n",
      "           1       0.00      0.00      0.00       795\n",
      "\n",
      "    accuracy                           0.86      5542\n",
      "   macro avg       0.43      0.50      0.46      5542\n",
      "weighted avg       0.73      0.86      0.79      5542\n",
      "\n",
      "Hamming Loss: 0.14345001804402743\n"
     ]
    },
    {
     "name": "stderr",
     "output_type": "stream",
     "text": [
      "C:\\ProgramData\\Anaconda3\\envs\\newenvt\\lib\\site-packages\\sklearn\\multiclass.py:81: UserWarning: Label 0 is present in all training examples.\n",
      "  str(classes[c]))\n",
      "C:\\ProgramData\\Anaconda3\\envs\\newenvt\\lib\\site-packages\\sklearn\\metrics\\_classification.py:1245: UndefinedMetricWarning: Precision and F-score are ill-defined and being set to 0.0 in labels with no predicted samples. Use `zero_division` parameter to control this behavior.\n",
      "  _warn_prf(average, modifier, msg_start, len(result))\n",
      "C:\\ProgramData\\Anaconda3\\envs\\newenvt\\lib\\site-packages\\sklearn\\metrics\\_classification.py:1245: UndefinedMetricWarning: Precision and F-score are ill-defined and being set to 0.0 in labels with no predicted samples. Use `zero_division` parameter to control this behavior.\n",
      "  _warn_prf(average, modifier, msg_start, len(result))\n",
      "C:\\ProgramData\\Anaconda3\\envs\\newenvt\\lib\\site-packages\\sklearn\\metrics\\_classification.py:1245: UndefinedMetricWarning: Precision and F-score are ill-defined and being set to 0.0 in labels with no predicted samples. Use `zero_division` parameter to control this behavior.\n",
      "  _warn_prf(average, modifier, msg_start, len(result))\n"
     ]
    },
    {
     "name": "stdout",
     "output_type": "stream",
     "text": [
      "BRFSS MultiLabel Cancer + Diabetes - Grounded, Knowledge Graph-Based Feature Selection - MultinomialNB\n",
      "              precision    recall  f1-score   support\n",
      "\n",
      "           0       0.88      1.00      0.94      4878\n",
      "           1       0.00      0.00      0.00       663\n",
      "\n",
      "    accuracy                           0.88      5541\n",
      "   macro avg       0.44      0.50      0.47      5541\n",
      "weighted avg       0.78      0.88      0.82      5541\n",
      "\n",
      "Hamming Loss: 0.11965349214943151\n"
     ]
    },
    {
     "name": "stderr",
     "output_type": "stream",
     "text": [
      "C:\\ProgramData\\Anaconda3\\envs\\newenvt\\lib\\site-packages\\sklearn\\multiclass.py:81: UserWarning: Label 0 is present in all training examples.\n",
      "  str(classes[c]))\n",
      "C:\\ProgramData\\Anaconda3\\envs\\newenvt\\lib\\site-packages\\sklearn\\metrics\\_classification.py:1245: UndefinedMetricWarning: Precision and F-score are ill-defined and being set to 0.0 in labels with no predicted samples. Use `zero_division` parameter to control this behavior.\n",
      "  _warn_prf(average, modifier, msg_start, len(result))\n",
      "C:\\ProgramData\\Anaconda3\\envs\\newenvt\\lib\\site-packages\\sklearn\\metrics\\_classification.py:1245: UndefinedMetricWarning: Precision and F-score are ill-defined and being set to 0.0 in labels with no predicted samples. Use `zero_division` parameter to control this behavior.\n",
      "  _warn_prf(average, modifier, msg_start, len(result))\n",
      "C:\\ProgramData\\Anaconda3\\envs\\newenvt\\lib\\site-packages\\sklearn\\metrics\\_classification.py:1245: UndefinedMetricWarning: Precision and F-score are ill-defined and being set to 0.0 in labels with no predicted samples. Use `zero_division` parameter to control this behavior.\n",
      "  _warn_prf(average, modifier, msg_start, len(result))\n",
      "C:\\ProgramData\\Anaconda3\\envs\\newenvt\\lib\\site-packages\\sklearn\\metrics\\_classification.py:1245: UndefinedMetricWarning: Precision and F-score are ill-defined and being set to 0.0 in labels with no predicted samples. Use `zero_division` parameter to control this behavior.\n",
      "  _warn_prf(average, modifier, msg_start, len(result))\n",
      "C:\\ProgramData\\Anaconda3\\envs\\newenvt\\lib\\site-packages\\sklearn\\metrics\\_classification.py:1245: UndefinedMetricWarning: Precision and F-score are ill-defined and being set to 0.0 in labels with no predicted samples. Use `zero_division` parameter to control this behavior.\n",
      "  _warn_prf(average, modifier, msg_start, len(result))\n",
      "C:\\ProgramData\\Anaconda3\\envs\\newenvt\\lib\\site-packages\\sklearn\\metrics\\_classification.py:1245: UndefinedMetricWarning: Precision and F-score are ill-defined and being set to 0.0 in labels with no predicted samples. Use `zero_division` parameter to control this behavior.\n",
      "  _warn_prf(average, modifier, msg_start, len(result))\n"
     ]
    },
    {
     "name": "stdout",
     "output_type": "stream",
     "text": [
      "BRFSS MultiLabel Cancer + Diabetes - Grounded, Knowledge Graph-Based Feature Selection - MultinomialNB\n",
      "              precision    recall  f1-score   support\n",
      "\n",
      "           0       0.88      1.00      0.94      4898\n",
      "           1       0.00      0.00      0.00       643\n",
      "\n",
      "    accuracy                           0.88      5541\n",
      "   macro avg       0.44      0.50      0.47      5541\n",
      "weighted avg       0.78      0.88      0.83      5541\n",
      "\n",
      "Hamming Loss: 0.11604403537267641\n",
      "BRFSS MultiLabel Cancer + Diabetes - Grounded, Knowledge Graph-Based Feature Selection - MultinomialNB AGGREGATE\n",
      "              precision    recall  f1-score   support\n",
      "\n",
      "           0       0.87      1.00      0.93     24057\n",
      "           1       0.00      0.00      0.00      3651\n",
      "\n",
      "    accuracy                           0.87     27708\n",
      "   macro avg       0.43      0.50      0.46     27708\n",
      "weighted avg       0.75      0.87      0.81     27708\n",
      "\n",
      "Hamming Loss: 0.1317659941366843\n"
     ]
    },
    {
     "name": "stderr",
     "output_type": "stream",
     "text": [
      "C:\\ProgramData\\Anaconda3\\envs\\newenvt\\lib\\site-packages\\sklearn\\multiclass.py:81: UserWarning: Label 0 is present in all training examples.\n",
      "  str(classes[c]))\n",
      "C:\\ProgramData\\Anaconda3\\envs\\newenvt\\lib\\site-packages\\sklearn\\metrics\\_classification.py:1245: UndefinedMetricWarning: Precision and F-score are ill-defined and being set to 0.0 in labels with no predicted samples. Use `zero_division` parameter to control this behavior.\n",
      "  _warn_prf(average, modifier, msg_start, len(result))\n",
      "C:\\ProgramData\\Anaconda3\\envs\\newenvt\\lib\\site-packages\\sklearn\\metrics\\_classification.py:1245: UndefinedMetricWarning: Precision and F-score are ill-defined and being set to 0.0 in labels with no predicted samples. Use `zero_division` parameter to control this behavior.\n",
      "  _warn_prf(average, modifier, msg_start, len(result))\n",
      "C:\\ProgramData\\Anaconda3\\envs\\newenvt\\lib\\site-packages\\sklearn\\metrics\\_classification.py:1245: UndefinedMetricWarning: Precision and F-score are ill-defined and being set to 0.0 in labels with no predicted samples. Use `zero_division` parameter to control this behavior.\n",
      "  _warn_prf(average, modifier, msg_start, len(result))\n"
     ]
    },
    {
     "name": "stdout",
     "output_type": "stream",
     "text": [
      "BRFSS MultiLabel Cancer + Diabetes - Grounded, Knowledge Graph-Based Feature Selection - Linear DA\n",
      "              precision    recall  f1-score   support\n",
      "\n",
      "           0       0.86      1.00      0.92      4751\n",
      "           1       0.00      0.00      0.00       791\n",
      "\n",
      "    accuracy                           0.86      5542\n",
      "   macro avg       0.43      0.50      0.46      5542\n",
      "weighted avg       0.73      0.86      0.79      5542\n",
      "\n",
      "Hamming Loss: 0.14272825694695057\n"
     ]
    },
    {
     "name": "stderr",
     "output_type": "stream",
     "text": [
      "C:\\ProgramData\\Anaconda3\\envs\\newenvt\\lib\\site-packages\\sklearn\\multiclass.py:81: UserWarning: Label 0 is present in all training examples.\n",
      "  str(classes[c]))\n",
      "C:\\ProgramData\\Anaconda3\\envs\\newenvt\\lib\\site-packages\\sklearn\\metrics\\_classification.py:1245: UndefinedMetricWarning: Precision and F-score are ill-defined and being set to 0.0 in labels with no predicted samples. Use `zero_division` parameter to control this behavior.\n",
      "  _warn_prf(average, modifier, msg_start, len(result))\n",
      "C:\\ProgramData\\Anaconda3\\envs\\newenvt\\lib\\site-packages\\sklearn\\metrics\\_classification.py:1245: UndefinedMetricWarning: Precision and F-score are ill-defined and being set to 0.0 in labels with no predicted samples. Use `zero_division` parameter to control this behavior.\n",
      "  _warn_prf(average, modifier, msg_start, len(result))\n",
      "C:\\ProgramData\\Anaconda3\\envs\\newenvt\\lib\\site-packages\\sklearn\\metrics\\_classification.py:1245: UndefinedMetricWarning: Precision and F-score are ill-defined and being set to 0.0 in labels with no predicted samples. Use `zero_division` parameter to control this behavior.\n",
      "  _warn_prf(average, modifier, msg_start, len(result))\n"
     ]
    },
    {
     "name": "stdout",
     "output_type": "stream",
     "text": [
      "BRFSS MultiLabel Cancer + Diabetes - Grounded, Knowledge Graph-Based Feature Selection - Linear DA\n",
      "              precision    recall  f1-score   support\n",
      "\n",
      "           0       0.86      1.00      0.93      4783\n",
      "           1       0.00      0.00      0.00       759\n",
      "\n",
      "    accuracy                           0.86      5542\n",
      "   macro avg       0.43      0.50      0.46      5542\n",
      "weighted avg       0.74      0.86      0.80      5542\n",
      "\n",
      "Hamming Loss: 0.13695416817033562\n"
     ]
    },
    {
     "name": "stderr",
     "output_type": "stream",
     "text": [
      "C:\\ProgramData\\Anaconda3\\envs\\newenvt\\lib\\site-packages\\sklearn\\multiclass.py:81: UserWarning: Label 0 is present in all training examples.\n",
      "  str(classes[c]))\n",
      "C:\\ProgramData\\Anaconda3\\envs\\newenvt\\lib\\site-packages\\sklearn\\metrics\\_classification.py:1245: UndefinedMetricWarning: Precision and F-score are ill-defined and being set to 0.0 in labels with no predicted samples. Use `zero_division` parameter to control this behavior.\n",
      "  _warn_prf(average, modifier, msg_start, len(result))\n",
      "C:\\ProgramData\\Anaconda3\\envs\\newenvt\\lib\\site-packages\\sklearn\\metrics\\_classification.py:1245: UndefinedMetricWarning: Precision and F-score are ill-defined and being set to 0.0 in labels with no predicted samples. Use `zero_division` parameter to control this behavior.\n",
      "  _warn_prf(average, modifier, msg_start, len(result))\n",
      "C:\\ProgramData\\Anaconda3\\envs\\newenvt\\lib\\site-packages\\sklearn\\metrics\\_classification.py:1245: UndefinedMetricWarning: Precision and F-score are ill-defined and being set to 0.0 in labels with no predicted samples. Use `zero_division` parameter to control this behavior.\n",
      "  _warn_prf(average, modifier, msg_start, len(result))\n"
     ]
    },
    {
     "name": "stdout",
     "output_type": "stream",
     "text": [
      "BRFSS MultiLabel Cancer + Diabetes - Grounded, Knowledge Graph-Based Feature Selection - Linear DA\n",
      "              precision    recall  f1-score   support\n",
      "\n",
      "           0       0.86      1.00      0.92      4747\n",
      "           1       0.00      0.00      0.00       795\n",
      "\n",
      "    accuracy                           0.86      5542\n",
      "   macro avg       0.43      0.50      0.46      5542\n",
      "weighted avg       0.73      0.86      0.79      5542\n",
      "\n",
      "Hamming Loss: 0.14345001804402743\n"
     ]
    },
    {
     "name": "stderr",
     "output_type": "stream",
     "text": [
      "C:\\ProgramData\\Anaconda3\\envs\\newenvt\\lib\\site-packages\\sklearn\\multiclass.py:81: UserWarning: Label 0 is present in all training examples.\n",
      "  str(classes[c]))\n",
      "C:\\ProgramData\\Anaconda3\\envs\\newenvt\\lib\\site-packages\\sklearn\\metrics\\_classification.py:1245: UndefinedMetricWarning: Precision and F-score are ill-defined and being set to 0.0 in labels with no predicted samples. Use `zero_division` parameter to control this behavior.\n",
      "  _warn_prf(average, modifier, msg_start, len(result))\n",
      "C:\\ProgramData\\Anaconda3\\envs\\newenvt\\lib\\site-packages\\sklearn\\metrics\\_classification.py:1245: UndefinedMetricWarning: Precision and F-score are ill-defined and being set to 0.0 in labels with no predicted samples. Use `zero_division` parameter to control this behavior.\n",
      "  _warn_prf(average, modifier, msg_start, len(result))\n",
      "C:\\ProgramData\\Anaconda3\\envs\\newenvt\\lib\\site-packages\\sklearn\\metrics\\_classification.py:1245: UndefinedMetricWarning: Precision and F-score are ill-defined and being set to 0.0 in labels with no predicted samples. Use `zero_division` parameter to control this behavior.\n",
      "  _warn_prf(average, modifier, msg_start, len(result))\n"
     ]
    },
    {
     "name": "stdout",
     "output_type": "stream",
     "text": [
      "BRFSS MultiLabel Cancer + Diabetes - Grounded, Knowledge Graph-Based Feature Selection - Linear DA\n",
      "              precision    recall  f1-score   support\n",
      "\n",
      "           0       0.88      1.00      0.94      4878\n",
      "           1       0.00      0.00      0.00       663\n",
      "\n",
      "    accuracy                           0.88      5541\n",
      "   macro avg       0.44      0.50      0.47      5541\n",
      "weighted avg       0.78      0.88      0.82      5541\n",
      "\n",
      "Hamming Loss: 0.11965349214943151\n"
     ]
    },
    {
     "name": "stderr",
     "output_type": "stream",
     "text": [
      "C:\\ProgramData\\Anaconda3\\envs\\newenvt\\lib\\site-packages\\sklearn\\multiclass.py:81: UserWarning: Label 0 is present in all training examples.\n",
      "  str(classes[c]))\n",
      "C:\\ProgramData\\Anaconda3\\envs\\newenvt\\lib\\site-packages\\sklearn\\metrics\\_classification.py:1245: UndefinedMetricWarning: Precision and F-score are ill-defined and being set to 0.0 in labels with no predicted samples. Use `zero_division` parameter to control this behavior.\n",
      "  _warn_prf(average, modifier, msg_start, len(result))\n",
      "C:\\ProgramData\\Anaconda3\\envs\\newenvt\\lib\\site-packages\\sklearn\\metrics\\_classification.py:1245: UndefinedMetricWarning: Precision and F-score are ill-defined and being set to 0.0 in labels with no predicted samples. Use `zero_division` parameter to control this behavior.\n",
      "  _warn_prf(average, modifier, msg_start, len(result))\n",
      "C:\\ProgramData\\Anaconda3\\envs\\newenvt\\lib\\site-packages\\sklearn\\metrics\\_classification.py:1245: UndefinedMetricWarning: Precision and F-score are ill-defined and being set to 0.0 in labels with no predicted samples. Use `zero_division` parameter to control this behavior.\n",
      "  _warn_prf(average, modifier, msg_start, len(result))\n",
      "C:\\ProgramData\\Anaconda3\\envs\\newenvt\\lib\\site-packages\\sklearn\\metrics\\_classification.py:1245: UndefinedMetricWarning: Precision and F-score are ill-defined and being set to 0.0 in labels with no predicted samples. Use `zero_division` parameter to control this behavior.\n",
      "  _warn_prf(average, modifier, msg_start, len(result))\n",
      "C:\\ProgramData\\Anaconda3\\envs\\newenvt\\lib\\site-packages\\sklearn\\metrics\\_classification.py:1245: UndefinedMetricWarning: Precision and F-score are ill-defined and being set to 0.0 in labels with no predicted samples. Use `zero_division` parameter to control this behavior.\n",
      "  _warn_prf(average, modifier, msg_start, len(result))\n",
      "C:\\ProgramData\\Anaconda3\\envs\\newenvt\\lib\\site-packages\\sklearn\\metrics\\_classification.py:1245: UndefinedMetricWarning: Precision and F-score are ill-defined and being set to 0.0 in labels with no predicted samples. Use `zero_division` parameter to control this behavior.\n",
      "  _warn_prf(average, modifier, msg_start, len(result))\n"
     ]
    },
    {
     "name": "stdout",
     "output_type": "stream",
     "text": [
      "BRFSS MultiLabel Cancer + Diabetes - Grounded, Knowledge Graph-Based Feature Selection - Linear DA\n",
      "              precision    recall  f1-score   support\n",
      "\n",
      "           0       0.88      1.00      0.94      4898\n",
      "           1       0.00      0.00      0.00       643\n",
      "\n",
      "    accuracy                           0.88      5541\n",
      "   macro avg       0.44      0.50      0.47      5541\n",
      "weighted avg       0.78      0.88      0.83      5541\n",
      "\n",
      "Hamming Loss: 0.11604403537267641\n",
      "BRFSS MultiLabel Cancer + Diabetes - Grounded, Knowledge Graph-Based Feature Selection - Linear DA AGGREGATE\n",
      "              precision    recall  f1-score   support\n",
      "\n",
      "           0       0.87      1.00      0.93     24057\n",
      "           1       0.00      0.00      0.00      3651\n",
      "\n",
      "    accuracy                           0.87     27708\n",
      "   macro avg       0.43      0.50      0.46     27708\n",
      "weighted avg       0.75      0.87      0.81     27708\n",
      "\n",
      "Hamming Loss: 0.1317659941366843\n"
     ]
    },
    {
     "name": "stderr",
     "output_type": "stream",
     "text": [
      "C:\\ProgramData\\Anaconda3\\envs\\newenvt\\lib\\site-packages\\sklearn\\multiclass.py:81: UserWarning: Label 0 is present in all training examples.\n",
      "  str(classes[c]))\n"
     ]
    },
    {
     "name": "stdout",
     "output_type": "stream",
     "text": [
      "BRFSS MultiLabel Cancer + Diabetes - Grounded, Knowledge Graph-Based Feature Selection - Random Forest\n",
      "              precision    recall  f1-score   support\n",
      "\n",
      "           0       0.86      1.00      0.92      4751\n",
      "           1       0.00      0.00      0.00       791\n",
      "\n",
      "    accuracy                           0.86      5542\n",
      "   macro avg       0.43      0.50      0.46      5542\n",
      "weighted avg       0.73      0.86      0.79      5542\n",
      "\n",
      "Hamming Loss: 0.14272825694695057\n"
     ]
    },
    {
     "name": "stderr",
     "output_type": "stream",
     "text": [
      "C:\\ProgramData\\Anaconda3\\envs\\newenvt\\lib\\site-packages\\sklearn\\metrics\\_classification.py:1245: UndefinedMetricWarning: Precision and F-score are ill-defined and being set to 0.0 in labels with no predicted samples. Use `zero_division` parameter to control this behavior.\n",
      "  _warn_prf(average, modifier, msg_start, len(result))\n",
      "C:\\ProgramData\\Anaconda3\\envs\\newenvt\\lib\\site-packages\\sklearn\\metrics\\_classification.py:1245: UndefinedMetricWarning: Precision and F-score are ill-defined and being set to 0.0 in labels with no predicted samples. Use `zero_division` parameter to control this behavior.\n",
      "  _warn_prf(average, modifier, msg_start, len(result))\n",
      "C:\\ProgramData\\Anaconda3\\envs\\newenvt\\lib\\site-packages\\sklearn\\metrics\\_classification.py:1245: UndefinedMetricWarning: Precision and F-score are ill-defined and being set to 0.0 in labels with no predicted samples. Use `zero_division` parameter to control this behavior.\n",
      "  _warn_prf(average, modifier, msg_start, len(result))\n",
      "C:\\ProgramData\\Anaconda3\\envs\\newenvt\\lib\\site-packages\\sklearn\\multiclass.py:81: UserWarning: Label 0 is present in all training examples.\n",
      "  str(classes[c]))\n"
     ]
    },
    {
     "name": "stdout",
     "output_type": "stream",
     "text": [
      "BRFSS MultiLabel Cancer + Diabetes - Grounded, Knowledge Graph-Based Feature Selection - Random Forest\n",
      "              precision    recall  f1-score   support\n",
      "\n",
      "           0       0.86      1.00      0.93      4783\n",
      "           1       0.00      0.00      0.00       759\n",
      "\n",
      "    accuracy                           0.86      5542\n",
      "   macro avg       0.43      0.50      0.46      5542\n",
      "weighted avg       0.74      0.86      0.80      5542\n",
      "\n",
      "Hamming Loss: 0.13695416817033562\n"
     ]
    },
    {
     "name": "stderr",
     "output_type": "stream",
     "text": [
      "C:\\ProgramData\\Anaconda3\\envs\\newenvt\\lib\\site-packages\\sklearn\\metrics\\_classification.py:1245: UndefinedMetricWarning: Precision and F-score are ill-defined and being set to 0.0 in labels with no predicted samples. Use `zero_division` parameter to control this behavior.\n",
      "  _warn_prf(average, modifier, msg_start, len(result))\n",
      "C:\\ProgramData\\Anaconda3\\envs\\newenvt\\lib\\site-packages\\sklearn\\metrics\\_classification.py:1245: UndefinedMetricWarning: Precision and F-score are ill-defined and being set to 0.0 in labels with no predicted samples. Use `zero_division` parameter to control this behavior.\n",
      "  _warn_prf(average, modifier, msg_start, len(result))\n",
      "C:\\ProgramData\\Anaconda3\\envs\\newenvt\\lib\\site-packages\\sklearn\\metrics\\_classification.py:1245: UndefinedMetricWarning: Precision and F-score are ill-defined and being set to 0.0 in labels with no predicted samples. Use `zero_division` parameter to control this behavior.\n",
      "  _warn_prf(average, modifier, msg_start, len(result))\n",
      "C:\\ProgramData\\Anaconda3\\envs\\newenvt\\lib\\site-packages\\sklearn\\multiclass.py:81: UserWarning: Label 0 is present in all training examples.\n",
      "  str(classes[c]))\n"
     ]
    },
    {
     "name": "stdout",
     "output_type": "stream",
     "text": [
      "BRFSS MultiLabel Cancer + Diabetes - Grounded, Knowledge Graph-Based Feature Selection - Random Forest\n",
      "              precision    recall  f1-score   support\n",
      "\n",
      "           0       0.86      1.00      0.92      4747\n",
      "           1       0.00      0.00      0.00       795\n",
      "\n",
      "    accuracy                           0.86      5542\n",
      "   macro avg       0.43      0.50      0.46      5542\n",
      "weighted avg       0.73      0.86      0.79      5542\n",
      "\n",
      "Hamming Loss: 0.14345001804402743\n"
     ]
    },
    {
     "name": "stderr",
     "output_type": "stream",
     "text": [
      "C:\\ProgramData\\Anaconda3\\envs\\newenvt\\lib\\site-packages\\sklearn\\metrics\\_classification.py:1245: UndefinedMetricWarning: Precision and F-score are ill-defined and being set to 0.0 in labels with no predicted samples. Use `zero_division` parameter to control this behavior.\n",
      "  _warn_prf(average, modifier, msg_start, len(result))\n",
      "C:\\ProgramData\\Anaconda3\\envs\\newenvt\\lib\\site-packages\\sklearn\\metrics\\_classification.py:1245: UndefinedMetricWarning: Precision and F-score are ill-defined and being set to 0.0 in labels with no predicted samples. Use `zero_division` parameter to control this behavior.\n",
      "  _warn_prf(average, modifier, msg_start, len(result))\n",
      "C:\\ProgramData\\Anaconda3\\envs\\newenvt\\lib\\site-packages\\sklearn\\metrics\\_classification.py:1245: UndefinedMetricWarning: Precision and F-score are ill-defined and being set to 0.0 in labels with no predicted samples. Use `zero_division` parameter to control this behavior.\n",
      "  _warn_prf(average, modifier, msg_start, len(result))\n",
      "C:\\ProgramData\\Anaconda3\\envs\\newenvt\\lib\\site-packages\\sklearn\\multiclass.py:81: UserWarning: Label 0 is present in all training examples.\n",
      "  str(classes[c]))\n"
     ]
    },
    {
     "name": "stdout",
     "output_type": "stream",
     "text": [
      "BRFSS MultiLabel Cancer + Diabetes - Grounded, Knowledge Graph-Based Feature Selection - Random Forest\n",
      "              precision    recall  f1-score   support\n",
      "\n",
      "           0       0.88      1.00      0.94      4878\n",
      "           1       0.00      0.00      0.00       663\n",
      "\n",
      "    accuracy                           0.88      5541\n",
      "   macro avg       0.44      0.50      0.47      5541\n",
      "weighted avg       0.78      0.88      0.82      5541\n",
      "\n",
      "Hamming Loss: 0.11965349214943151\n"
     ]
    },
    {
     "name": "stderr",
     "output_type": "stream",
     "text": [
      "C:\\ProgramData\\Anaconda3\\envs\\newenvt\\lib\\site-packages\\sklearn\\metrics\\_classification.py:1245: UndefinedMetricWarning: Precision and F-score are ill-defined and being set to 0.0 in labels with no predicted samples. Use `zero_division` parameter to control this behavior.\n",
      "  _warn_prf(average, modifier, msg_start, len(result))\n",
      "C:\\ProgramData\\Anaconda3\\envs\\newenvt\\lib\\site-packages\\sklearn\\metrics\\_classification.py:1245: UndefinedMetricWarning: Precision and F-score are ill-defined and being set to 0.0 in labels with no predicted samples. Use `zero_division` parameter to control this behavior.\n",
      "  _warn_prf(average, modifier, msg_start, len(result))\n",
      "C:\\ProgramData\\Anaconda3\\envs\\newenvt\\lib\\site-packages\\sklearn\\metrics\\_classification.py:1245: UndefinedMetricWarning: Precision and F-score are ill-defined and being set to 0.0 in labels with no predicted samples. Use `zero_division` parameter to control this behavior.\n",
      "  _warn_prf(average, modifier, msg_start, len(result))\n",
      "C:\\ProgramData\\Anaconda3\\envs\\newenvt\\lib\\site-packages\\sklearn\\multiclass.py:81: UserWarning: Label 0 is present in all training examples.\n",
      "  str(classes[c]))\n"
     ]
    },
    {
     "name": "stdout",
     "output_type": "stream",
     "text": [
      "BRFSS MultiLabel Cancer + Diabetes - Grounded, Knowledge Graph-Based Feature Selection - Random Forest\n",
      "              precision    recall  f1-score   support\n",
      "\n",
      "           0       0.88      1.00      0.94      4898\n",
      "           1       0.00      0.00      0.00       643\n",
      "\n",
      "    accuracy                           0.88      5541\n",
      "   macro avg       0.44      0.50      0.47      5541\n",
      "weighted avg       0.78      0.88      0.83      5541\n",
      "\n",
      "Hamming Loss: 0.11604403537267641\n",
      "BRFSS MultiLabel Cancer + Diabetes - Grounded, Knowledge Graph-Based Feature Selection - Random Forest AGGREGATE\n",
      "              precision    recall  f1-score   support\n",
      "\n",
      "           0       0.87      1.00      0.93     24057\n",
      "           1       0.00      0.00      0.00      3651\n",
      "\n",
      "    accuracy                           0.87     27708\n",
      "   macro avg       0.43      0.50      0.46     27708\n",
      "weighted avg       0.75      0.87      0.81     27708\n",
      "\n",
      "Hamming Loss: 0.1317659941366843\n"
     ]
    },
    {
     "name": "stderr",
     "output_type": "stream",
     "text": [
      "C:\\ProgramData\\Anaconda3\\envs\\newenvt\\lib\\site-packages\\sklearn\\metrics\\_classification.py:1245: UndefinedMetricWarning: Precision and F-score are ill-defined and being set to 0.0 in labels with no predicted samples. Use `zero_division` parameter to control this behavior.\n",
      "  _warn_prf(average, modifier, msg_start, len(result))\n",
      "C:\\ProgramData\\Anaconda3\\envs\\newenvt\\lib\\site-packages\\sklearn\\metrics\\_classification.py:1245: UndefinedMetricWarning: Precision and F-score are ill-defined and being set to 0.0 in labels with no predicted samples. Use `zero_division` parameter to control this behavior.\n",
      "  _warn_prf(average, modifier, msg_start, len(result))\n",
      "C:\\ProgramData\\Anaconda3\\envs\\newenvt\\lib\\site-packages\\sklearn\\metrics\\_classification.py:1245: UndefinedMetricWarning: Precision and F-score are ill-defined and being set to 0.0 in labels with no predicted samples. Use `zero_division` parameter to control this behavior.\n",
      "  _warn_prf(average, modifier, msg_start, len(result))\n",
      "C:\\ProgramData\\Anaconda3\\envs\\newenvt\\lib\\site-packages\\sklearn\\metrics\\_classification.py:1245: UndefinedMetricWarning: Precision and F-score are ill-defined and being set to 0.0 in labels with no predicted samples. Use `zero_division` parameter to control this behavior.\n",
      "  _warn_prf(average, modifier, msg_start, len(result))\n",
      "C:\\ProgramData\\Anaconda3\\envs\\newenvt\\lib\\site-packages\\sklearn\\metrics\\_classification.py:1245: UndefinedMetricWarning: Precision and F-score are ill-defined and being set to 0.0 in labels with no predicted samples. Use `zero_division` parameter to control this behavior.\n",
      "  _warn_prf(average, modifier, msg_start, len(result))\n",
      "C:\\ProgramData\\Anaconda3\\envs\\newenvt\\lib\\site-packages\\sklearn\\metrics\\_classification.py:1245: UndefinedMetricWarning: Precision and F-score are ill-defined and being set to 0.0 in labels with no predicted samples. Use `zero_division` parameter to control this behavior.\n",
      "  _warn_prf(average, modifier, msg_start, len(result))\n",
      "C:\\ProgramData\\Anaconda3\\envs\\newenvt\\lib\\site-packages\\sklearn\\multiclass.py:81: UserWarning: Label 0 is present in all training examples.\n",
      "  str(classes[c]))\n"
     ]
    },
    {
     "name": "stdout",
     "output_type": "stream",
     "text": [
      "BRFSS MultiLabel Cancer + Diabetes - Grounded, Knowledge Graph-Based Feature Selection - KNN\n",
      "              precision    recall  f1-score   support\n",
      "\n",
      "           0       0.86      1.00      0.92      4751\n",
      "           1       0.00      0.00      0.00       791\n",
      "\n",
      "    accuracy                           0.86      5542\n",
      "   macro avg       0.43      0.50      0.46      5542\n",
      "weighted avg       0.73      0.86      0.79      5542\n",
      "\n",
      "Hamming Loss: 0.14272825694695057\n"
     ]
    },
    {
     "name": "stderr",
     "output_type": "stream",
     "text": [
      "C:\\ProgramData\\Anaconda3\\envs\\newenvt\\lib\\site-packages\\sklearn\\metrics\\_classification.py:1245: UndefinedMetricWarning: Precision and F-score are ill-defined and being set to 0.0 in labels with no predicted samples. Use `zero_division` parameter to control this behavior.\n",
      "  _warn_prf(average, modifier, msg_start, len(result))\n",
      "C:\\ProgramData\\Anaconda3\\envs\\newenvt\\lib\\site-packages\\sklearn\\metrics\\_classification.py:1245: UndefinedMetricWarning: Precision and F-score are ill-defined and being set to 0.0 in labels with no predicted samples. Use `zero_division` parameter to control this behavior.\n",
      "  _warn_prf(average, modifier, msg_start, len(result))\n",
      "C:\\ProgramData\\Anaconda3\\envs\\newenvt\\lib\\site-packages\\sklearn\\metrics\\_classification.py:1245: UndefinedMetricWarning: Precision and F-score are ill-defined and being set to 0.0 in labels with no predicted samples. Use `zero_division` parameter to control this behavior.\n",
      "  _warn_prf(average, modifier, msg_start, len(result))\n",
      "C:\\ProgramData\\Anaconda3\\envs\\newenvt\\lib\\site-packages\\sklearn\\multiclass.py:81: UserWarning: Label 0 is present in all training examples.\n",
      "  str(classes[c]))\n"
     ]
    },
    {
     "name": "stdout",
     "output_type": "stream",
     "text": [
      "BRFSS MultiLabel Cancer + Diabetes - Grounded, Knowledge Graph-Based Feature Selection - KNN\n",
      "              precision    recall  f1-score   support\n",
      "\n",
      "           0       0.86      1.00      0.93      4783\n",
      "           1       0.00      0.00      0.00       759\n",
      "\n",
      "    accuracy                           0.86      5542\n",
      "   macro avg       0.43      0.50      0.46      5542\n",
      "weighted avg       0.74      0.86      0.80      5542\n",
      "\n",
      "Hamming Loss: 0.13695416817033562\n"
     ]
    },
    {
     "name": "stderr",
     "output_type": "stream",
     "text": [
      "C:\\ProgramData\\Anaconda3\\envs\\newenvt\\lib\\site-packages\\sklearn\\metrics\\_classification.py:1245: UndefinedMetricWarning: Precision and F-score are ill-defined and being set to 0.0 in labels with no predicted samples. Use `zero_division` parameter to control this behavior.\n",
      "  _warn_prf(average, modifier, msg_start, len(result))\n",
      "C:\\ProgramData\\Anaconda3\\envs\\newenvt\\lib\\site-packages\\sklearn\\metrics\\_classification.py:1245: UndefinedMetricWarning: Precision and F-score are ill-defined and being set to 0.0 in labels with no predicted samples. Use `zero_division` parameter to control this behavior.\n",
      "  _warn_prf(average, modifier, msg_start, len(result))\n",
      "C:\\ProgramData\\Anaconda3\\envs\\newenvt\\lib\\site-packages\\sklearn\\metrics\\_classification.py:1245: UndefinedMetricWarning: Precision and F-score are ill-defined and being set to 0.0 in labels with no predicted samples. Use `zero_division` parameter to control this behavior.\n",
      "  _warn_prf(average, modifier, msg_start, len(result))\n",
      "C:\\ProgramData\\Anaconda3\\envs\\newenvt\\lib\\site-packages\\sklearn\\multiclass.py:81: UserWarning: Label 0 is present in all training examples.\n",
      "  str(classes[c]))\n"
     ]
    },
    {
     "name": "stdout",
     "output_type": "stream",
     "text": [
      "BRFSS MultiLabel Cancer + Diabetes - Grounded, Knowledge Graph-Based Feature Selection - KNN\n",
      "              precision    recall  f1-score   support\n",
      "\n",
      "           0       0.86      1.00      0.92      4747\n",
      "           1       0.00      0.00      0.00       795\n",
      "\n",
      "    accuracy                           0.86      5542\n",
      "   macro avg       0.43      0.50      0.46      5542\n",
      "weighted avg       0.73      0.86      0.79      5542\n",
      "\n",
      "Hamming Loss: 0.14345001804402743\n"
     ]
    },
    {
     "name": "stderr",
     "output_type": "stream",
     "text": [
      "C:\\ProgramData\\Anaconda3\\envs\\newenvt\\lib\\site-packages\\sklearn\\metrics\\_classification.py:1245: UndefinedMetricWarning: Precision and F-score are ill-defined and being set to 0.0 in labels with no predicted samples. Use `zero_division` parameter to control this behavior.\n",
      "  _warn_prf(average, modifier, msg_start, len(result))\n",
      "C:\\ProgramData\\Anaconda3\\envs\\newenvt\\lib\\site-packages\\sklearn\\metrics\\_classification.py:1245: UndefinedMetricWarning: Precision and F-score are ill-defined and being set to 0.0 in labels with no predicted samples. Use `zero_division` parameter to control this behavior.\n",
      "  _warn_prf(average, modifier, msg_start, len(result))\n",
      "C:\\ProgramData\\Anaconda3\\envs\\newenvt\\lib\\site-packages\\sklearn\\metrics\\_classification.py:1245: UndefinedMetricWarning: Precision and F-score are ill-defined and being set to 0.0 in labels with no predicted samples. Use `zero_division` parameter to control this behavior.\n",
      "  _warn_prf(average, modifier, msg_start, len(result))\n",
      "C:\\ProgramData\\Anaconda3\\envs\\newenvt\\lib\\site-packages\\sklearn\\multiclass.py:81: UserWarning: Label 0 is present in all training examples.\n",
      "  str(classes[c]))\n"
     ]
    },
    {
     "name": "stdout",
     "output_type": "stream",
     "text": [
      "BRFSS MultiLabel Cancer + Diabetes - Grounded, Knowledge Graph-Based Feature Selection - KNN\n",
      "              precision    recall  f1-score   support\n",
      "\n",
      "           0       0.88      1.00      0.94      4878\n",
      "           1       0.00      0.00      0.00       663\n",
      "\n",
      "    accuracy                           0.88      5541\n",
      "   macro avg       0.44      0.50      0.47      5541\n",
      "weighted avg       0.78      0.88      0.82      5541\n",
      "\n",
      "Hamming Loss: 0.11965349214943151\n"
     ]
    },
    {
     "name": "stderr",
     "output_type": "stream",
     "text": [
      "C:\\ProgramData\\Anaconda3\\envs\\newenvt\\lib\\site-packages\\sklearn\\metrics\\_classification.py:1245: UndefinedMetricWarning: Precision and F-score are ill-defined and being set to 0.0 in labels with no predicted samples. Use `zero_division` parameter to control this behavior.\n",
      "  _warn_prf(average, modifier, msg_start, len(result))\n",
      "C:\\ProgramData\\Anaconda3\\envs\\newenvt\\lib\\site-packages\\sklearn\\metrics\\_classification.py:1245: UndefinedMetricWarning: Precision and F-score are ill-defined and being set to 0.0 in labels with no predicted samples. Use `zero_division` parameter to control this behavior.\n",
      "  _warn_prf(average, modifier, msg_start, len(result))\n",
      "C:\\ProgramData\\Anaconda3\\envs\\newenvt\\lib\\site-packages\\sklearn\\metrics\\_classification.py:1245: UndefinedMetricWarning: Precision and F-score are ill-defined and being set to 0.0 in labels with no predicted samples. Use `zero_division` parameter to control this behavior.\n",
      "  _warn_prf(average, modifier, msg_start, len(result))\n",
      "C:\\ProgramData\\Anaconda3\\envs\\newenvt\\lib\\site-packages\\sklearn\\multiclass.py:81: UserWarning: Label 0 is present in all training examples.\n",
      "  str(classes[c]))\n"
     ]
    },
    {
     "name": "stdout",
     "output_type": "stream",
     "text": [
      "BRFSS MultiLabel Cancer + Diabetes - Grounded, Knowledge Graph-Based Feature Selection - KNN\n",
      "              precision    recall  f1-score   support\n",
      "\n",
      "           0       0.88      1.00      0.94      4898\n",
      "           1       0.00      0.00      0.00       643\n",
      "\n",
      "    accuracy                           0.88      5541\n",
      "   macro avg       0.44      0.50      0.47      5541\n",
      "weighted avg       0.78      0.88      0.83      5541\n",
      "\n",
      "Hamming Loss: 0.11604403537267641\n",
      "BRFSS MultiLabel Cancer + Diabetes - Grounded, Knowledge Graph-Based Feature Selection - KNN AGGREGATE\n",
      "              precision    recall  f1-score   support\n",
      "\n",
      "           0       0.87      1.00      0.93     24057\n",
      "           1       0.00      0.00      0.00      3651\n",
      "\n",
      "    accuracy                           0.87     27708\n",
      "   macro avg       0.43      0.50      0.46     27708\n",
      "weighted avg       0.75      0.87      0.81     27708\n",
      "\n",
      "Hamming Loss: 0.1317659941366843\n"
     ]
    },
    {
     "name": "stderr",
     "output_type": "stream",
     "text": [
      "C:\\ProgramData\\Anaconda3\\envs\\newenvt\\lib\\site-packages\\sklearn\\metrics\\_classification.py:1245: UndefinedMetricWarning: Precision and F-score are ill-defined and being set to 0.0 in labels with no predicted samples. Use `zero_division` parameter to control this behavior.\n",
      "  _warn_prf(average, modifier, msg_start, len(result))\n",
      "C:\\ProgramData\\Anaconda3\\envs\\newenvt\\lib\\site-packages\\sklearn\\metrics\\_classification.py:1245: UndefinedMetricWarning: Precision and F-score are ill-defined and being set to 0.0 in labels with no predicted samples. Use `zero_division` parameter to control this behavior.\n",
      "  _warn_prf(average, modifier, msg_start, len(result))\n",
      "C:\\ProgramData\\Anaconda3\\envs\\newenvt\\lib\\site-packages\\sklearn\\metrics\\_classification.py:1245: UndefinedMetricWarning: Precision and F-score are ill-defined and being set to 0.0 in labels with no predicted samples. Use `zero_division` parameter to control this behavior.\n",
      "  _warn_prf(average, modifier, msg_start, len(result))\n",
      "C:\\ProgramData\\Anaconda3\\envs\\newenvt\\lib\\site-packages\\sklearn\\metrics\\_classification.py:1245: UndefinedMetricWarning: Precision and F-score are ill-defined and being set to 0.0 in labels with no predicted samples. Use `zero_division` parameter to control this behavior.\n",
      "  _warn_prf(average, modifier, msg_start, len(result))\n",
      "C:\\ProgramData\\Anaconda3\\envs\\newenvt\\lib\\site-packages\\sklearn\\metrics\\_classification.py:1245: UndefinedMetricWarning: Precision and F-score are ill-defined and being set to 0.0 in labels with no predicted samples. Use `zero_division` parameter to control this behavior.\n",
      "  _warn_prf(average, modifier, msg_start, len(result))\n",
      "C:\\ProgramData\\Anaconda3\\envs\\newenvt\\lib\\site-packages\\sklearn\\metrics\\_classification.py:1245: UndefinedMetricWarning: Precision and F-score are ill-defined and being set to 0.0 in labels with no predicted samples. Use `zero_division` parameter to control this behavior.\n",
      "  _warn_prf(average, modifier, msg_start, len(result))\n",
      "C:\\ProgramData\\Anaconda3\\envs\\newenvt\\lib\\site-packages\\sklearn\\multiclass.py:81: UserWarning: Label 0 is present in all training examples.\n",
      "  str(classes[c]))\n"
     ]
    },
    {
     "name": "stdout",
     "output_type": "stream",
     "text": [
      "BRFSS MultiLabel Cancer + Diabetes - Grounded - SVM\n",
      "              precision    recall  f1-score   support\n",
      "\n",
      "           0       0.86      1.00      0.92      4751\n",
      "           1       0.00      0.00      0.00       791\n",
      "\n",
      "    accuracy                           0.86      5542\n",
      "   macro avg       0.43      0.50      0.46      5542\n",
      "weighted avg       0.73      0.86      0.79      5542\n",
      "\n",
      "Hamming Loss: 0.14272825694695057\n"
     ]
    },
    {
     "name": "stderr",
     "output_type": "stream",
     "text": [
      "C:\\ProgramData\\Anaconda3\\envs\\newenvt\\lib\\site-packages\\sklearn\\metrics\\_classification.py:1245: UndefinedMetricWarning: Precision and F-score are ill-defined and being set to 0.0 in labels with no predicted samples. Use `zero_division` parameter to control this behavior.\n",
      "  _warn_prf(average, modifier, msg_start, len(result))\n",
      "C:\\ProgramData\\Anaconda3\\envs\\newenvt\\lib\\site-packages\\sklearn\\metrics\\_classification.py:1245: UndefinedMetricWarning: Precision and F-score are ill-defined and being set to 0.0 in labels with no predicted samples. Use `zero_division` parameter to control this behavior.\n",
      "  _warn_prf(average, modifier, msg_start, len(result))\n",
      "C:\\ProgramData\\Anaconda3\\envs\\newenvt\\lib\\site-packages\\sklearn\\metrics\\_classification.py:1245: UndefinedMetricWarning: Precision and F-score are ill-defined and being set to 0.0 in labels with no predicted samples. Use `zero_division` parameter to control this behavior.\n",
      "  _warn_prf(average, modifier, msg_start, len(result))\n",
      "C:\\ProgramData\\Anaconda3\\envs\\newenvt\\lib\\site-packages\\sklearn\\multiclass.py:81: UserWarning: Label 0 is present in all training examples.\n",
      "  str(classes[c]))\n"
     ]
    },
    {
     "name": "stdout",
     "output_type": "stream",
     "text": [
      "BRFSS MultiLabel Cancer + Diabetes - Grounded - SVM\n",
      "              precision    recall  f1-score   support\n",
      "\n",
      "           0       0.86      1.00      0.93      4783\n",
      "           1       0.00      0.00      0.00       759\n",
      "\n",
      "    accuracy                           0.86      5542\n",
      "   macro avg       0.43      0.50      0.46      5542\n",
      "weighted avg       0.74      0.86      0.80      5542\n",
      "\n",
      "Hamming Loss: 0.13695416817033562\n"
     ]
    },
    {
     "name": "stderr",
     "output_type": "stream",
     "text": [
      "C:\\ProgramData\\Anaconda3\\envs\\newenvt\\lib\\site-packages\\sklearn\\metrics\\_classification.py:1245: UndefinedMetricWarning: Precision and F-score are ill-defined and being set to 0.0 in labels with no predicted samples. Use `zero_division` parameter to control this behavior.\n",
      "  _warn_prf(average, modifier, msg_start, len(result))\n",
      "C:\\ProgramData\\Anaconda3\\envs\\newenvt\\lib\\site-packages\\sklearn\\metrics\\_classification.py:1245: UndefinedMetricWarning: Precision and F-score are ill-defined and being set to 0.0 in labels with no predicted samples. Use `zero_division` parameter to control this behavior.\n",
      "  _warn_prf(average, modifier, msg_start, len(result))\n",
      "C:\\ProgramData\\Anaconda3\\envs\\newenvt\\lib\\site-packages\\sklearn\\metrics\\_classification.py:1245: UndefinedMetricWarning: Precision and F-score are ill-defined and being set to 0.0 in labels with no predicted samples. Use `zero_division` parameter to control this behavior.\n",
      "  _warn_prf(average, modifier, msg_start, len(result))\n",
      "C:\\ProgramData\\Anaconda3\\envs\\newenvt\\lib\\site-packages\\sklearn\\multiclass.py:81: UserWarning: Label 0 is present in all training examples.\n",
      "  str(classes[c]))\n"
     ]
    },
    {
     "name": "stdout",
     "output_type": "stream",
     "text": [
      "BRFSS MultiLabel Cancer + Diabetes - Grounded - SVM\n",
      "              precision    recall  f1-score   support\n",
      "\n",
      "           0       0.86      1.00      0.92      4747\n",
      "           1       0.00      0.00      0.00       795\n",
      "\n",
      "    accuracy                           0.86      5542\n",
      "   macro avg       0.43      0.50      0.46      5542\n",
      "weighted avg       0.73      0.86      0.79      5542\n",
      "\n",
      "Hamming Loss: 0.14345001804402743\n"
     ]
    },
    {
     "name": "stderr",
     "output_type": "stream",
     "text": [
      "C:\\ProgramData\\Anaconda3\\envs\\newenvt\\lib\\site-packages\\sklearn\\metrics\\_classification.py:1245: UndefinedMetricWarning: Precision and F-score are ill-defined and being set to 0.0 in labels with no predicted samples. Use `zero_division` parameter to control this behavior.\n",
      "  _warn_prf(average, modifier, msg_start, len(result))\n",
      "C:\\ProgramData\\Anaconda3\\envs\\newenvt\\lib\\site-packages\\sklearn\\metrics\\_classification.py:1245: UndefinedMetricWarning: Precision and F-score are ill-defined and being set to 0.0 in labels with no predicted samples. Use `zero_division` parameter to control this behavior.\n",
      "  _warn_prf(average, modifier, msg_start, len(result))\n",
      "C:\\ProgramData\\Anaconda3\\envs\\newenvt\\lib\\site-packages\\sklearn\\metrics\\_classification.py:1245: UndefinedMetricWarning: Precision and F-score are ill-defined and being set to 0.0 in labels with no predicted samples. Use `zero_division` parameter to control this behavior.\n",
      "  _warn_prf(average, modifier, msg_start, len(result))\n",
      "C:\\ProgramData\\Anaconda3\\envs\\newenvt\\lib\\site-packages\\sklearn\\multiclass.py:81: UserWarning: Label 0 is present in all training examples.\n",
      "  str(classes[c]))\n"
     ]
    },
    {
     "name": "stdout",
     "output_type": "stream",
     "text": [
      "BRFSS MultiLabel Cancer + Diabetes - Grounded - SVM\n",
      "              precision    recall  f1-score   support\n",
      "\n",
      "           0       0.88      1.00      0.94      4878\n",
      "           1       0.00      0.00      0.00       663\n",
      "\n",
      "    accuracy                           0.88      5541\n",
      "   macro avg       0.44      0.50      0.47      5541\n",
      "weighted avg       0.78      0.88      0.82      5541\n",
      "\n",
      "Hamming Loss: 0.11965349214943151\n"
     ]
    },
    {
     "name": "stderr",
     "output_type": "stream",
     "text": [
      "C:\\ProgramData\\Anaconda3\\envs\\newenvt\\lib\\site-packages\\sklearn\\metrics\\_classification.py:1245: UndefinedMetricWarning: Precision and F-score are ill-defined and being set to 0.0 in labels with no predicted samples. Use `zero_division` parameter to control this behavior.\n",
      "  _warn_prf(average, modifier, msg_start, len(result))\n",
      "C:\\ProgramData\\Anaconda3\\envs\\newenvt\\lib\\site-packages\\sklearn\\metrics\\_classification.py:1245: UndefinedMetricWarning: Precision and F-score are ill-defined and being set to 0.0 in labels with no predicted samples. Use `zero_division` parameter to control this behavior.\n",
      "  _warn_prf(average, modifier, msg_start, len(result))\n",
      "C:\\ProgramData\\Anaconda3\\envs\\newenvt\\lib\\site-packages\\sklearn\\metrics\\_classification.py:1245: UndefinedMetricWarning: Precision and F-score are ill-defined and being set to 0.0 in labels with no predicted samples. Use `zero_division` parameter to control this behavior.\n",
      "  _warn_prf(average, modifier, msg_start, len(result))\n",
      "C:\\ProgramData\\Anaconda3\\envs\\newenvt\\lib\\site-packages\\sklearn\\multiclass.py:81: UserWarning: Label 0 is present in all training examples.\n",
      "  str(classes[c]))\n"
     ]
    },
    {
     "name": "stdout",
     "output_type": "stream",
     "text": [
      "BRFSS MultiLabel Cancer + Diabetes - Grounded - SVM\n",
      "              precision    recall  f1-score   support\n",
      "\n",
      "           0       0.88      1.00      0.94      4898\n",
      "           1       0.00      0.00      0.00       643\n",
      "\n",
      "    accuracy                           0.88      5541\n",
      "   macro avg       0.44      0.50      0.47      5541\n",
      "weighted avg       0.78      0.88      0.83      5541\n",
      "\n",
      "Hamming Loss: 0.11604403537267641\n",
      "BRFSS MultiLabel Cancer + Diabetes - Grounded, Knowledge Graph-Based Feature Selection - SVM AGGREGATE\n",
      "              precision    recall  f1-score   support\n",
      "\n",
      "           0       0.87      1.00      0.93     24057\n",
      "           1       0.00      0.00      0.00      3651\n",
      "\n",
      "    accuracy                           0.87     27708\n",
      "   macro avg       0.43      0.50      0.46     27708\n",
      "weighted avg       0.75      0.87      0.81     27708\n",
      "\n",
      "Hamming Loss: 0.1317659941366843\n"
     ]
    },
    {
     "name": "stderr",
     "output_type": "stream",
     "text": [
      "C:\\ProgramData\\Anaconda3\\envs\\newenvt\\lib\\site-packages\\sklearn\\metrics\\_classification.py:1245: UndefinedMetricWarning: Precision and F-score are ill-defined and being set to 0.0 in labels with no predicted samples. Use `zero_division` parameter to control this behavior.\n",
      "  _warn_prf(average, modifier, msg_start, len(result))\n",
      "C:\\ProgramData\\Anaconda3\\envs\\newenvt\\lib\\site-packages\\sklearn\\metrics\\_classification.py:1245: UndefinedMetricWarning: Precision and F-score are ill-defined and being set to 0.0 in labels with no predicted samples. Use `zero_division` parameter to control this behavior.\n",
      "  _warn_prf(average, modifier, msg_start, len(result))\n",
      "C:\\ProgramData\\Anaconda3\\envs\\newenvt\\lib\\site-packages\\sklearn\\metrics\\_classification.py:1245: UndefinedMetricWarning: Precision and F-score are ill-defined and being set to 0.0 in labels with no predicted samples. Use `zero_division` parameter to control this behavior.\n",
      "  _warn_prf(average, modifier, msg_start, len(result))\n",
      "C:\\ProgramData\\Anaconda3\\envs\\newenvt\\lib\\site-packages\\sklearn\\metrics\\_classification.py:1245: UndefinedMetricWarning: Precision and F-score are ill-defined and being set to 0.0 in labels with no predicted samples. Use `zero_division` parameter to control this behavior.\n",
      "  _warn_prf(average, modifier, msg_start, len(result))\n",
      "C:\\ProgramData\\Anaconda3\\envs\\newenvt\\lib\\site-packages\\sklearn\\metrics\\_classification.py:1245: UndefinedMetricWarning: Precision and F-score are ill-defined and being set to 0.0 in labels with no predicted samples. Use `zero_division` parameter to control this behavior.\n",
      "  _warn_prf(average, modifier, msg_start, len(result))\n",
      "C:\\ProgramData\\Anaconda3\\envs\\newenvt\\lib\\site-packages\\sklearn\\metrics\\_classification.py:1245: UndefinedMetricWarning: Precision and F-score are ill-defined and being set to 0.0 in labels with no predicted samples. Use `zero_division` parameter to control this behavior.\n",
      "  _warn_prf(average, modifier, msg_start, len(result))\n",
      "C:\\ProgramData\\Anaconda3\\envs\\newenvt\\lib\\site-packages\\sklearn\\multiclass.py:81: UserWarning: Label 0 is present in all training examples.\n",
      "  str(classes[c]))\n"
     ]
    },
    {
     "name": "stdout",
     "output_type": "stream",
     "text": [
      "BRFSS MultiLabel Cancer + Diabetes - Grounded - RUSBoost\n",
      "              precision    recall  f1-score   support\n",
      "\n",
      "           0       0.86      1.00      0.92      4751\n",
      "           1       0.00      0.00      0.00       791\n",
      "\n",
      "    accuracy                           0.86      5542\n",
      "   macro avg       0.43      0.50      0.46      5542\n",
      "weighted avg       0.73      0.86      0.79      5542\n",
      "\n",
      "Hamming Loss: 0.14272825694695057\n"
     ]
    },
    {
     "name": "stderr",
     "output_type": "stream",
     "text": [
      "C:\\ProgramData\\Anaconda3\\envs\\newenvt\\lib\\site-packages\\sklearn\\metrics\\_classification.py:1245: UndefinedMetricWarning: Precision and F-score are ill-defined and being set to 0.0 in labels with no predicted samples. Use `zero_division` parameter to control this behavior.\n",
      "  _warn_prf(average, modifier, msg_start, len(result))\n",
      "C:\\ProgramData\\Anaconda3\\envs\\newenvt\\lib\\site-packages\\sklearn\\metrics\\_classification.py:1245: UndefinedMetricWarning: Precision and F-score are ill-defined and being set to 0.0 in labels with no predicted samples. Use `zero_division` parameter to control this behavior.\n",
      "  _warn_prf(average, modifier, msg_start, len(result))\n",
      "C:\\ProgramData\\Anaconda3\\envs\\newenvt\\lib\\site-packages\\sklearn\\metrics\\_classification.py:1245: UndefinedMetricWarning: Precision and F-score are ill-defined and being set to 0.0 in labels with no predicted samples. Use `zero_division` parameter to control this behavior.\n",
      "  _warn_prf(average, modifier, msg_start, len(result))\n",
      "C:\\ProgramData\\Anaconda3\\envs\\newenvt\\lib\\site-packages\\sklearn\\multiclass.py:81: UserWarning: Label 0 is present in all training examples.\n",
      "  str(classes[c]))\n"
     ]
    },
    {
     "name": "stdout",
     "output_type": "stream",
     "text": [
      "BRFSS MultiLabel Cancer + Diabetes - Grounded - RUSBoost\n",
      "              precision    recall  f1-score   support\n",
      "\n",
      "           0       0.86      1.00      0.93      4783\n",
      "           1       0.00      0.00      0.00       759\n",
      "\n",
      "    accuracy                           0.86      5542\n",
      "   macro avg       0.43      0.50      0.46      5542\n",
      "weighted avg       0.74      0.86      0.80      5542\n",
      "\n",
      "Hamming Loss: 0.13695416817033562\n"
     ]
    },
    {
     "name": "stderr",
     "output_type": "stream",
     "text": [
      "C:\\ProgramData\\Anaconda3\\envs\\newenvt\\lib\\site-packages\\sklearn\\metrics\\_classification.py:1245: UndefinedMetricWarning: Precision and F-score are ill-defined and being set to 0.0 in labels with no predicted samples. Use `zero_division` parameter to control this behavior.\n",
      "  _warn_prf(average, modifier, msg_start, len(result))\n",
      "C:\\ProgramData\\Anaconda3\\envs\\newenvt\\lib\\site-packages\\sklearn\\metrics\\_classification.py:1245: UndefinedMetricWarning: Precision and F-score are ill-defined and being set to 0.0 in labels with no predicted samples. Use `zero_division` parameter to control this behavior.\n",
      "  _warn_prf(average, modifier, msg_start, len(result))\n",
      "C:\\ProgramData\\Anaconda3\\envs\\newenvt\\lib\\site-packages\\sklearn\\metrics\\_classification.py:1245: UndefinedMetricWarning: Precision and F-score are ill-defined and being set to 0.0 in labels with no predicted samples. Use `zero_division` parameter to control this behavior.\n",
      "  _warn_prf(average, modifier, msg_start, len(result))\n",
      "C:\\ProgramData\\Anaconda3\\envs\\newenvt\\lib\\site-packages\\sklearn\\multiclass.py:81: UserWarning: Label 0 is present in all training examples.\n",
      "  str(classes[c]))\n"
     ]
    },
    {
     "name": "stdout",
     "output_type": "stream",
     "text": [
      "BRFSS MultiLabel Cancer + Diabetes - Grounded - RUSBoost\n",
      "              precision    recall  f1-score   support\n",
      "\n",
      "           0       0.86      1.00      0.92      4747\n",
      "           1       0.00      0.00      0.00       795\n",
      "\n",
      "    accuracy                           0.86      5542\n",
      "   macro avg       0.43      0.50      0.46      5542\n",
      "weighted avg       0.73      0.86      0.79      5542\n",
      "\n",
      "Hamming Loss: 0.14345001804402743\n"
     ]
    },
    {
     "name": "stderr",
     "output_type": "stream",
     "text": [
      "C:\\ProgramData\\Anaconda3\\envs\\newenvt\\lib\\site-packages\\sklearn\\metrics\\_classification.py:1245: UndefinedMetricWarning: Precision and F-score are ill-defined and being set to 0.0 in labels with no predicted samples. Use `zero_division` parameter to control this behavior.\n",
      "  _warn_prf(average, modifier, msg_start, len(result))\n",
      "C:\\ProgramData\\Anaconda3\\envs\\newenvt\\lib\\site-packages\\sklearn\\metrics\\_classification.py:1245: UndefinedMetricWarning: Precision and F-score are ill-defined and being set to 0.0 in labels with no predicted samples. Use `zero_division` parameter to control this behavior.\n",
      "  _warn_prf(average, modifier, msg_start, len(result))\n",
      "C:\\ProgramData\\Anaconda3\\envs\\newenvt\\lib\\site-packages\\sklearn\\metrics\\_classification.py:1245: UndefinedMetricWarning: Precision and F-score are ill-defined and being set to 0.0 in labels with no predicted samples. Use `zero_division` parameter to control this behavior.\n",
      "  _warn_prf(average, modifier, msg_start, len(result))\n",
      "C:\\ProgramData\\Anaconda3\\envs\\newenvt\\lib\\site-packages\\sklearn\\multiclass.py:81: UserWarning: Label 0 is present in all training examples.\n",
      "  str(classes[c]))\n"
     ]
    },
    {
     "name": "stdout",
     "output_type": "stream",
     "text": [
      "BRFSS MultiLabel Cancer + Diabetes - Grounded - RUSBoost\n",
      "              precision    recall  f1-score   support\n",
      "\n",
      "           0       0.88      1.00      0.94      4878\n",
      "           1       0.00      0.00      0.00       663\n",
      "\n",
      "    accuracy                           0.88      5541\n",
      "   macro avg       0.44      0.50      0.47      5541\n",
      "weighted avg       0.78      0.88      0.82      5541\n",
      "\n",
      "Hamming Loss: 0.11965349214943151\n"
     ]
    },
    {
     "name": "stderr",
     "output_type": "stream",
     "text": [
      "C:\\ProgramData\\Anaconda3\\envs\\newenvt\\lib\\site-packages\\sklearn\\metrics\\_classification.py:1245: UndefinedMetricWarning: Precision and F-score are ill-defined and being set to 0.0 in labels with no predicted samples. Use `zero_division` parameter to control this behavior.\n",
      "  _warn_prf(average, modifier, msg_start, len(result))\n",
      "C:\\ProgramData\\Anaconda3\\envs\\newenvt\\lib\\site-packages\\sklearn\\metrics\\_classification.py:1245: UndefinedMetricWarning: Precision and F-score are ill-defined and being set to 0.0 in labels with no predicted samples. Use `zero_division` parameter to control this behavior.\n",
      "  _warn_prf(average, modifier, msg_start, len(result))\n",
      "C:\\ProgramData\\Anaconda3\\envs\\newenvt\\lib\\site-packages\\sklearn\\metrics\\_classification.py:1245: UndefinedMetricWarning: Precision and F-score are ill-defined and being set to 0.0 in labels with no predicted samples. Use `zero_division` parameter to control this behavior.\n",
      "  _warn_prf(average, modifier, msg_start, len(result))\n",
      "C:\\ProgramData\\Anaconda3\\envs\\newenvt\\lib\\site-packages\\sklearn\\multiclass.py:81: UserWarning: Label 0 is present in all training examples.\n",
      "  str(classes[c]))\n"
     ]
    },
    {
     "name": "stdout",
     "output_type": "stream",
     "text": [
      "BRFSS MultiLabel Cancer + Diabetes - Grounded - RUSBoost\n",
      "              precision    recall  f1-score   support\n",
      "\n",
      "           0       0.88      1.00      0.94      4898\n",
      "           1       0.00      0.00      0.00       643\n",
      "\n",
      "    accuracy                           0.88      5541\n",
      "   macro avg       0.44      0.50      0.47      5541\n",
      "weighted avg       0.78      0.88      0.83      5541\n",
      "\n",
      "Hamming Loss: 0.11604403537267641\n",
      "y_pred shape: \n",
      "(5541, 2)\n",
      "y_pred2 shape:\n",
      "(5,)\n",
      "BRFSS MultiLabel Cancer + Diabetes - Grounded, Knowledge Graph-Based Feature Selection - RUSBoost AGGREGATE\n",
      "              precision    recall  f1-score   support\n",
      "\n",
      "           0       0.87      1.00      0.93     24057\n",
      "           1       0.00      0.00      0.00      3651\n",
      "\n",
      "    accuracy                           0.87     27708\n",
      "   macro avg       0.43      0.50      0.46     27708\n",
      "weighted avg       0.75      0.87      0.81     27708\n",
      "\n",
      "Hamming Loss: 0.1317659941366843\n"
     ]
    },
    {
     "name": "stderr",
     "output_type": "stream",
     "text": [
      "C:\\ProgramData\\Anaconda3\\envs\\newenvt\\lib\\site-packages\\sklearn\\metrics\\_classification.py:1245: UndefinedMetricWarning: Precision and F-score are ill-defined and being set to 0.0 in labels with no predicted samples. Use `zero_division` parameter to control this behavior.\n",
      "  _warn_prf(average, modifier, msg_start, len(result))\n",
      "C:\\ProgramData\\Anaconda3\\envs\\newenvt\\lib\\site-packages\\sklearn\\metrics\\_classification.py:1245: UndefinedMetricWarning: Precision and F-score are ill-defined and being set to 0.0 in labels with no predicted samples. Use `zero_division` parameter to control this behavior.\n",
      "  _warn_prf(average, modifier, msg_start, len(result))\n",
      "C:\\ProgramData\\Anaconda3\\envs\\newenvt\\lib\\site-packages\\sklearn\\metrics\\_classification.py:1245: UndefinedMetricWarning: Precision and F-score are ill-defined and being set to 0.0 in labels with no predicted samples. Use `zero_division` parameter to control this behavior.\n",
      "  _warn_prf(average, modifier, msg_start, len(result))\n",
      "C:\\ProgramData\\Anaconda3\\envs\\newenvt\\lib\\site-packages\\sklearn\\metrics\\_classification.py:1245: UndefinedMetricWarning: Precision and F-score are ill-defined and being set to 0.0 in labels with no predicted samples. Use `zero_division` parameter to control this behavior.\n",
      "  _warn_prf(average, modifier, msg_start, len(result))\n",
      "C:\\ProgramData\\Anaconda3\\envs\\newenvt\\lib\\site-packages\\sklearn\\metrics\\_classification.py:1245: UndefinedMetricWarning: Precision and F-score are ill-defined and being set to 0.0 in labels with no predicted samples. Use `zero_division` parameter to control this behavior.\n",
      "  _warn_prf(average, modifier, msg_start, len(result))\n",
      "C:\\ProgramData\\Anaconda3\\envs\\newenvt\\lib\\site-packages\\sklearn\\metrics\\_classification.py:1245: UndefinedMetricWarning: Precision and F-score are ill-defined and being set to 0.0 in labels with no predicted samples. Use `zero_division` parameter to control this behavior.\n",
      "  _warn_prf(average, modifier, msg_start, len(result))\n",
      "C:\\ProgramData\\Anaconda3\\envs\\newenvt\\lib\\site-packages\\sklearn\\multiclass.py:81: UserWarning: Label 0 is present in all training examples.\n",
      "  str(classes[c]))\n"
     ]
    },
    {
     "name": "stdout",
     "output_type": "stream",
     "text": [
      "BRFSS MultiLabel Cancer + Diabetes - Grounded - AdaBoost\n",
      "              precision    recall  f1-score   support\n",
      "\n",
      "           0       0.86      1.00      0.92      4751\n",
      "           1       0.00      0.00      0.00       791\n",
      "\n",
      "    accuracy                           0.86      5542\n",
      "   macro avg       0.43      0.50      0.46      5542\n",
      "weighted avg       0.73      0.86      0.79      5542\n",
      "\n",
      "Hamming Loss: 0.14272825694695057\n"
     ]
    },
    {
     "name": "stderr",
     "output_type": "stream",
     "text": [
      "C:\\ProgramData\\Anaconda3\\envs\\newenvt\\lib\\site-packages\\sklearn\\metrics\\_classification.py:1245: UndefinedMetricWarning: Precision and F-score are ill-defined and being set to 0.0 in labels with no predicted samples. Use `zero_division` parameter to control this behavior.\n",
      "  _warn_prf(average, modifier, msg_start, len(result))\n",
      "C:\\ProgramData\\Anaconda3\\envs\\newenvt\\lib\\site-packages\\sklearn\\metrics\\_classification.py:1245: UndefinedMetricWarning: Precision and F-score are ill-defined and being set to 0.0 in labels with no predicted samples. Use `zero_division` parameter to control this behavior.\n",
      "  _warn_prf(average, modifier, msg_start, len(result))\n",
      "C:\\ProgramData\\Anaconda3\\envs\\newenvt\\lib\\site-packages\\sklearn\\metrics\\_classification.py:1245: UndefinedMetricWarning: Precision and F-score are ill-defined and being set to 0.0 in labels with no predicted samples. Use `zero_division` parameter to control this behavior.\n",
      "  _warn_prf(average, modifier, msg_start, len(result))\n",
      "C:\\ProgramData\\Anaconda3\\envs\\newenvt\\lib\\site-packages\\sklearn\\multiclass.py:81: UserWarning: Label 0 is present in all training examples.\n",
      "  str(classes[c]))\n"
     ]
    },
    {
     "name": "stdout",
     "output_type": "stream",
     "text": [
      "BRFSS MultiLabel Cancer + Diabetes - Grounded - AdaBoost\n",
      "              precision    recall  f1-score   support\n",
      "\n",
      "           0       0.86      1.00      0.93      4783\n",
      "           1       0.00      0.00      0.00       759\n",
      "\n",
      "    accuracy                           0.86      5542\n",
      "   macro avg       0.43      0.50      0.46      5542\n",
      "weighted avg       0.74      0.86      0.80      5542\n",
      "\n",
      "Hamming Loss: 0.13695416817033562\n"
     ]
    },
    {
     "name": "stderr",
     "output_type": "stream",
     "text": [
      "C:\\ProgramData\\Anaconda3\\envs\\newenvt\\lib\\site-packages\\sklearn\\metrics\\_classification.py:1245: UndefinedMetricWarning: Precision and F-score are ill-defined and being set to 0.0 in labels with no predicted samples. Use `zero_division` parameter to control this behavior.\n",
      "  _warn_prf(average, modifier, msg_start, len(result))\n",
      "C:\\ProgramData\\Anaconda3\\envs\\newenvt\\lib\\site-packages\\sklearn\\metrics\\_classification.py:1245: UndefinedMetricWarning: Precision and F-score are ill-defined and being set to 0.0 in labels with no predicted samples. Use `zero_division` parameter to control this behavior.\n",
      "  _warn_prf(average, modifier, msg_start, len(result))\n",
      "C:\\ProgramData\\Anaconda3\\envs\\newenvt\\lib\\site-packages\\sklearn\\metrics\\_classification.py:1245: UndefinedMetricWarning: Precision and F-score are ill-defined and being set to 0.0 in labels with no predicted samples. Use `zero_division` parameter to control this behavior.\n",
      "  _warn_prf(average, modifier, msg_start, len(result))\n",
      "C:\\ProgramData\\Anaconda3\\envs\\newenvt\\lib\\site-packages\\sklearn\\multiclass.py:81: UserWarning: Label 0 is present in all training examples.\n",
      "  str(classes[c]))\n"
     ]
    },
    {
     "name": "stdout",
     "output_type": "stream",
     "text": [
      "BRFSS MultiLabel Cancer + Diabetes - Grounded - AdaBoost\n",
      "              precision    recall  f1-score   support\n",
      "\n",
      "           0       0.86      1.00      0.92      4747\n",
      "           1       0.00      0.00      0.00       795\n",
      "\n",
      "    accuracy                           0.86      5542\n",
      "   macro avg       0.43      0.50      0.46      5542\n",
      "weighted avg       0.73      0.86      0.79      5542\n",
      "\n",
      "Hamming Loss: 0.14345001804402743\n"
     ]
    },
    {
     "name": "stderr",
     "output_type": "stream",
     "text": [
      "C:\\ProgramData\\Anaconda3\\envs\\newenvt\\lib\\site-packages\\sklearn\\metrics\\_classification.py:1245: UndefinedMetricWarning: Precision and F-score are ill-defined and being set to 0.0 in labels with no predicted samples. Use `zero_division` parameter to control this behavior.\n",
      "  _warn_prf(average, modifier, msg_start, len(result))\n",
      "C:\\ProgramData\\Anaconda3\\envs\\newenvt\\lib\\site-packages\\sklearn\\metrics\\_classification.py:1245: UndefinedMetricWarning: Precision and F-score are ill-defined and being set to 0.0 in labels with no predicted samples. Use `zero_division` parameter to control this behavior.\n",
      "  _warn_prf(average, modifier, msg_start, len(result))\n",
      "C:\\ProgramData\\Anaconda3\\envs\\newenvt\\lib\\site-packages\\sklearn\\metrics\\_classification.py:1245: UndefinedMetricWarning: Precision and F-score are ill-defined and being set to 0.0 in labels with no predicted samples. Use `zero_division` parameter to control this behavior.\n",
      "  _warn_prf(average, modifier, msg_start, len(result))\n",
      "C:\\ProgramData\\Anaconda3\\envs\\newenvt\\lib\\site-packages\\sklearn\\multiclass.py:81: UserWarning: Label 0 is present in all training examples.\n",
      "  str(classes[c]))\n"
     ]
    },
    {
     "name": "stdout",
     "output_type": "stream",
     "text": [
      "BRFSS MultiLabel Cancer + Diabetes - Grounded - AdaBoost\n",
      "              precision    recall  f1-score   support\n",
      "\n",
      "           0       0.88      1.00      0.94      4878\n",
      "           1       0.00      0.00      0.00       663\n",
      "\n",
      "    accuracy                           0.88      5541\n",
      "   macro avg       0.44      0.50      0.47      5541\n",
      "weighted avg       0.78      0.88      0.82      5541\n",
      "\n",
      "Hamming Loss: 0.11965349214943151\n"
     ]
    },
    {
     "name": "stderr",
     "output_type": "stream",
     "text": [
      "C:\\ProgramData\\Anaconda3\\envs\\newenvt\\lib\\site-packages\\sklearn\\metrics\\_classification.py:1245: UndefinedMetricWarning: Precision and F-score are ill-defined and being set to 0.0 in labels with no predicted samples. Use `zero_division` parameter to control this behavior.\n",
      "  _warn_prf(average, modifier, msg_start, len(result))\n",
      "C:\\ProgramData\\Anaconda3\\envs\\newenvt\\lib\\site-packages\\sklearn\\metrics\\_classification.py:1245: UndefinedMetricWarning: Precision and F-score are ill-defined and being set to 0.0 in labels with no predicted samples. Use `zero_division` parameter to control this behavior.\n",
      "  _warn_prf(average, modifier, msg_start, len(result))\n",
      "C:\\ProgramData\\Anaconda3\\envs\\newenvt\\lib\\site-packages\\sklearn\\metrics\\_classification.py:1245: UndefinedMetricWarning: Precision and F-score are ill-defined and being set to 0.0 in labels with no predicted samples. Use `zero_division` parameter to control this behavior.\n",
      "  _warn_prf(average, modifier, msg_start, len(result))\n",
      "C:\\ProgramData\\Anaconda3\\envs\\newenvt\\lib\\site-packages\\sklearn\\multiclass.py:81: UserWarning: Label 0 is present in all training examples.\n",
      "  str(classes[c]))\n"
     ]
    },
    {
     "name": "stdout",
     "output_type": "stream",
     "text": [
      "BRFSS MultiLabel Cancer + Diabetes - Grounded - AdaBoost\n",
      "              precision    recall  f1-score   support\n",
      "\n",
      "           0       0.88      1.00      0.94      4898\n",
      "           1       0.00      0.00      0.00       643\n",
      "\n",
      "    accuracy                           0.88      5541\n",
      "   macro avg       0.44      0.50      0.47      5541\n",
      "weighted avg       0.78      0.88      0.83      5541\n",
      "\n",
      "Hamming Loss: 0.11604403537267641\n",
      "y_pred shape: \n",
      "(5541, 2)\n",
      "y_pred2 shape:\n",
      "(5,)\n",
      "BRFSS MultiLabel Cancer + Diabetes - Grounded, Knowledge Graph-Based Feature Selection - ADABoost AGGREGATE\n",
      "              precision    recall  f1-score   support\n",
      "\n",
      "           0       0.87      1.00      0.93     24057\n",
      "           1       0.00      0.00      0.00      3651\n",
      "\n",
      "    accuracy                           0.87     27708\n",
      "   macro avg       0.43      0.50      0.46     27708\n",
      "weighted avg       0.75      0.87      0.81     27708\n",
      "\n",
      "Hamming Loss: 0.1317659941366843\n"
     ]
    },
    {
     "name": "stderr",
     "output_type": "stream",
     "text": [
      "C:\\ProgramData\\Anaconda3\\envs\\newenvt\\lib\\site-packages\\sklearn\\metrics\\_classification.py:1245: UndefinedMetricWarning: Precision and F-score are ill-defined and being set to 0.0 in labels with no predicted samples. Use `zero_division` parameter to control this behavior.\n",
      "  _warn_prf(average, modifier, msg_start, len(result))\n",
      "C:\\ProgramData\\Anaconda3\\envs\\newenvt\\lib\\site-packages\\sklearn\\metrics\\_classification.py:1245: UndefinedMetricWarning: Precision and F-score are ill-defined and being set to 0.0 in labels with no predicted samples. Use `zero_division` parameter to control this behavior.\n",
      "  _warn_prf(average, modifier, msg_start, len(result))\n",
      "C:\\ProgramData\\Anaconda3\\envs\\newenvt\\lib\\site-packages\\sklearn\\metrics\\_classification.py:1245: UndefinedMetricWarning: Precision and F-score are ill-defined and being set to 0.0 in labels with no predicted samples. Use `zero_division` parameter to control this behavior.\n",
      "  _warn_prf(average, modifier, msg_start, len(result))\n",
      "C:\\ProgramData\\Anaconda3\\envs\\newenvt\\lib\\site-packages\\sklearn\\metrics\\_classification.py:1245: UndefinedMetricWarning: Precision and F-score are ill-defined and being set to 0.0 in labels with no predicted samples. Use `zero_division` parameter to control this behavior.\n",
      "  _warn_prf(average, modifier, msg_start, len(result))\n",
      "C:\\ProgramData\\Anaconda3\\envs\\newenvt\\lib\\site-packages\\sklearn\\metrics\\_classification.py:1245: UndefinedMetricWarning: Precision and F-score are ill-defined and being set to 0.0 in labels with no predicted samples. Use `zero_division` parameter to control this behavior.\n",
      "  _warn_prf(average, modifier, msg_start, len(result))\n",
      "C:\\ProgramData\\Anaconda3\\envs\\newenvt\\lib\\site-packages\\sklearn\\metrics\\_classification.py:1245: UndefinedMetricWarning: Precision and F-score are ill-defined and being set to 0.0 in labels with no predicted samples. Use `zero_division` parameter to control this behavior.\n",
      "  _warn_prf(average, modifier, msg_start, len(result))\n"
     ]
    }
   ],
   "source": [
    "from sklearn.datasets import make_multilabel_classification\n",
    "from sklearn.preprocessing import MultiLabelBinarizer\n",
    "from sklearn.multiclass import OneVsRestClassifier\n",
    "from sklearn.svm import SVC\n",
    "from sklearn.linear_model import LogisticRegression\n",
    "from sklearn.naive_bayes import MultinomialNB\n",
    "from sklearn.discriminant_analysis import LinearDiscriminantAnalysis\n",
    "from sklearn.ensemble import RandomForestClassifier\n",
    "from sklearn.neighbors import KNeighborsClassifier\n",
    "from sklearn.neural_network import MLPClassifier\n",
    "from sklearn.neural_network import MLPRegressor\n",
    "from imblearn.ensemble import RUSBoostClassifier\n",
    "from sklearn.ensemble import AdaBoostClassifier\n",
    "from sklearn.metrics import accuracy_score\n",
    "from sklearn.metrics import precision_score\n",
    "from sklearn.metrics import recall_score\n",
    "from sklearn.metrics import f1_score\n",
    "from sklearn.metrics import hamming_loss\n",
    "from sklearn.model_selection import KFold\n",
    "from sklearn.metrics import classification_report\n",
    "import numpy as np\n",
    "\n",
    "\n",
    "X = np.array(BRFSS_Grounded_X)\n",
    "y = BRFSS_Grounded[['CNCRTYP1', 'DIABETE4']].to_numpy()\n",
    "\n",
    "n_split=5\n",
    "\n",
    "y_pred2, pred2, y_test2, hl2 = list(),list(),list(),list()\n",
    "\n",
    "for train_index, test_index in KFold(n_split).split(X):\n",
    "  X_train, X_test = X[train_index], X[test_index]\n",
    "  y_train, y_test = y[train_index], y[test_index]\n",
    "\n",
    "  mlb = MultiLabelBinarizer()\n",
    "  labels = mlb.fit_transform(y_train)\n",
    "\n",
    "  mlb = MultiLabelBinarizer()\n",
    "  mlb.fit(labels)\n",
    "\n",
    "  model = LogisticRegression(C=1.0, penalty='l1', dual=False, solver='liblinear')\n",
    "  model = OneVsRestClassifier(model)    \n",
    "  clf = model.fit(X_train, mlb.transform(y_train))\n",
    "\n",
    "  y_pred = clf.predict(X_test)  \n",
    "  pred = np.argmax(y_pred, axis=1)\n",
    "  y_test = np.argmax(y_test, axis=1)\n",
    "\n",
    "  print(\"BRFSS MultiLabel Cancer + Diabetes - Grounded, Knowledge Graph-Based Feature Selection - Logistic Regression\")\n",
    "  #print(classification_report(y_test, pred, labels=[1, 2, 3]))\n",
    "  print(classification_report(y_test, pred))\n",
    "\n",
    "  hl=hamming_loss(y_test,pred)\n",
    "  print(\"Hamming Loss: \" + str(hl))\n",
    "    \n",
    "  y_pred2.append(y_pred)\n",
    "  pred2.append(pred)\n",
    "  y_test2.append(y_test)\n",
    "  hl2.append(hl)\n",
    "    \n",
    "print(\"y_pred shape: \")\n",
    "print(np.shape(y_pred))\n",
    "\n",
    "print(\"y_pred2 shape:\")\n",
    "print(np.shape(y_pred2))\n",
    "\n",
    "y_pred3 = np.concatenate((y_pred2[0], y_pred2[1], y_pred2[2], y_pred2[3], y_pred2[4]), axis=None)\n",
    "pred3 = np.concatenate((pred2[0], pred2[1], pred2[2], pred2[3], pred2[4]), axis=None)\n",
    "y_test3 = np.concatenate((y_test2[0], y_test2[1], y_test2[2], y_test2[3], y_test2[4]), axis=None)\n",
    "hl3 = np.concatenate((hl2[0], hl2[1], hl2[2], hl2[3], hl2[4]), axis=None)\n",
    "\n",
    "print(\"BRFSS MultiLabel Cancer + Diabetes - Grounded, Knowledge Graph-Based Feature Selection - Logistic Regression AGGREGATE\")\n",
    "#print(classification_report(y_test, pred, labels=[1, 2, 3]))\n",
    "print(classification_report(y_test3, pred3))\n",
    "hl3_avg = sum(hl3) / len(hl3)\n",
    "print(\"Hamming Loss: \" + str(hl3_avg))\n",
    "\n",
    "X = np.array(BRFSS_Grounded_X)\n",
    "y = BRFSS_Grounded[['CNCRTYP1', 'DIABETE4']].to_numpy()\n",
    "\n",
    "n_split=5\n",
    "\n",
    "y_pred2, pred2, y_test2, hl2 = list(),list(),list(),list()\n",
    "\n",
    "for train_index, test_index in KFold(n_split).split(X):\n",
    "  X_train, X_test = X[train_index], X[test_index]\n",
    "  y_train, y_test = y[train_index], y[test_index]\n",
    "\n",
    "  mlb = MultiLabelBinarizer()\n",
    "  labels = mlb.fit_transform(y_train)\n",
    "\n",
    "  mlb = MultiLabelBinarizer()\n",
    "  mlb.fit(labels)\n",
    "\n",
    "  model = MultinomialNB()\n",
    "  model = OneVsRestClassifier(MultinomialNB())   \n",
    "  clf = model.fit(X_train, mlb.transform(y_train))\n",
    "\n",
    "  y_pred = clf.predict(X_test)  \n",
    "  pred = np.argmax(y_pred, axis=1)\n",
    "  y_test = np.argmax(y_test, axis=1)\n",
    "\n",
    "  print(\"BRFSS MultiLabel Cancer + Diabetes - Grounded, Knowledge Graph-Based Feature Selection - MultinomialNB\")\n",
    "  #print(classification_report(y_test, pred, labels=[1, 2, 3]))\n",
    "  print(classification_report(y_test, pred))\n",
    "\n",
    "  hl=hamming_loss(y_test,pred)\n",
    "  print(\"Hamming Loss: \" + str(hl))\n",
    "   \n",
    "  y_pred2.append(y_pred)\n",
    "  pred2.append(pred)\n",
    "  y_test2.append(y_test)\n",
    "  hl2.append(hl)\n",
    "    \n",
    "y_pred3 = np.concatenate((y_pred2[0], y_pred2[1], y_pred2[2], y_pred2[3], y_pred2[4]), axis=None)\n",
    "pred3 = np.concatenate((pred2[0], pred2[1], pred2[2], pred2[3], pred2[4]), axis=None)\n",
    "y_test3 = np.concatenate((y_test2[0], y_test2[1], y_test2[2], y_test2[3], y_test2[4]), axis=None)\n",
    "hl3 = np.concatenate((hl2[0], hl2[1], hl2[2], hl2[3], hl2[4]), axis=None)\n",
    "\n",
    "print(\"BRFSS MultiLabel Cancer + Diabetes - Grounded, Knowledge Graph-Based Feature Selection - MultinomialNB AGGREGATE\")\n",
    "#print(classification_report(y_test, pred, labels=[1, 2, 3]))\n",
    "print(classification_report(y_test3, pred3))\n",
    "hl3_avg = sum(hl3) / len(hl3)\n",
    "print(\"Hamming Loss: \" + str(hl3_avg))\n",
    "\n",
    "X = np.array(BRFSS_Grounded_X)\n",
    "y = BRFSS_Grounded[['CNCRTYP1', 'DIABETE4']].to_numpy()\n",
    "\n",
    "n_split=5\n",
    "\n",
    "y_pred2, pred2, y_test2, hl2 = list(),list(),list(),list()\n",
    "\n",
    "for train_index, test_index in KFold(n_split).split(X):\n",
    "  X_train, X_test = X[train_index], X[test_index]\n",
    "  y_train, y_test = y[train_index], y[test_index]\n",
    "\n",
    "  mlb = MultiLabelBinarizer()\n",
    "  labels = mlb.fit_transform(y_train)\n",
    "\n",
    "  mlb = MultiLabelBinarizer()\n",
    "  mlb.fit(labels)\n",
    "\n",
    "  model = OneVsRestClassifier(LinearDiscriminantAnalysis(n_components=None, priors=None, shrinkage=None,\n",
    "              solver='svd', store_covariance=False, tol=0.0001))   \n",
    "  clf = model.fit(X_train, mlb.transform(y_train))\n",
    "\n",
    "  y_pred = clf.predict(X_test)  \n",
    "  pred = np.argmax(y_pred, axis=1)\n",
    "  y_test = np.argmax(y_test, axis=1)\n",
    "\n",
    "  print(\"BRFSS MultiLabel Cancer + Diabetes - Grounded, Knowledge Graph-Based Feature Selection - Linear DA\")\n",
    "  #print(classification_report(y_test, pred, labels=[1, 2, 3]))\n",
    "  print(classification_report(y_test, pred))\n",
    "\n",
    "  hl=hamming_loss(y_test,pred)\n",
    "  print(\"Hamming Loss: \" + str(hl))\n",
    "    \n",
    "  y_pred2.append(y_pred)\n",
    "  pred2.append(pred)\n",
    "  y_test2.append(y_test)\n",
    "  hl2.append(hl)\n",
    "    \n",
    "y_pred3 = np.concatenate((y_pred2[0], y_pred2[1], y_pred2[2], y_pred2[3], y_pred2[4]), axis=None)\n",
    "pred3 = np.concatenate((pred2[0], pred2[1], pred2[2], pred2[3], pred2[4]), axis=None)\n",
    "y_test3 = np.concatenate((y_test2[0], y_test2[1], y_test2[2], y_test2[3], y_test2[4]), axis=None)\n",
    "hl3 = np.concatenate((hl2[0], hl2[1], hl2[2], hl2[3], hl2[4]), axis=None)\n",
    "\n",
    "print(\"BRFSS MultiLabel Cancer + Diabetes - Grounded, Knowledge Graph-Based Feature Selection - Linear DA AGGREGATE\")\n",
    "#print(classification_report(y_test, pred, labels=[1, 2, 3]))\n",
    "print(classification_report(y_test3, pred3))\n",
    "hl3_avg = sum(hl3) / len(hl3)\n",
    "print(\"Hamming Loss: \" + str(hl3_avg))\n",
    "    \n",
    "X = np.array(BRFSS_Grounded_X)\n",
    "y = BRFSS_Grounded[['CNCRTYP1', 'DIABETE4']].to_numpy()\n",
    "\n",
    "n_split=5\n",
    "\n",
    "y_pred2, pred2, y_test2, hl2 = list(),list(),list(),list()\n",
    "\n",
    "for train_index, test_index in KFold(n_split).split(X):\n",
    "  X_train, X_test = X[train_index], X[test_index]\n",
    "  y_train, y_test = y[train_index], y[test_index]\n",
    "\n",
    "  mlb = MultiLabelBinarizer()\n",
    "  labels = mlb.fit_transform(y_train)\n",
    "\n",
    "  mlb = MultiLabelBinarizer()\n",
    "  mlb.fit(labels)\n",
    "\n",
    "  model = OneVsRestClassifier(RandomForestClassifier(max_depth=100, random_state=0))   \n",
    "  clf = model.fit(X_train, mlb.transform(y_train))\n",
    "\n",
    "  y_pred = clf.predict(X_test)  \n",
    "  pred = np.argmax(y_pred, axis=1)\n",
    "  y_test = np.argmax(y_test, axis=1)\n",
    "\n",
    "  print(\"BRFSS MultiLabel Cancer + Diabetes - Grounded, Knowledge Graph-Based Feature Selection - Random Forest\")\n",
    "  #print(classification_report(y_test, pred, labels=[1, 2, 3]))\n",
    "  print(classification_report(y_test, pred))\n",
    "\n",
    "  hl=hamming_loss(y_test,pred)\n",
    "  print(\"Hamming Loss: \" + str(hl))\n",
    "    \n",
    "  y_pred2.append(y_pred)\n",
    "  pred2.append(pred)\n",
    "  y_test2.append(y_test)\n",
    "  hl2.append(hl)\n",
    "    \n",
    "y_pred3 = np.concatenate((y_pred2[0], y_pred2[1], y_pred2[2], y_pred2[3], y_pred2[4]), axis=None)\n",
    "pred3 = np.concatenate((pred2[0], pred2[1], pred2[2], pred2[3], pred2[4]), axis=None)\n",
    "y_test3 = np.concatenate((y_test2[0], y_test2[1], y_test2[2], y_test2[3], y_test2[4]), axis=None)\n",
    "hl3 = np.concatenate((hl2[0], hl2[1], hl2[2], hl2[3], hl2[4]), axis=None)\n",
    "\n",
    "print(\"BRFSS MultiLabel Cancer + Diabetes - Grounded, Knowledge Graph-Based Feature Selection - Random Forest AGGREGATE\")\n",
    "#print(classification_report(y_test, pred, labels=[1, 2, 3]))\n",
    "print(classification_report(y_test3, pred3))\n",
    "hl3_avg = sum(hl3) / len(hl3)\n",
    "print(\"Hamming Loss: \" + str(hl3_avg))\n",
    "    \n",
    "X = np.array(BRFSS_Grounded_X)\n",
    "y = BRFSS_Grounded[['CNCRTYP1', 'DIABETE4']].to_numpy()\n",
    "\n",
    "n_split=5\n",
    "\n",
    "y_pred2, pred2, y_test2, hl2 = list(),list(),list(),list()\n",
    "\n",
    "for train_index, test_index in KFold(n_split).split(X):\n",
    "  X_train, X_test = X[train_index], X[test_index]\n",
    "  y_train, y_test = y[train_index], y[test_index]\n",
    "\n",
    "  mlb = MultiLabelBinarizer()\n",
    "  labels = mlb.fit_transform(y_train)\n",
    "\n",
    "  mlb = MultiLabelBinarizer()\n",
    "  mlb.fit(labels)\n",
    "\n",
    "  model = OneVsRestClassifier(KNeighborsClassifier(n_neighbors=5))   \n",
    "  clf = model.fit(X_train, mlb.transform(y_train))\n",
    "\n",
    "  y_pred = clf.predict(X_test)  \n",
    "  pred = np.argmax(y_pred, axis=1)\n",
    "  y_test = np.argmax(y_test, axis=1)\n",
    "\n",
    "  print(\"BRFSS MultiLabel Cancer + Diabetes - Grounded, Knowledge Graph-Based Feature Selection - KNN\")\n",
    "  #print(classification_report(y_test, pred, labels=[1, 2, 3]))\n",
    "  print(classification_report(y_test, pred))\n",
    "\n",
    "  hl=hamming_loss(y_test,pred)\n",
    "  print(\"Hamming Loss: \" + str(hl))\n",
    "    \n",
    "  y_pred2.append(y_pred)\n",
    "  pred2.append(pred)\n",
    "  y_test2.append(y_test)\n",
    "  hl2.append(hl)\n",
    "    \n",
    "y_pred3 = np.concatenate((y_pred2[0], y_pred2[1], y_pred2[2], y_pred2[3], y_pred2[4]), axis=None)\n",
    "pred3 = np.concatenate((pred2[0], pred2[1], pred2[2], pred2[3], pred2[4]), axis=None)\n",
    "y_test3 = np.concatenate((y_test2[0], y_test2[1], y_test2[2], y_test2[3], y_test2[4]), axis=None)\n",
    "hl3 = np.concatenate((hl2[0], hl2[1], hl2[2], hl2[3], hl2[4]), axis=None)\n",
    "\n",
    "print(\"BRFSS MultiLabel Cancer + Diabetes - Grounded, Knowledge Graph-Based Feature Selection - KNN AGGREGATE\")\n",
    "#print(classification_report(y_test, pred, labels=[1, 2, 3]))\n",
    "print(classification_report(y_test3, pred3))\n",
    "hl3_avg = sum(hl3) / len(hl3)\n",
    "print(\"Hamming Loss: \" + str(hl3_avg))\n",
    "\n",
    "a = []\n",
    "b = []\n",
    "X = np.array(BRFSS_Grounded_X)\n",
    "y = BRFSS_Grounded[['CNCRTYP1', 'DIABETE4']].to_numpy()\n",
    "\n",
    "n_split=5\n",
    "\n",
    "y_pred2, pred2, y_test2, hl2 = list(),list(),list(),list()\n",
    "\n",
    "for train_index, test_index in KFold(n_split).split(X):\n",
    "  X_train, X_test = X[train_index], X[test_index]\n",
    "  y_train, y_test = y[train_index], y[test_index]\n",
    "\n",
    "  mlb = MultiLabelBinarizer()\n",
    "  labels = mlb.fit_transform(y_train)\n",
    "\n",
    "  mlb = MultiLabelBinarizer()\n",
    "  mlb.fit(labels)\n",
    "\n",
    "  model = OneVsRestClassifier(SVC())   \n",
    "  clf = model.fit(X_train, mlb.transform(y_train))\n",
    "\n",
    "  y_pred = clf.predict(X_test)  \n",
    "  pred = np.argmax(y_pred, axis=1)\n",
    "  y_test = np.argmax(y_test, axis=1)\n",
    "\n",
    "  print(\"BRFSS MultiLabel Cancer + Diabetes - Grounded - SVM\")\n",
    "  #print(classification_report(y_test, pred, labels=[1, 2, 3]))\n",
    "  print(classification_report(y_test, pred))\n",
    "\n",
    "  hl=hamming_loss(y_test,pred)\n",
    "  print(\"Hamming Loss: \" + str(hl))  \n",
    "    \n",
    "  y_pred2.append(y_pred)\n",
    "  pred2.append(pred)\n",
    "  y_test2.append(y_test)\n",
    "  hl2.append(hl)\n",
    "    \n",
    "y_pred3 = np.concatenate((y_pred2[0], y_pred2[1], y_pred2[2], y_pred2[3], y_pred2[4]), axis=None)\n",
    "pred3 = np.concatenate((pred2[0], pred2[1], pred2[2], pred2[3], pred2[4]), axis=None)\n",
    "y_test3 = np.concatenate((y_test2[0], y_test2[1], y_test2[2], y_test2[3], y_test2[4]), axis=None)\n",
    "hl3 = np.concatenate((hl2[0], hl2[1], hl2[2], hl2[3], hl2[4]), axis=None)\n",
    "\n",
    "print(\"BRFSS MultiLabel Cancer + Diabetes - Grounded, Knowledge Graph-Based Feature Selection - SVM AGGREGATE\")\n",
    "#print(classification_report(y_test, pred, labels=[1, 2, 3]))\n",
    "print(classification_report(y_test3, pred3))\n",
    "hl3_avg = sum(hl3) / len(hl3)\n",
    "print(\"Hamming Loss: \" + str(hl3_avg))\n",
    "\n",
    "X = np.array(BRFSS_Grounded_X)\n",
    "y = BRFSS_Grounded[['CNCRTYP1', 'DIABETE4']].to_numpy()\n",
    "\n",
    "n_split=5\n",
    "\n",
    "y_pred2, pred2, y_test2, hl2 = list(),list(),list(),list()\n",
    "\n",
    "for train_index, test_index in KFold(n_split).split(X):\n",
    "  X_train, X_test = X[train_index], X[test_index]\n",
    "  y_train, y_test = y[train_index], y[test_index]\n",
    "\n",
    "  mlb = MultiLabelBinarizer()\n",
    "  labels = mlb.fit_transform(y_train)\n",
    "\n",
    "  mlb = MultiLabelBinarizer()\n",
    "  mlb.fit(labels)\n",
    "\n",
    "  #model = MultinomialNB()\n",
    "  model = OneVsRestClassifier(RUSBoostClassifier(random_state=0))   \n",
    "  clf = model.fit(X_train, mlb.transform(y_train))\n",
    "\n",
    "  y_pred = clf.predict(X_test)  \n",
    "  pred = np.argmax(y_pred, axis=1)\n",
    "  y_test = np.argmax(y_test, axis=1)\n",
    "\n",
    "  print(\"BRFSS MultiLabel Cancer + Diabetes - Grounded - RUSBoost\")\n",
    "  #print(classification_report(y_test, pred, labels=[1, 2, 3]))\n",
    "  print(classification_report(y_test, pred))\n",
    "\n",
    "  hl=hamming_loss(y_test,pred)\n",
    "  print(\"Hamming Loss: \" + str(hl))\n",
    "   \n",
    "  y_pred2.append(y_pred)\n",
    "  pred2.append(pred)\n",
    "  y_test2.append(y_test)\n",
    "  hl2.append(hl)\n",
    "\n",
    "print(\"y_pred shape: \")\n",
    "print(np.shape(y_pred))\n",
    "\n",
    "print(\"y_pred2 shape:\")\n",
    "print(np.shape(y_pred2))\n",
    "\n",
    "y_pred3 = np.concatenate((y_pred2[0], y_pred2[1], y_pred2[2], y_pred2[3], y_pred2[4]), axis=None)\n",
    "pred3 = np.concatenate((pred2[0], pred2[1], pred2[2], pred2[3], pred2[4]), axis=None)\n",
    "y_test3 = np.concatenate((y_test2[0], y_test2[1], y_test2[2], y_test2[3], y_test2[4]), axis=None)\n",
    "hl3 = np.concatenate((hl2[0], hl2[1], hl2[2], hl2[3], hl2[4]), axis=None)\n",
    "\n",
    "print(\"BRFSS MultiLabel Cancer + Diabetes - Grounded, Knowledge Graph-Based Feature Selection - RUSBoost AGGREGATE\")\n",
    "#print(classification_report(y_test, pred, labels=[1, 2, 3]))\n",
    "print(classification_report(y_test3, pred3))\n",
    "hl3_avg = sum(hl3) / len(hl3)\n",
    "print(\"Hamming Loss: \" + str(hl3_avg))\n",
    "\n",
    "X = np.array(BRFSS_Grounded_X)\n",
    "y = BRFSS_Grounded[['CNCRTYP1', 'DIABETE4']].to_numpy()\n",
    "\n",
    "n_split=5\n",
    "\n",
    "y_pred2, pred2, y_test2, hl2 = list(),list(),list(),list()\n",
    "\n",
    "for train_index, test_index in KFold(n_split).split(X):\n",
    "  X_train, X_test = X[train_index], X[test_index]\n",
    "  y_train, y_test = y[train_index], y[test_index]\n",
    "\n",
    "  mlb = MultiLabelBinarizer()\n",
    "  labels = mlb.fit_transform(y_train)\n",
    "\n",
    "  mlb = MultiLabelBinarizer()\n",
    "  mlb.fit(labels)\n",
    "\n",
    "  #model = OneVsRestClassifier(AdaBoostClassifier(n_estimators=50,learning_rate=1))   \n",
    "  \n",
    "  model = OneVsRestClassifier(AdaBoostClassifier(n_estimators=200,learning_rate=1))   \n",
    "  clf = model.fit(X_train, mlb.transform(y_train))\n",
    "\n",
    "  y_pred = clf.predict(X_test)  \n",
    "  pred = np.argmax(y_pred, axis=1)\n",
    "  y_test = np.argmax(y_test, axis=1)\n",
    "\n",
    "  print(\"BRFSS MultiLabel Cancer + Diabetes - Grounded - AdaBoost\")\n",
    "  #print(classification_report(y_test, pred, labels=[1, 2, 3]))\n",
    "  print(classification_report(y_test, pred))\n",
    "\n",
    "  hl=hamming_loss(y_test,pred)\n",
    "  print(\"Hamming Loss: \" + str(hl))\n",
    "   \n",
    "  y_pred2.append(y_pred)\n",
    "  pred2.append(pred)\n",
    "  y_test2.append(y_test)\n",
    "  hl2.append(hl)\n",
    "    \n",
    "print(\"y_pred shape: \")\n",
    "print(np.shape(y_pred))\n",
    "\n",
    "print(\"y_pred2 shape:\")\n",
    "print(np.shape(y_pred2))\n",
    "\n",
    "y_pred3 = np.concatenate((y_pred2[0], y_pred2[1], y_pred2[2], y_pred2[3], y_pred2[4]), axis=None)\n",
    "pred3 = np.concatenate((pred2[0], pred2[1], pred2[2], pred2[3], pred2[4]), axis=None)\n",
    "y_test3 = np.concatenate((y_test2[0], y_test2[1], y_test2[2], y_test2[3], y_test2[4]), axis=None)\n",
    "hl3 = np.concatenate((hl2[0], hl2[1], hl2[2], hl2[3], hl2[4]), axis=None)\n",
    "\n",
    "print(\"BRFSS MultiLabel Cancer + Diabetes - Grounded, Knowledge Graph-Based Feature Selection - ADABoost AGGREGATE\")\n",
    "#print(classification_report(y_test, pred, labels=[1, 2, 3]))\n",
    "print(classification_report(y_test3, pred3))\n",
    "hl3_avg = sum(hl3) / len(hl3)\n",
    "print(\"Hamming Loss: \" + str(hl3_avg))\n",
    "    "
   ]
  },
  {
   "cell_type": "code",
   "execution_count": 14,
   "metadata": {},
   "outputs": [
    {
     "name": "stdout",
     "output_type": "stream",
     "text": [
      "(12275, 182)\n",
      "(12275, 180)\n"
     ]
    }
   ],
   "source": [
    "import os\n",
    "import pandas as pd\n",
    "\n",
    "folder = \"C:/Users/mdjaw/OneDrive/Documents/Markian Training/Research_USQ/USCenterDiseaseControlPrevention/LLCP2019XPT\" \n",
    "os.chdir(folder)\n",
    "\n",
    "BRFSS_Grounded = pd.read_csv(\"LLCP2019XPT_Grounded_ML_nona.csv\")\n",
    "\n",
    "print(BRFSS_Grounded.shape)\n",
    "\n",
    "BRFSS_Grounded_X = BRFSS_Grounded.drop(['CNCRTYP1', 'DIABETE4'], axis = 1)\n",
    "\n",
    "print(BRFSS_Grounded_X.shape)"
   ]
  },
  {
   "cell_type": "code",
   "execution_count": 15,
   "metadata": {},
   "outputs": [
    {
     "name": "stderr",
     "output_type": "stream",
     "text": [
      "C:\\ProgramData\\Anaconda3\\envs\\newenvt\\lib\\site-packages\\sklearn\\multiclass.py:81: UserWarning: Label 0 is present in all training examples.\n",
      "  str(classes[c]))\n"
     ]
    },
    {
     "name": "stdout",
     "output_type": "stream",
     "text": [
      "BRFSS MultiLabel Cancer + Diabetes - Grounded, Knowledge Graph-Based Feature Selection - Logistic Regression\n",
      "              precision    recall  f1-score   support\n",
      "\n",
      "           0       0.86      1.00      0.92      2106\n",
      "           1       0.00      0.00      0.00       349\n",
      "\n",
      "    accuracy                           0.86      2455\n",
      "   macro avg       0.43      0.50      0.46      2455\n",
      "weighted avg       0.74      0.86      0.79      2455\n",
      "\n",
      "Hamming Loss: 0.14215885947046844\n"
     ]
    },
    {
     "name": "stderr",
     "output_type": "stream",
     "text": [
      "C:\\ProgramData\\Anaconda3\\envs\\newenvt\\lib\\site-packages\\sklearn\\metrics\\_classification.py:1245: UndefinedMetricWarning: Precision and F-score are ill-defined and being set to 0.0 in labels with no predicted samples. Use `zero_division` parameter to control this behavior.\n",
      "  _warn_prf(average, modifier, msg_start, len(result))\n",
      "C:\\ProgramData\\Anaconda3\\envs\\newenvt\\lib\\site-packages\\sklearn\\metrics\\_classification.py:1245: UndefinedMetricWarning: Precision and F-score are ill-defined and being set to 0.0 in labels with no predicted samples. Use `zero_division` parameter to control this behavior.\n",
      "  _warn_prf(average, modifier, msg_start, len(result))\n",
      "C:\\ProgramData\\Anaconda3\\envs\\newenvt\\lib\\site-packages\\sklearn\\metrics\\_classification.py:1245: UndefinedMetricWarning: Precision and F-score are ill-defined and being set to 0.0 in labels with no predicted samples. Use `zero_division` parameter to control this behavior.\n",
      "  _warn_prf(average, modifier, msg_start, len(result))\n",
      "C:\\ProgramData\\Anaconda3\\envs\\newenvt\\lib\\site-packages\\sklearn\\multiclass.py:81: UserWarning: Label 0 is present in all training examples.\n",
      "  str(classes[c]))\n"
     ]
    },
    {
     "name": "stdout",
     "output_type": "stream",
     "text": [
      "BRFSS MultiLabel Cancer + Diabetes - Grounded, Knowledge Graph-Based Feature Selection - Logistic Regression\n",
      "              precision    recall  f1-score   support\n",
      "\n",
      "           0       0.85      1.00      0.92      2076\n",
      "           1       0.00      0.00      0.00       379\n",
      "\n",
      "    accuracy                           0.85      2455\n",
      "   macro avg       0.42      0.50      0.46      2455\n",
      "weighted avg       0.72      0.85      0.77      2455\n",
      "\n",
      "Hamming Loss: 0.15437881873727088\n"
     ]
    },
    {
     "name": "stderr",
     "output_type": "stream",
     "text": [
      "C:\\ProgramData\\Anaconda3\\envs\\newenvt\\lib\\site-packages\\sklearn\\metrics\\_classification.py:1245: UndefinedMetricWarning: Precision and F-score are ill-defined and being set to 0.0 in labels with no predicted samples. Use `zero_division` parameter to control this behavior.\n",
      "  _warn_prf(average, modifier, msg_start, len(result))\n",
      "C:\\ProgramData\\Anaconda3\\envs\\newenvt\\lib\\site-packages\\sklearn\\metrics\\_classification.py:1245: UndefinedMetricWarning: Precision and F-score are ill-defined and being set to 0.0 in labels with no predicted samples. Use `zero_division` parameter to control this behavior.\n",
      "  _warn_prf(average, modifier, msg_start, len(result))\n",
      "C:\\ProgramData\\Anaconda3\\envs\\newenvt\\lib\\site-packages\\sklearn\\metrics\\_classification.py:1245: UndefinedMetricWarning: Precision and F-score are ill-defined and being set to 0.0 in labels with no predicted samples. Use `zero_division` parameter to control this behavior.\n",
      "  _warn_prf(average, modifier, msg_start, len(result))\n",
      "C:\\ProgramData\\Anaconda3\\envs\\newenvt\\lib\\site-packages\\sklearn\\multiclass.py:81: UserWarning: Label 0 is present in all training examples.\n",
      "  str(classes[c]))\n"
     ]
    },
    {
     "name": "stdout",
     "output_type": "stream",
     "text": [
      "BRFSS MultiLabel Cancer + Diabetes - Grounded, Knowledge Graph-Based Feature Selection - Logistic Regression\n",
      "              precision    recall  f1-score   support\n",
      "\n",
      "           0       0.87      1.00      0.93      2136\n",
      "           1       0.00      0.00      0.00       319\n",
      "\n",
      "    accuracy                           0.87      2455\n",
      "   macro avg       0.44      0.50      0.47      2455\n",
      "weighted avg       0.76      0.87      0.81      2455\n",
      "\n",
      "Hamming Loss: 0.129938900203666\n"
     ]
    },
    {
     "name": "stderr",
     "output_type": "stream",
     "text": [
      "C:\\ProgramData\\Anaconda3\\envs\\newenvt\\lib\\site-packages\\sklearn\\metrics\\_classification.py:1245: UndefinedMetricWarning: Precision and F-score are ill-defined and being set to 0.0 in labels with no predicted samples. Use `zero_division` parameter to control this behavior.\n",
      "  _warn_prf(average, modifier, msg_start, len(result))\n",
      "C:\\ProgramData\\Anaconda3\\envs\\newenvt\\lib\\site-packages\\sklearn\\metrics\\_classification.py:1245: UndefinedMetricWarning: Precision and F-score are ill-defined and being set to 0.0 in labels with no predicted samples. Use `zero_division` parameter to control this behavior.\n",
      "  _warn_prf(average, modifier, msg_start, len(result))\n",
      "C:\\ProgramData\\Anaconda3\\envs\\newenvt\\lib\\site-packages\\sklearn\\metrics\\_classification.py:1245: UndefinedMetricWarning: Precision and F-score are ill-defined and being set to 0.0 in labels with no predicted samples. Use `zero_division` parameter to control this behavior.\n",
      "  _warn_prf(average, modifier, msg_start, len(result))\n",
      "C:\\ProgramData\\Anaconda3\\envs\\newenvt\\lib\\site-packages\\sklearn\\multiclass.py:81: UserWarning: Label 0 is present in all training examples.\n",
      "  str(classes[c]))\n"
     ]
    },
    {
     "name": "stdout",
     "output_type": "stream",
     "text": [
      "BRFSS MultiLabel Cancer + Diabetes - Grounded, Knowledge Graph-Based Feature Selection - Logistic Regression\n",
      "              precision    recall  f1-score   support\n",
      "\n",
      "           0       0.90      1.00      0.95      2216\n",
      "           1       0.00      0.00      0.00       239\n",
      "\n",
      "    accuracy                           0.90      2455\n",
      "   macro avg       0.45      0.50      0.47      2455\n",
      "weighted avg       0.81      0.90      0.86      2455\n",
      "\n",
      "Hamming Loss: 0.09735234215885948\n"
     ]
    },
    {
     "name": "stderr",
     "output_type": "stream",
     "text": [
      "C:\\ProgramData\\Anaconda3\\envs\\newenvt\\lib\\site-packages\\sklearn\\metrics\\_classification.py:1245: UndefinedMetricWarning: Precision and F-score are ill-defined and being set to 0.0 in labels with no predicted samples. Use `zero_division` parameter to control this behavior.\n",
      "  _warn_prf(average, modifier, msg_start, len(result))\n",
      "C:\\ProgramData\\Anaconda3\\envs\\newenvt\\lib\\site-packages\\sklearn\\metrics\\_classification.py:1245: UndefinedMetricWarning: Precision and F-score are ill-defined and being set to 0.0 in labels with no predicted samples. Use `zero_division` parameter to control this behavior.\n",
      "  _warn_prf(average, modifier, msg_start, len(result))\n",
      "C:\\ProgramData\\Anaconda3\\envs\\newenvt\\lib\\site-packages\\sklearn\\metrics\\_classification.py:1245: UndefinedMetricWarning: Precision and F-score are ill-defined and being set to 0.0 in labels with no predicted samples. Use `zero_division` parameter to control this behavior.\n",
      "  _warn_prf(average, modifier, msg_start, len(result))\n",
      "C:\\ProgramData\\Anaconda3\\envs\\newenvt\\lib\\site-packages\\sklearn\\multiclass.py:81: UserWarning: Label 0 is present in all training examples.\n",
      "  str(classes[c]))\n",
      "C:\\ProgramData\\Anaconda3\\envs\\newenvt\\lib\\site-packages\\sklearn\\svm\\_base.py:986: ConvergenceWarning: Liblinear failed to converge, increase the number of iterations.\n",
      "  \"the number of iterations.\", ConvergenceWarning)\n",
      "C:\\ProgramData\\Anaconda3\\envs\\newenvt\\lib\\site-packages\\sklearn\\metrics\\_classification.py:1245: UndefinedMetricWarning: Precision and F-score are ill-defined and being set to 0.0 in labels with no predicted samples. Use `zero_division` parameter to control this behavior.\n",
      "  _warn_prf(average, modifier, msg_start, len(result))\n",
      "C:\\ProgramData\\Anaconda3\\envs\\newenvt\\lib\\site-packages\\sklearn\\metrics\\_classification.py:1245: UndefinedMetricWarning: Precision and F-score are ill-defined and being set to 0.0 in labels with no predicted samples. Use `zero_division` parameter to control this behavior.\n",
      "  _warn_prf(average, modifier, msg_start, len(result))\n",
      "C:\\ProgramData\\Anaconda3\\envs\\newenvt\\lib\\site-packages\\sklearn\\metrics\\_classification.py:1245: UndefinedMetricWarning: Precision and F-score are ill-defined and being set to 0.0 in labels with no predicted samples. Use `zero_division` parameter to control this behavior.\n",
      "  _warn_prf(average, modifier, msg_start, len(result))\n",
      "C:\\ProgramData\\Anaconda3\\envs\\newenvt\\lib\\site-packages\\sklearn\\metrics\\_classification.py:1245: UndefinedMetricWarning: Precision and F-score are ill-defined and being set to 0.0 in labels with no predicted samples. Use `zero_division` parameter to control this behavior.\n",
      "  _warn_prf(average, modifier, msg_start, len(result))\n",
      "C:\\ProgramData\\Anaconda3\\envs\\newenvt\\lib\\site-packages\\sklearn\\metrics\\_classification.py:1245: UndefinedMetricWarning: Precision and F-score are ill-defined and being set to 0.0 in labels with no predicted samples. Use `zero_division` parameter to control this behavior.\n",
      "  _warn_prf(average, modifier, msg_start, len(result))\n",
      "C:\\ProgramData\\Anaconda3\\envs\\newenvt\\lib\\site-packages\\sklearn\\metrics\\_classification.py:1245: UndefinedMetricWarning: Precision and F-score are ill-defined and being set to 0.0 in labels with no predicted samples. Use `zero_division` parameter to control this behavior.\n",
      "  _warn_prf(average, modifier, msg_start, len(result))\n"
     ]
    },
    {
     "name": "stdout",
     "output_type": "stream",
     "text": [
      "BRFSS MultiLabel Cancer + Diabetes - Grounded, Knowledge Graph-Based Feature Selection - Logistic Regression\n",
      "              precision    recall  f1-score   support\n",
      "\n",
      "           0       0.89      1.00      0.94      2189\n",
      "           1       0.00      0.00      0.00       266\n",
      "\n",
      "    accuracy                           0.89      2455\n",
      "   macro avg       0.45      0.50      0.47      2455\n",
      "weighted avg       0.80      0.89      0.84      2455\n",
      "\n",
      "Hamming Loss: 0.10835030549898167\n",
      "y_pred shape: \n",
      "(2455, 2)\n",
      "y_pred2 shape:\n",
      "(5, 2455, 2)\n",
      "BRFSS MultiLabel Cancer + Diabetes - Grounded, Knowledge Graph-Based Feature Selection - Logistic Regression AGGREGATE\n",
      "              precision    recall  f1-score   support\n",
      "\n",
      "           0       0.87      1.00      0.93     10723\n",
      "           1       0.00      0.00      0.00      1552\n",
      "\n",
      "    accuracy                           0.87     12275\n",
      "   macro avg       0.44      0.50      0.47     12275\n",
      "weighted avg       0.76      0.87      0.81     12275\n",
      "\n",
      "Hamming Loss: 0.1264358452138493\n"
     ]
    },
    {
     "name": "stderr",
     "output_type": "stream",
     "text": [
      "C:\\ProgramData\\Anaconda3\\envs\\newenvt\\lib\\site-packages\\sklearn\\multiclass.py:81: UserWarning: Label 0 is present in all training examples.\n",
      "  str(classes[c]))\n",
      "C:\\ProgramData\\Anaconda3\\envs\\newenvt\\lib\\site-packages\\sklearn\\metrics\\_classification.py:1245: UndefinedMetricWarning: Precision and F-score are ill-defined and being set to 0.0 in labels with no predicted samples. Use `zero_division` parameter to control this behavior.\n",
      "  _warn_prf(average, modifier, msg_start, len(result))\n",
      "C:\\ProgramData\\Anaconda3\\envs\\newenvt\\lib\\site-packages\\sklearn\\metrics\\_classification.py:1245: UndefinedMetricWarning: Precision and F-score are ill-defined and being set to 0.0 in labels with no predicted samples. Use `zero_division` parameter to control this behavior.\n",
      "  _warn_prf(average, modifier, msg_start, len(result))\n",
      "C:\\ProgramData\\Anaconda3\\envs\\newenvt\\lib\\site-packages\\sklearn\\metrics\\_classification.py:1245: UndefinedMetricWarning: Precision and F-score are ill-defined and being set to 0.0 in labels with no predicted samples. Use `zero_division` parameter to control this behavior.\n",
      "  _warn_prf(average, modifier, msg_start, len(result))\n"
     ]
    },
    {
     "name": "stdout",
     "output_type": "stream",
     "text": [
      "BRFSS MultiLabel Cancer + Diabetes - Grounded, Knowledge Graph-Based Feature Selection - MultinomialNB\n",
      "              precision    recall  f1-score   support\n",
      "\n",
      "           0       0.86      1.00      0.92      2106\n",
      "           1       0.00      0.00      0.00       349\n",
      "\n",
      "    accuracy                           0.86      2455\n",
      "   macro avg       0.43      0.50      0.46      2455\n",
      "weighted avg       0.74      0.86      0.79      2455\n",
      "\n",
      "Hamming Loss: 0.14215885947046844\n"
     ]
    },
    {
     "name": "stderr",
     "output_type": "stream",
     "text": [
      "C:\\ProgramData\\Anaconda3\\envs\\newenvt\\lib\\site-packages\\sklearn\\multiclass.py:81: UserWarning: Label 0 is present in all training examples.\n",
      "  str(classes[c]))\n",
      "C:\\ProgramData\\Anaconda3\\envs\\newenvt\\lib\\site-packages\\sklearn\\metrics\\_classification.py:1245: UndefinedMetricWarning: Precision and F-score are ill-defined and being set to 0.0 in labels with no predicted samples. Use `zero_division` parameter to control this behavior.\n",
      "  _warn_prf(average, modifier, msg_start, len(result))\n",
      "C:\\ProgramData\\Anaconda3\\envs\\newenvt\\lib\\site-packages\\sklearn\\metrics\\_classification.py:1245: UndefinedMetricWarning: Precision and F-score are ill-defined and being set to 0.0 in labels with no predicted samples. Use `zero_division` parameter to control this behavior.\n",
      "  _warn_prf(average, modifier, msg_start, len(result))\n",
      "C:\\ProgramData\\Anaconda3\\envs\\newenvt\\lib\\site-packages\\sklearn\\metrics\\_classification.py:1245: UndefinedMetricWarning: Precision and F-score are ill-defined and being set to 0.0 in labels with no predicted samples. Use `zero_division` parameter to control this behavior.\n",
      "  _warn_prf(average, modifier, msg_start, len(result))\n"
     ]
    },
    {
     "name": "stdout",
     "output_type": "stream",
     "text": [
      "BRFSS MultiLabel Cancer + Diabetes - Grounded, Knowledge Graph-Based Feature Selection - MultinomialNB\n",
      "              precision    recall  f1-score   support\n",
      "\n",
      "           0       0.85      1.00      0.92      2076\n",
      "           1       0.00      0.00      0.00       379\n",
      "\n",
      "    accuracy                           0.85      2455\n",
      "   macro avg       0.42      0.50      0.46      2455\n",
      "weighted avg       0.72      0.85      0.77      2455\n",
      "\n",
      "Hamming Loss: 0.15437881873727088\n"
     ]
    },
    {
     "name": "stderr",
     "output_type": "stream",
     "text": [
      "C:\\ProgramData\\Anaconda3\\envs\\newenvt\\lib\\site-packages\\sklearn\\multiclass.py:81: UserWarning: Label 0 is present in all training examples.\n",
      "  str(classes[c]))\n",
      "C:\\ProgramData\\Anaconda3\\envs\\newenvt\\lib\\site-packages\\sklearn\\metrics\\_classification.py:1245: UndefinedMetricWarning: Precision and F-score are ill-defined and being set to 0.0 in labels with no predicted samples. Use `zero_division` parameter to control this behavior.\n",
      "  _warn_prf(average, modifier, msg_start, len(result))\n",
      "C:\\ProgramData\\Anaconda3\\envs\\newenvt\\lib\\site-packages\\sklearn\\metrics\\_classification.py:1245: UndefinedMetricWarning: Precision and F-score are ill-defined and being set to 0.0 in labels with no predicted samples. Use `zero_division` parameter to control this behavior.\n",
      "  _warn_prf(average, modifier, msg_start, len(result))\n",
      "C:\\ProgramData\\Anaconda3\\envs\\newenvt\\lib\\site-packages\\sklearn\\metrics\\_classification.py:1245: UndefinedMetricWarning: Precision and F-score are ill-defined and being set to 0.0 in labels with no predicted samples. Use `zero_division` parameter to control this behavior.\n",
      "  _warn_prf(average, modifier, msg_start, len(result))\n"
     ]
    },
    {
     "name": "stdout",
     "output_type": "stream",
     "text": [
      "BRFSS MultiLabel Cancer + Diabetes - Grounded, Knowledge Graph-Based Feature Selection - MultinomialNB\n",
      "              precision    recall  f1-score   support\n",
      "\n",
      "           0       0.87      1.00      0.93      2136\n",
      "           1       0.00      0.00      0.00       319\n",
      "\n",
      "    accuracy                           0.87      2455\n",
      "   macro avg       0.44      0.50      0.47      2455\n",
      "weighted avg       0.76      0.87      0.81      2455\n",
      "\n",
      "Hamming Loss: 0.129938900203666\n"
     ]
    },
    {
     "name": "stderr",
     "output_type": "stream",
     "text": [
      "C:\\ProgramData\\Anaconda3\\envs\\newenvt\\lib\\site-packages\\sklearn\\multiclass.py:81: UserWarning: Label 0 is present in all training examples.\n",
      "  str(classes[c]))\n",
      "C:\\ProgramData\\Anaconda3\\envs\\newenvt\\lib\\site-packages\\sklearn\\metrics\\_classification.py:1245: UndefinedMetricWarning: Precision and F-score are ill-defined and being set to 0.0 in labels with no predicted samples. Use `zero_division` parameter to control this behavior.\n",
      "  _warn_prf(average, modifier, msg_start, len(result))\n",
      "C:\\ProgramData\\Anaconda3\\envs\\newenvt\\lib\\site-packages\\sklearn\\metrics\\_classification.py:1245: UndefinedMetricWarning: Precision and F-score are ill-defined and being set to 0.0 in labels with no predicted samples. Use `zero_division` parameter to control this behavior.\n",
      "  _warn_prf(average, modifier, msg_start, len(result))\n",
      "C:\\ProgramData\\Anaconda3\\envs\\newenvt\\lib\\site-packages\\sklearn\\metrics\\_classification.py:1245: UndefinedMetricWarning: Precision and F-score are ill-defined and being set to 0.0 in labels with no predicted samples. Use `zero_division` parameter to control this behavior.\n",
      "  _warn_prf(average, modifier, msg_start, len(result))\n"
     ]
    },
    {
     "name": "stdout",
     "output_type": "stream",
     "text": [
      "BRFSS MultiLabel Cancer + Diabetes - Grounded, Knowledge Graph-Based Feature Selection - MultinomialNB\n",
      "              precision    recall  f1-score   support\n",
      "\n",
      "           0       0.90      1.00      0.95      2216\n",
      "           1       0.00      0.00      0.00       239\n",
      "\n",
      "    accuracy                           0.90      2455\n",
      "   macro avg       0.45      0.50      0.47      2455\n",
      "weighted avg       0.81      0.90      0.86      2455\n",
      "\n",
      "Hamming Loss: 0.09735234215885948\n"
     ]
    },
    {
     "name": "stderr",
     "output_type": "stream",
     "text": [
      "C:\\ProgramData\\Anaconda3\\envs\\newenvt\\lib\\site-packages\\sklearn\\multiclass.py:81: UserWarning: Label 0 is present in all training examples.\n",
      "  str(classes[c]))\n",
      "C:\\ProgramData\\Anaconda3\\envs\\newenvt\\lib\\site-packages\\sklearn\\metrics\\_classification.py:1245: UndefinedMetricWarning: Precision and F-score are ill-defined and being set to 0.0 in labels with no predicted samples. Use `zero_division` parameter to control this behavior.\n",
      "  _warn_prf(average, modifier, msg_start, len(result))\n",
      "C:\\ProgramData\\Anaconda3\\envs\\newenvt\\lib\\site-packages\\sklearn\\metrics\\_classification.py:1245: UndefinedMetricWarning: Precision and F-score are ill-defined and being set to 0.0 in labels with no predicted samples. Use `zero_division` parameter to control this behavior.\n",
      "  _warn_prf(average, modifier, msg_start, len(result))\n",
      "C:\\ProgramData\\Anaconda3\\envs\\newenvt\\lib\\site-packages\\sklearn\\metrics\\_classification.py:1245: UndefinedMetricWarning: Precision and F-score are ill-defined and being set to 0.0 in labels with no predicted samples. Use `zero_division` parameter to control this behavior.\n",
      "  _warn_prf(average, modifier, msg_start, len(result))\n",
      "C:\\ProgramData\\Anaconda3\\envs\\newenvt\\lib\\site-packages\\sklearn\\metrics\\_classification.py:1245: UndefinedMetricWarning: Precision and F-score are ill-defined and being set to 0.0 in labels with no predicted samples. Use `zero_division` parameter to control this behavior.\n",
      "  _warn_prf(average, modifier, msg_start, len(result))\n",
      "C:\\ProgramData\\Anaconda3\\envs\\newenvt\\lib\\site-packages\\sklearn\\metrics\\_classification.py:1245: UndefinedMetricWarning: Precision and F-score are ill-defined and being set to 0.0 in labels with no predicted samples. Use `zero_division` parameter to control this behavior.\n",
      "  _warn_prf(average, modifier, msg_start, len(result))\n",
      "C:\\ProgramData\\Anaconda3\\envs\\newenvt\\lib\\site-packages\\sklearn\\metrics\\_classification.py:1245: UndefinedMetricWarning: Precision and F-score are ill-defined and being set to 0.0 in labels with no predicted samples. Use `zero_division` parameter to control this behavior.\n",
      "  _warn_prf(average, modifier, msg_start, len(result))\n"
     ]
    },
    {
     "name": "stdout",
     "output_type": "stream",
     "text": [
      "BRFSS MultiLabel Cancer + Diabetes - Grounded, Knowledge Graph-Based Feature Selection - MultinomialNB\n",
      "              precision    recall  f1-score   support\n",
      "\n",
      "           0       0.89      1.00      0.94      2189\n",
      "           1       0.00      0.00      0.00       266\n",
      "\n",
      "    accuracy                           0.89      2455\n",
      "   macro avg       0.45      0.50      0.47      2455\n",
      "weighted avg       0.80      0.89      0.84      2455\n",
      "\n",
      "Hamming Loss: 0.10835030549898167\n",
      "BRFSS MultiLabel Cancer + Diabetes - Grounded, Knowledge Graph-Based Feature Selection - MultinomialNB AGGREGATE\n",
      "              precision    recall  f1-score   support\n",
      "\n",
      "           0       0.87      1.00      0.93     10723\n",
      "           1       0.00      0.00      0.00      1552\n",
      "\n",
      "    accuracy                           0.87     12275\n",
      "   macro avg       0.44      0.50      0.47     12275\n",
      "weighted avg       0.76      0.87      0.81     12275\n",
      "\n",
      "Hamming Loss: 0.1264358452138493\n"
     ]
    },
    {
     "name": "stderr",
     "output_type": "stream",
     "text": [
      "C:\\ProgramData\\Anaconda3\\envs\\newenvt\\lib\\site-packages\\sklearn\\multiclass.py:81: UserWarning: Label 0 is present in all training examples.\n",
      "  str(classes[c]))\n"
     ]
    },
    {
     "name": "stdout",
     "output_type": "stream",
     "text": [
      "BRFSS MultiLabel Cancer + Diabetes - Grounded, Knowledge Graph-Based Feature Selection - Linear DA\n",
      "              precision    recall  f1-score   support\n",
      "\n",
      "           0       0.86      1.00      0.92      2106\n",
      "           1       0.00      0.00      0.00       349\n",
      "\n",
      "    accuracy                           0.86      2455\n",
      "   macro avg       0.43      0.50      0.46      2455\n",
      "weighted avg       0.74      0.86      0.79      2455\n",
      "\n",
      "Hamming Loss: 0.14215885947046844\n"
     ]
    },
    {
     "name": "stderr",
     "output_type": "stream",
     "text": [
      "C:\\ProgramData\\Anaconda3\\envs\\newenvt\\lib\\site-packages\\sklearn\\metrics\\_classification.py:1245: UndefinedMetricWarning: Precision and F-score are ill-defined and being set to 0.0 in labels with no predicted samples. Use `zero_division` parameter to control this behavior.\n",
      "  _warn_prf(average, modifier, msg_start, len(result))\n",
      "C:\\ProgramData\\Anaconda3\\envs\\newenvt\\lib\\site-packages\\sklearn\\metrics\\_classification.py:1245: UndefinedMetricWarning: Precision and F-score are ill-defined and being set to 0.0 in labels with no predicted samples. Use `zero_division` parameter to control this behavior.\n",
      "  _warn_prf(average, modifier, msg_start, len(result))\n",
      "C:\\ProgramData\\Anaconda3\\envs\\newenvt\\lib\\site-packages\\sklearn\\metrics\\_classification.py:1245: UndefinedMetricWarning: Precision and F-score are ill-defined and being set to 0.0 in labels with no predicted samples. Use `zero_division` parameter to control this behavior.\n",
      "  _warn_prf(average, modifier, msg_start, len(result))\n",
      "C:\\ProgramData\\Anaconda3\\envs\\newenvt\\lib\\site-packages\\sklearn\\multiclass.py:81: UserWarning: Label 0 is present in all training examples.\n",
      "  str(classes[c]))\n"
     ]
    },
    {
     "name": "stdout",
     "output_type": "stream",
     "text": [
      "BRFSS MultiLabel Cancer + Diabetes - Grounded, Knowledge Graph-Based Feature Selection - Linear DA\n",
      "              precision    recall  f1-score   support\n",
      "\n",
      "           0       0.85      1.00      0.92      2076\n",
      "           1       0.00      0.00      0.00       379\n",
      "\n",
      "    accuracy                           0.85      2455\n",
      "   macro avg       0.42      0.50      0.46      2455\n",
      "weighted avg       0.72      0.85      0.77      2455\n",
      "\n",
      "Hamming Loss: 0.15437881873727088\n"
     ]
    },
    {
     "name": "stderr",
     "output_type": "stream",
     "text": [
      "C:\\ProgramData\\Anaconda3\\envs\\newenvt\\lib\\site-packages\\sklearn\\metrics\\_classification.py:1245: UndefinedMetricWarning: Precision and F-score are ill-defined and being set to 0.0 in labels with no predicted samples. Use `zero_division` parameter to control this behavior.\n",
      "  _warn_prf(average, modifier, msg_start, len(result))\n",
      "C:\\ProgramData\\Anaconda3\\envs\\newenvt\\lib\\site-packages\\sklearn\\metrics\\_classification.py:1245: UndefinedMetricWarning: Precision and F-score are ill-defined and being set to 0.0 in labels with no predicted samples. Use `zero_division` parameter to control this behavior.\n",
      "  _warn_prf(average, modifier, msg_start, len(result))\n",
      "C:\\ProgramData\\Anaconda3\\envs\\newenvt\\lib\\site-packages\\sklearn\\metrics\\_classification.py:1245: UndefinedMetricWarning: Precision and F-score are ill-defined and being set to 0.0 in labels with no predicted samples. Use `zero_division` parameter to control this behavior.\n",
      "  _warn_prf(average, modifier, msg_start, len(result))\n",
      "C:\\ProgramData\\Anaconda3\\envs\\newenvt\\lib\\site-packages\\sklearn\\multiclass.py:81: UserWarning: Label 0 is present in all training examples.\n",
      "  str(classes[c]))\n"
     ]
    },
    {
     "name": "stdout",
     "output_type": "stream",
     "text": [
      "BRFSS MultiLabel Cancer + Diabetes - Grounded, Knowledge Graph-Based Feature Selection - Linear DA\n",
      "              precision    recall  f1-score   support\n",
      "\n",
      "           0       0.87      1.00      0.93      2136\n",
      "           1       0.00      0.00      0.00       319\n",
      "\n",
      "    accuracy                           0.87      2455\n",
      "   macro avg       0.44      0.50      0.47      2455\n",
      "weighted avg       0.76      0.87      0.81      2455\n",
      "\n",
      "Hamming Loss: 0.129938900203666\n"
     ]
    },
    {
     "name": "stderr",
     "output_type": "stream",
     "text": [
      "C:\\ProgramData\\Anaconda3\\envs\\newenvt\\lib\\site-packages\\sklearn\\metrics\\_classification.py:1245: UndefinedMetricWarning: Precision and F-score are ill-defined and being set to 0.0 in labels with no predicted samples. Use `zero_division` parameter to control this behavior.\n",
      "  _warn_prf(average, modifier, msg_start, len(result))\n",
      "C:\\ProgramData\\Anaconda3\\envs\\newenvt\\lib\\site-packages\\sklearn\\metrics\\_classification.py:1245: UndefinedMetricWarning: Precision and F-score are ill-defined and being set to 0.0 in labels with no predicted samples. Use `zero_division` parameter to control this behavior.\n",
      "  _warn_prf(average, modifier, msg_start, len(result))\n",
      "C:\\ProgramData\\Anaconda3\\envs\\newenvt\\lib\\site-packages\\sklearn\\metrics\\_classification.py:1245: UndefinedMetricWarning: Precision and F-score are ill-defined and being set to 0.0 in labels with no predicted samples. Use `zero_division` parameter to control this behavior.\n",
      "  _warn_prf(average, modifier, msg_start, len(result))\n",
      "C:\\ProgramData\\Anaconda3\\envs\\newenvt\\lib\\site-packages\\sklearn\\multiclass.py:81: UserWarning: Label 0 is present in all training examples.\n",
      "  str(classes[c]))\n"
     ]
    },
    {
     "name": "stdout",
     "output_type": "stream",
     "text": [
      "BRFSS MultiLabel Cancer + Diabetes - Grounded, Knowledge Graph-Based Feature Selection - Linear DA\n",
      "              precision    recall  f1-score   support\n",
      "\n",
      "           0       0.90      1.00      0.95      2216\n",
      "           1       0.00      0.00      0.00       239\n",
      "\n",
      "    accuracy                           0.90      2455\n",
      "   macro avg       0.45      0.50      0.47      2455\n",
      "weighted avg       0.81      0.90      0.86      2455\n",
      "\n",
      "Hamming Loss: 0.09735234215885948\n"
     ]
    },
    {
     "name": "stderr",
     "output_type": "stream",
     "text": [
      "C:\\ProgramData\\Anaconda3\\envs\\newenvt\\lib\\site-packages\\sklearn\\metrics\\_classification.py:1245: UndefinedMetricWarning: Precision and F-score are ill-defined and being set to 0.0 in labels with no predicted samples. Use `zero_division` parameter to control this behavior.\n",
      "  _warn_prf(average, modifier, msg_start, len(result))\n",
      "C:\\ProgramData\\Anaconda3\\envs\\newenvt\\lib\\site-packages\\sklearn\\metrics\\_classification.py:1245: UndefinedMetricWarning: Precision and F-score are ill-defined and being set to 0.0 in labels with no predicted samples. Use `zero_division` parameter to control this behavior.\n",
      "  _warn_prf(average, modifier, msg_start, len(result))\n",
      "C:\\ProgramData\\Anaconda3\\envs\\newenvt\\lib\\site-packages\\sklearn\\metrics\\_classification.py:1245: UndefinedMetricWarning: Precision and F-score are ill-defined and being set to 0.0 in labels with no predicted samples. Use `zero_division` parameter to control this behavior.\n",
      "  _warn_prf(average, modifier, msg_start, len(result))\n",
      "C:\\ProgramData\\Anaconda3\\envs\\newenvt\\lib\\site-packages\\sklearn\\multiclass.py:81: UserWarning: Label 0 is present in all training examples.\n",
      "  str(classes[c]))\n"
     ]
    },
    {
     "name": "stdout",
     "output_type": "stream",
     "text": [
      "BRFSS MultiLabel Cancer + Diabetes - Grounded, Knowledge Graph-Based Feature Selection - Linear DA\n",
      "              precision    recall  f1-score   support\n",
      "\n",
      "           0       0.89      1.00      0.94      2189\n",
      "           1       0.00      0.00      0.00       266\n",
      "\n",
      "    accuracy                           0.89      2455\n",
      "   macro avg       0.45      0.50      0.47      2455\n",
      "weighted avg       0.80      0.89      0.84      2455\n",
      "\n",
      "Hamming Loss: 0.10835030549898167\n",
      "BRFSS MultiLabel Cancer + Diabetes - Grounded, Knowledge Graph-Based Feature Selection - Linear DA AGGREGATE\n",
      "              precision    recall  f1-score   support\n",
      "\n",
      "           0       0.87      1.00      0.93     10723\n",
      "           1       0.00      0.00      0.00      1552\n",
      "\n",
      "    accuracy                           0.87     12275\n",
      "   macro avg       0.44      0.50      0.47     12275\n",
      "weighted avg       0.76      0.87      0.81     12275\n",
      "\n",
      "Hamming Loss: 0.1264358452138493\n"
     ]
    },
    {
     "name": "stderr",
     "output_type": "stream",
     "text": [
      "C:\\ProgramData\\Anaconda3\\envs\\newenvt\\lib\\site-packages\\sklearn\\metrics\\_classification.py:1245: UndefinedMetricWarning: Precision and F-score are ill-defined and being set to 0.0 in labels with no predicted samples. Use `zero_division` parameter to control this behavior.\n",
      "  _warn_prf(average, modifier, msg_start, len(result))\n",
      "C:\\ProgramData\\Anaconda3\\envs\\newenvt\\lib\\site-packages\\sklearn\\metrics\\_classification.py:1245: UndefinedMetricWarning: Precision and F-score are ill-defined and being set to 0.0 in labels with no predicted samples. Use `zero_division` parameter to control this behavior.\n",
      "  _warn_prf(average, modifier, msg_start, len(result))\n",
      "C:\\ProgramData\\Anaconda3\\envs\\newenvt\\lib\\site-packages\\sklearn\\metrics\\_classification.py:1245: UndefinedMetricWarning: Precision and F-score are ill-defined and being set to 0.0 in labels with no predicted samples. Use `zero_division` parameter to control this behavior.\n",
      "  _warn_prf(average, modifier, msg_start, len(result))\n",
      "C:\\ProgramData\\Anaconda3\\envs\\newenvt\\lib\\site-packages\\sklearn\\metrics\\_classification.py:1245: UndefinedMetricWarning: Precision and F-score are ill-defined and being set to 0.0 in labels with no predicted samples. Use `zero_division` parameter to control this behavior.\n",
      "  _warn_prf(average, modifier, msg_start, len(result))\n",
      "C:\\ProgramData\\Anaconda3\\envs\\newenvt\\lib\\site-packages\\sklearn\\metrics\\_classification.py:1245: UndefinedMetricWarning: Precision and F-score are ill-defined and being set to 0.0 in labels with no predicted samples. Use `zero_division` parameter to control this behavior.\n",
      "  _warn_prf(average, modifier, msg_start, len(result))\n",
      "C:\\ProgramData\\Anaconda3\\envs\\newenvt\\lib\\site-packages\\sklearn\\metrics\\_classification.py:1245: UndefinedMetricWarning: Precision and F-score are ill-defined and being set to 0.0 in labels with no predicted samples. Use `zero_division` parameter to control this behavior.\n",
      "  _warn_prf(average, modifier, msg_start, len(result))\n",
      "C:\\ProgramData\\Anaconda3\\envs\\newenvt\\lib\\site-packages\\sklearn\\multiclass.py:81: UserWarning: Label 0 is present in all training examples.\n",
      "  str(classes[c]))\n"
     ]
    },
    {
     "name": "stdout",
     "output_type": "stream",
     "text": [
      "BRFSS MultiLabel Cancer + Diabetes - Grounded, Knowledge Graph-Based Feature Selection - Random Forest\n",
      "              precision    recall  f1-score   support\n",
      "\n",
      "           0       0.86      1.00      0.92      2106\n",
      "           1       0.00      0.00      0.00       349\n",
      "\n",
      "    accuracy                           0.86      2455\n",
      "   macro avg       0.43      0.50      0.46      2455\n",
      "weighted avg       0.74      0.86      0.79      2455\n",
      "\n",
      "Hamming Loss: 0.14215885947046844\n"
     ]
    },
    {
     "name": "stderr",
     "output_type": "stream",
     "text": [
      "C:\\ProgramData\\Anaconda3\\envs\\newenvt\\lib\\site-packages\\sklearn\\metrics\\_classification.py:1245: UndefinedMetricWarning: Precision and F-score are ill-defined and being set to 0.0 in labels with no predicted samples. Use `zero_division` parameter to control this behavior.\n",
      "  _warn_prf(average, modifier, msg_start, len(result))\n",
      "C:\\ProgramData\\Anaconda3\\envs\\newenvt\\lib\\site-packages\\sklearn\\metrics\\_classification.py:1245: UndefinedMetricWarning: Precision and F-score are ill-defined and being set to 0.0 in labels with no predicted samples. Use `zero_division` parameter to control this behavior.\n",
      "  _warn_prf(average, modifier, msg_start, len(result))\n",
      "C:\\ProgramData\\Anaconda3\\envs\\newenvt\\lib\\site-packages\\sklearn\\metrics\\_classification.py:1245: UndefinedMetricWarning: Precision and F-score are ill-defined and being set to 0.0 in labels with no predicted samples. Use `zero_division` parameter to control this behavior.\n",
      "  _warn_prf(average, modifier, msg_start, len(result))\n",
      "C:\\ProgramData\\Anaconda3\\envs\\newenvt\\lib\\site-packages\\sklearn\\multiclass.py:81: UserWarning: Label 0 is present in all training examples.\n",
      "  str(classes[c]))\n"
     ]
    },
    {
     "name": "stdout",
     "output_type": "stream",
     "text": [
      "BRFSS MultiLabel Cancer + Diabetes - Grounded, Knowledge Graph-Based Feature Selection - Random Forest\n",
      "              precision    recall  f1-score   support\n",
      "\n",
      "           0       0.85      1.00      0.92      2076\n",
      "           1       0.00      0.00      0.00       379\n",
      "\n",
      "    accuracy                           0.85      2455\n",
      "   macro avg       0.42      0.50      0.46      2455\n",
      "weighted avg       0.72      0.85      0.77      2455\n",
      "\n",
      "Hamming Loss: 0.15437881873727088\n"
     ]
    },
    {
     "name": "stderr",
     "output_type": "stream",
     "text": [
      "C:\\ProgramData\\Anaconda3\\envs\\newenvt\\lib\\site-packages\\sklearn\\metrics\\_classification.py:1245: UndefinedMetricWarning: Precision and F-score are ill-defined and being set to 0.0 in labels with no predicted samples. Use `zero_division` parameter to control this behavior.\n",
      "  _warn_prf(average, modifier, msg_start, len(result))\n",
      "C:\\ProgramData\\Anaconda3\\envs\\newenvt\\lib\\site-packages\\sklearn\\metrics\\_classification.py:1245: UndefinedMetricWarning: Precision and F-score are ill-defined and being set to 0.0 in labels with no predicted samples. Use `zero_division` parameter to control this behavior.\n",
      "  _warn_prf(average, modifier, msg_start, len(result))\n",
      "C:\\ProgramData\\Anaconda3\\envs\\newenvt\\lib\\site-packages\\sklearn\\metrics\\_classification.py:1245: UndefinedMetricWarning: Precision and F-score are ill-defined and being set to 0.0 in labels with no predicted samples. Use `zero_division` parameter to control this behavior.\n",
      "  _warn_prf(average, modifier, msg_start, len(result))\n",
      "C:\\ProgramData\\Anaconda3\\envs\\newenvt\\lib\\site-packages\\sklearn\\multiclass.py:81: UserWarning: Label 0 is present in all training examples.\n",
      "  str(classes[c]))\n"
     ]
    },
    {
     "name": "stdout",
     "output_type": "stream",
     "text": [
      "BRFSS MultiLabel Cancer + Diabetes - Grounded, Knowledge Graph-Based Feature Selection - Random Forest\n",
      "              precision    recall  f1-score   support\n",
      "\n",
      "           0       0.87      1.00      0.93      2136\n",
      "           1       0.00      0.00      0.00       319\n",
      "\n",
      "    accuracy                           0.87      2455\n",
      "   macro avg       0.44      0.50      0.47      2455\n",
      "weighted avg       0.76      0.87      0.81      2455\n",
      "\n",
      "Hamming Loss: 0.129938900203666\n"
     ]
    },
    {
     "name": "stderr",
     "output_type": "stream",
     "text": [
      "C:\\ProgramData\\Anaconda3\\envs\\newenvt\\lib\\site-packages\\sklearn\\metrics\\_classification.py:1245: UndefinedMetricWarning: Precision and F-score are ill-defined and being set to 0.0 in labels with no predicted samples. Use `zero_division` parameter to control this behavior.\n",
      "  _warn_prf(average, modifier, msg_start, len(result))\n",
      "C:\\ProgramData\\Anaconda3\\envs\\newenvt\\lib\\site-packages\\sklearn\\metrics\\_classification.py:1245: UndefinedMetricWarning: Precision and F-score are ill-defined and being set to 0.0 in labels with no predicted samples. Use `zero_division` parameter to control this behavior.\n",
      "  _warn_prf(average, modifier, msg_start, len(result))\n",
      "C:\\ProgramData\\Anaconda3\\envs\\newenvt\\lib\\site-packages\\sklearn\\metrics\\_classification.py:1245: UndefinedMetricWarning: Precision and F-score are ill-defined and being set to 0.0 in labels with no predicted samples. Use `zero_division` parameter to control this behavior.\n",
      "  _warn_prf(average, modifier, msg_start, len(result))\n",
      "C:\\ProgramData\\Anaconda3\\envs\\newenvt\\lib\\site-packages\\sklearn\\multiclass.py:81: UserWarning: Label 0 is present in all training examples.\n",
      "  str(classes[c]))\n"
     ]
    },
    {
     "name": "stdout",
     "output_type": "stream",
     "text": [
      "BRFSS MultiLabel Cancer + Diabetes - Grounded, Knowledge Graph-Based Feature Selection - Random Forest\n",
      "              precision    recall  f1-score   support\n",
      "\n",
      "           0       0.90      1.00      0.95      2216\n",
      "           1       0.00      0.00      0.00       239\n",
      "\n",
      "    accuracy                           0.90      2455\n",
      "   macro avg       0.45      0.50      0.47      2455\n",
      "weighted avg       0.81      0.90      0.86      2455\n",
      "\n",
      "Hamming Loss: 0.09735234215885948\n"
     ]
    },
    {
     "name": "stderr",
     "output_type": "stream",
     "text": [
      "C:\\ProgramData\\Anaconda3\\envs\\newenvt\\lib\\site-packages\\sklearn\\metrics\\_classification.py:1245: UndefinedMetricWarning: Precision and F-score are ill-defined and being set to 0.0 in labels with no predicted samples. Use `zero_division` parameter to control this behavior.\n",
      "  _warn_prf(average, modifier, msg_start, len(result))\n",
      "C:\\ProgramData\\Anaconda3\\envs\\newenvt\\lib\\site-packages\\sklearn\\metrics\\_classification.py:1245: UndefinedMetricWarning: Precision and F-score are ill-defined and being set to 0.0 in labels with no predicted samples. Use `zero_division` parameter to control this behavior.\n",
      "  _warn_prf(average, modifier, msg_start, len(result))\n",
      "C:\\ProgramData\\Anaconda3\\envs\\newenvt\\lib\\site-packages\\sklearn\\metrics\\_classification.py:1245: UndefinedMetricWarning: Precision and F-score are ill-defined and being set to 0.0 in labels with no predicted samples. Use `zero_division` parameter to control this behavior.\n",
      "  _warn_prf(average, modifier, msg_start, len(result))\n",
      "C:\\ProgramData\\Anaconda3\\envs\\newenvt\\lib\\site-packages\\sklearn\\multiclass.py:81: UserWarning: Label 0 is present in all training examples.\n",
      "  str(classes[c]))\n"
     ]
    },
    {
     "name": "stdout",
     "output_type": "stream",
     "text": [
      "BRFSS MultiLabel Cancer + Diabetes - Grounded, Knowledge Graph-Based Feature Selection - Random Forest\n",
      "              precision    recall  f1-score   support\n",
      "\n",
      "           0       0.89      1.00      0.94      2189\n",
      "           1       0.00      0.00      0.00       266\n",
      "\n",
      "    accuracy                           0.89      2455\n",
      "   macro avg       0.45      0.50      0.47      2455\n",
      "weighted avg       0.80      0.89      0.84      2455\n",
      "\n",
      "Hamming Loss: 0.10835030549898167\n",
      "BRFSS MultiLabel Cancer + Diabetes - Grounded, Knowledge Graph-Based Feature Selection - Random Forest AGGREGATE\n",
      "              precision    recall  f1-score   support\n",
      "\n",
      "           0       0.87      1.00      0.93     10723\n",
      "           1       0.00      0.00      0.00      1552\n",
      "\n",
      "    accuracy                           0.87     12275\n",
      "   macro avg       0.44      0.50      0.47     12275\n",
      "weighted avg       0.76      0.87      0.81     12275\n",
      "\n",
      "Hamming Loss: 0.1264358452138493\n"
     ]
    },
    {
     "name": "stderr",
     "output_type": "stream",
     "text": [
      "C:\\ProgramData\\Anaconda3\\envs\\newenvt\\lib\\site-packages\\sklearn\\metrics\\_classification.py:1245: UndefinedMetricWarning: Precision and F-score are ill-defined and being set to 0.0 in labels with no predicted samples. Use `zero_division` parameter to control this behavior.\n",
      "  _warn_prf(average, modifier, msg_start, len(result))\n",
      "C:\\ProgramData\\Anaconda3\\envs\\newenvt\\lib\\site-packages\\sklearn\\metrics\\_classification.py:1245: UndefinedMetricWarning: Precision and F-score are ill-defined and being set to 0.0 in labels with no predicted samples. Use `zero_division` parameter to control this behavior.\n",
      "  _warn_prf(average, modifier, msg_start, len(result))\n",
      "C:\\ProgramData\\Anaconda3\\envs\\newenvt\\lib\\site-packages\\sklearn\\metrics\\_classification.py:1245: UndefinedMetricWarning: Precision and F-score are ill-defined and being set to 0.0 in labels with no predicted samples. Use `zero_division` parameter to control this behavior.\n",
      "  _warn_prf(average, modifier, msg_start, len(result))\n",
      "C:\\ProgramData\\Anaconda3\\envs\\newenvt\\lib\\site-packages\\sklearn\\metrics\\_classification.py:1245: UndefinedMetricWarning: Precision and F-score are ill-defined and being set to 0.0 in labels with no predicted samples. Use `zero_division` parameter to control this behavior.\n",
      "  _warn_prf(average, modifier, msg_start, len(result))\n",
      "C:\\ProgramData\\Anaconda3\\envs\\newenvt\\lib\\site-packages\\sklearn\\metrics\\_classification.py:1245: UndefinedMetricWarning: Precision and F-score are ill-defined and being set to 0.0 in labels with no predicted samples. Use `zero_division` parameter to control this behavior.\n",
      "  _warn_prf(average, modifier, msg_start, len(result))\n",
      "C:\\ProgramData\\Anaconda3\\envs\\newenvt\\lib\\site-packages\\sklearn\\metrics\\_classification.py:1245: UndefinedMetricWarning: Precision and F-score are ill-defined and being set to 0.0 in labels with no predicted samples. Use `zero_division` parameter to control this behavior.\n",
      "  _warn_prf(average, modifier, msg_start, len(result))\n",
      "C:\\ProgramData\\Anaconda3\\envs\\newenvt\\lib\\site-packages\\sklearn\\multiclass.py:81: UserWarning: Label 0 is present in all training examples.\n",
      "  str(classes[c]))\n"
     ]
    },
    {
     "name": "stdout",
     "output_type": "stream",
     "text": [
      "BRFSS MultiLabel Cancer + Diabetes - Grounded, Knowledge Graph-Based Feature Selection - KNN\n",
      "              precision    recall  f1-score   support\n",
      "\n",
      "           0       0.86      1.00      0.92      2106\n",
      "           1       0.00      0.00      0.00       349\n",
      "\n",
      "    accuracy                           0.86      2455\n",
      "   macro avg       0.43      0.50      0.46      2455\n",
      "weighted avg       0.74      0.86      0.79      2455\n",
      "\n",
      "Hamming Loss: 0.14215885947046844\n"
     ]
    },
    {
     "name": "stderr",
     "output_type": "stream",
     "text": [
      "C:\\ProgramData\\Anaconda3\\envs\\newenvt\\lib\\site-packages\\sklearn\\metrics\\_classification.py:1245: UndefinedMetricWarning: Precision and F-score are ill-defined and being set to 0.0 in labels with no predicted samples. Use `zero_division` parameter to control this behavior.\n",
      "  _warn_prf(average, modifier, msg_start, len(result))\n",
      "C:\\ProgramData\\Anaconda3\\envs\\newenvt\\lib\\site-packages\\sklearn\\metrics\\_classification.py:1245: UndefinedMetricWarning: Precision and F-score are ill-defined and being set to 0.0 in labels with no predicted samples. Use `zero_division` parameter to control this behavior.\n",
      "  _warn_prf(average, modifier, msg_start, len(result))\n",
      "C:\\ProgramData\\Anaconda3\\envs\\newenvt\\lib\\site-packages\\sklearn\\metrics\\_classification.py:1245: UndefinedMetricWarning: Precision and F-score are ill-defined and being set to 0.0 in labels with no predicted samples. Use `zero_division` parameter to control this behavior.\n",
      "  _warn_prf(average, modifier, msg_start, len(result))\n",
      "C:\\ProgramData\\Anaconda3\\envs\\newenvt\\lib\\site-packages\\sklearn\\multiclass.py:81: UserWarning: Label 0 is present in all training examples.\n",
      "  str(classes[c]))\n"
     ]
    },
    {
     "name": "stdout",
     "output_type": "stream",
     "text": [
      "BRFSS MultiLabel Cancer + Diabetes - Grounded, Knowledge Graph-Based Feature Selection - KNN\n",
      "              precision    recall  f1-score   support\n",
      "\n",
      "           0       0.85      1.00      0.92      2076\n",
      "           1       0.00      0.00      0.00       379\n",
      "\n",
      "    accuracy                           0.85      2455\n",
      "   macro avg       0.42      0.50      0.46      2455\n",
      "weighted avg       0.72      0.85      0.77      2455\n",
      "\n",
      "Hamming Loss: 0.15437881873727088\n"
     ]
    },
    {
     "name": "stderr",
     "output_type": "stream",
     "text": [
      "C:\\ProgramData\\Anaconda3\\envs\\newenvt\\lib\\site-packages\\sklearn\\metrics\\_classification.py:1245: UndefinedMetricWarning: Precision and F-score are ill-defined and being set to 0.0 in labels with no predicted samples. Use `zero_division` parameter to control this behavior.\n",
      "  _warn_prf(average, modifier, msg_start, len(result))\n",
      "C:\\ProgramData\\Anaconda3\\envs\\newenvt\\lib\\site-packages\\sklearn\\metrics\\_classification.py:1245: UndefinedMetricWarning: Precision and F-score are ill-defined and being set to 0.0 in labels with no predicted samples. Use `zero_division` parameter to control this behavior.\n",
      "  _warn_prf(average, modifier, msg_start, len(result))\n",
      "C:\\ProgramData\\Anaconda3\\envs\\newenvt\\lib\\site-packages\\sklearn\\metrics\\_classification.py:1245: UndefinedMetricWarning: Precision and F-score are ill-defined and being set to 0.0 in labels with no predicted samples. Use `zero_division` parameter to control this behavior.\n",
      "  _warn_prf(average, modifier, msg_start, len(result))\n",
      "C:\\ProgramData\\Anaconda3\\envs\\newenvt\\lib\\site-packages\\sklearn\\multiclass.py:81: UserWarning: Label 0 is present in all training examples.\n",
      "  str(classes[c]))\n"
     ]
    },
    {
     "name": "stdout",
     "output_type": "stream",
     "text": [
      "BRFSS MultiLabel Cancer + Diabetes - Grounded, Knowledge Graph-Based Feature Selection - KNN\n",
      "              precision    recall  f1-score   support\n",
      "\n",
      "           0       0.87      1.00      0.93      2136\n",
      "           1       0.00      0.00      0.00       319\n",
      "\n",
      "    accuracy                           0.87      2455\n",
      "   macro avg       0.44      0.50      0.47      2455\n",
      "weighted avg       0.76      0.87      0.81      2455\n",
      "\n",
      "Hamming Loss: 0.129938900203666\n"
     ]
    },
    {
     "name": "stderr",
     "output_type": "stream",
     "text": [
      "C:\\ProgramData\\Anaconda3\\envs\\newenvt\\lib\\site-packages\\sklearn\\metrics\\_classification.py:1245: UndefinedMetricWarning: Precision and F-score are ill-defined and being set to 0.0 in labels with no predicted samples. Use `zero_division` parameter to control this behavior.\n",
      "  _warn_prf(average, modifier, msg_start, len(result))\n",
      "C:\\ProgramData\\Anaconda3\\envs\\newenvt\\lib\\site-packages\\sklearn\\metrics\\_classification.py:1245: UndefinedMetricWarning: Precision and F-score are ill-defined and being set to 0.0 in labels with no predicted samples. Use `zero_division` parameter to control this behavior.\n",
      "  _warn_prf(average, modifier, msg_start, len(result))\n",
      "C:\\ProgramData\\Anaconda3\\envs\\newenvt\\lib\\site-packages\\sklearn\\metrics\\_classification.py:1245: UndefinedMetricWarning: Precision and F-score are ill-defined and being set to 0.0 in labels with no predicted samples. Use `zero_division` parameter to control this behavior.\n",
      "  _warn_prf(average, modifier, msg_start, len(result))\n",
      "C:\\ProgramData\\Anaconda3\\envs\\newenvt\\lib\\site-packages\\sklearn\\multiclass.py:81: UserWarning: Label 0 is present in all training examples.\n",
      "  str(classes[c]))\n"
     ]
    },
    {
     "name": "stdout",
     "output_type": "stream",
     "text": [
      "BRFSS MultiLabel Cancer + Diabetes - Grounded, Knowledge Graph-Based Feature Selection - KNN\n",
      "              precision    recall  f1-score   support\n",
      "\n",
      "           0       0.90      1.00      0.95      2216\n",
      "           1       0.00      0.00      0.00       239\n",
      "\n",
      "    accuracy                           0.90      2455\n",
      "   macro avg       0.45      0.50      0.47      2455\n",
      "weighted avg       0.81      0.90      0.86      2455\n",
      "\n",
      "Hamming Loss: 0.09735234215885948\n"
     ]
    },
    {
     "name": "stderr",
     "output_type": "stream",
     "text": [
      "C:\\ProgramData\\Anaconda3\\envs\\newenvt\\lib\\site-packages\\sklearn\\metrics\\_classification.py:1245: UndefinedMetricWarning: Precision and F-score are ill-defined and being set to 0.0 in labels with no predicted samples. Use `zero_division` parameter to control this behavior.\n",
      "  _warn_prf(average, modifier, msg_start, len(result))\n",
      "C:\\ProgramData\\Anaconda3\\envs\\newenvt\\lib\\site-packages\\sklearn\\metrics\\_classification.py:1245: UndefinedMetricWarning: Precision and F-score are ill-defined and being set to 0.0 in labels with no predicted samples. Use `zero_division` parameter to control this behavior.\n",
      "  _warn_prf(average, modifier, msg_start, len(result))\n",
      "C:\\ProgramData\\Anaconda3\\envs\\newenvt\\lib\\site-packages\\sklearn\\metrics\\_classification.py:1245: UndefinedMetricWarning: Precision and F-score are ill-defined and being set to 0.0 in labels with no predicted samples. Use `zero_division` parameter to control this behavior.\n",
      "  _warn_prf(average, modifier, msg_start, len(result))\n",
      "C:\\ProgramData\\Anaconda3\\envs\\newenvt\\lib\\site-packages\\sklearn\\multiclass.py:81: UserWarning: Label 0 is present in all training examples.\n",
      "  str(classes[c]))\n"
     ]
    },
    {
     "name": "stdout",
     "output_type": "stream",
     "text": [
      "BRFSS MultiLabel Cancer + Diabetes - Grounded, Knowledge Graph-Based Feature Selection - KNN\n",
      "              precision    recall  f1-score   support\n",
      "\n",
      "           0       0.89      1.00      0.94      2189\n",
      "           1       0.00      0.00      0.00       266\n",
      "\n",
      "    accuracy                           0.89      2455\n",
      "   macro avg       0.45      0.50      0.47      2455\n",
      "weighted avg       0.80      0.89      0.84      2455\n",
      "\n",
      "Hamming Loss: 0.10835030549898167\n",
      "BRFSS MultiLabel Cancer + Diabetes - Grounded, Knowledge Graph-Based Feature Selection - KNN AGGREGATE\n",
      "              precision    recall  f1-score   support\n",
      "\n",
      "           0       0.87      1.00      0.93     10723\n",
      "           1       0.00      0.00      0.00      1552\n",
      "\n",
      "    accuracy                           0.87     12275\n",
      "   macro avg       0.44      0.50      0.47     12275\n",
      "weighted avg       0.76      0.87      0.81     12275\n",
      "\n",
      "Hamming Loss: 0.1264358452138493\n"
     ]
    },
    {
     "name": "stderr",
     "output_type": "stream",
     "text": [
      "C:\\ProgramData\\Anaconda3\\envs\\newenvt\\lib\\site-packages\\sklearn\\metrics\\_classification.py:1245: UndefinedMetricWarning: Precision and F-score are ill-defined and being set to 0.0 in labels with no predicted samples. Use `zero_division` parameter to control this behavior.\n",
      "  _warn_prf(average, modifier, msg_start, len(result))\n",
      "C:\\ProgramData\\Anaconda3\\envs\\newenvt\\lib\\site-packages\\sklearn\\metrics\\_classification.py:1245: UndefinedMetricWarning: Precision and F-score are ill-defined and being set to 0.0 in labels with no predicted samples. Use `zero_division` parameter to control this behavior.\n",
      "  _warn_prf(average, modifier, msg_start, len(result))\n",
      "C:\\ProgramData\\Anaconda3\\envs\\newenvt\\lib\\site-packages\\sklearn\\metrics\\_classification.py:1245: UndefinedMetricWarning: Precision and F-score are ill-defined and being set to 0.0 in labels with no predicted samples. Use `zero_division` parameter to control this behavior.\n",
      "  _warn_prf(average, modifier, msg_start, len(result))\n",
      "C:\\ProgramData\\Anaconda3\\envs\\newenvt\\lib\\site-packages\\sklearn\\metrics\\_classification.py:1245: UndefinedMetricWarning: Precision and F-score are ill-defined and being set to 0.0 in labels with no predicted samples. Use `zero_division` parameter to control this behavior.\n",
      "  _warn_prf(average, modifier, msg_start, len(result))\n",
      "C:\\ProgramData\\Anaconda3\\envs\\newenvt\\lib\\site-packages\\sklearn\\metrics\\_classification.py:1245: UndefinedMetricWarning: Precision and F-score are ill-defined and being set to 0.0 in labels with no predicted samples. Use `zero_division` parameter to control this behavior.\n",
      "  _warn_prf(average, modifier, msg_start, len(result))\n",
      "C:\\ProgramData\\Anaconda3\\envs\\newenvt\\lib\\site-packages\\sklearn\\metrics\\_classification.py:1245: UndefinedMetricWarning: Precision and F-score are ill-defined and being set to 0.0 in labels with no predicted samples. Use `zero_division` parameter to control this behavior.\n",
      "  _warn_prf(average, modifier, msg_start, len(result))\n",
      "C:\\ProgramData\\Anaconda3\\envs\\newenvt\\lib\\site-packages\\sklearn\\multiclass.py:81: UserWarning: Label 0 is present in all training examples.\n",
      "  str(classes[c]))\n"
     ]
    },
    {
     "name": "stdout",
     "output_type": "stream",
     "text": [
      "BRFSS MultiLabel Cancer + Diabetes - Grounded - SVM\n",
      "              precision    recall  f1-score   support\n",
      "\n",
      "           0       0.86      1.00      0.92      2106\n",
      "           1       0.00      0.00      0.00       349\n",
      "\n",
      "    accuracy                           0.86      2455\n",
      "   macro avg       0.43      0.50      0.46      2455\n",
      "weighted avg       0.74      0.86      0.79      2455\n",
      "\n",
      "Hamming Loss: 0.14215885947046844\n"
     ]
    },
    {
     "name": "stderr",
     "output_type": "stream",
     "text": [
      "C:\\ProgramData\\Anaconda3\\envs\\newenvt\\lib\\site-packages\\sklearn\\metrics\\_classification.py:1245: UndefinedMetricWarning: Precision and F-score are ill-defined and being set to 0.0 in labels with no predicted samples. Use `zero_division` parameter to control this behavior.\n",
      "  _warn_prf(average, modifier, msg_start, len(result))\n",
      "C:\\ProgramData\\Anaconda3\\envs\\newenvt\\lib\\site-packages\\sklearn\\metrics\\_classification.py:1245: UndefinedMetricWarning: Precision and F-score are ill-defined and being set to 0.0 in labels with no predicted samples. Use `zero_division` parameter to control this behavior.\n",
      "  _warn_prf(average, modifier, msg_start, len(result))\n",
      "C:\\ProgramData\\Anaconda3\\envs\\newenvt\\lib\\site-packages\\sklearn\\metrics\\_classification.py:1245: UndefinedMetricWarning: Precision and F-score are ill-defined and being set to 0.0 in labels with no predicted samples. Use `zero_division` parameter to control this behavior.\n",
      "  _warn_prf(average, modifier, msg_start, len(result))\n",
      "C:\\ProgramData\\Anaconda3\\envs\\newenvt\\lib\\site-packages\\sklearn\\multiclass.py:81: UserWarning: Label 0 is present in all training examples.\n",
      "  str(classes[c]))\n"
     ]
    },
    {
     "name": "stdout",
     "output_type": "stream",
     "text": [
      "BRFSS MultiLabel Cancer + Diabetes - Grounded - SVM\n",
      "              precision    recall  f1-score   support\n",
      "\n",
      "           0       0.85      1.00      0.92      2076\n",
      "           1       0.00      0.00      0.00       379\n",
      "\n",
      "    accuracy                           0.85      2455\n",
      "   macro avg       0.42      0.50      0.46      2455\n",
      "weighted avg       0.72      0.85      0.77      2455\n",
      "\n",
      "Hamming Loss: 0.15437881873727088\n"
     ]
    },
    {
     "name": "stderr",
     "output_type": "stream",
     "text": [
      "C:\\ProgramData\\Anaconda3\\envs\\newenvt\\lib\\site-packages\\sklearn\\metrics\\_classification.py:1245: UndefinedMetricWarning: Precision and F-score are ill-defined and being set to 0.0 in labels with no predicted samples. Use `zero_division` parameter to control this behavior.\n",
      "  _warn_prf(average, modifier, msg_start, len(result))\n",
      "C:\\ProgramData\\Anaconda3\\envs\\newenvt\\lib\\site-packages\\sklearn\\metrics\\_classification.py:1245: UndefinedMetricWarning: Precision and F-score are ill-defined and being set to 0.0 in labels with no predicted samples. Use `zero_division` parameter to control this behavior.\n",
      "  _warn_prf(average, modifier, msg_start, len(result))\n",
      "C:\\ProgramData\\Anaconda3\\envs\\newenvt\\lib\\site-packages\\sklearn\\metrics\\_classification.py:1245: UndefinedMetricWarning: Precision and F-score are ill-defined and being set to 0.0 in labels with no predicted samples. Use `zero_division` parameter to control this behavior.\n",
      "  _warn_prf(average, modifier, msg_start, len(result))\n",
      "C:\\ProgramData\\Anaconda3\\envs\\newenvt\\lib\\site-packages\\sklearn\\multiclass.py:81: UserWarning: Label 0 is present in all training examples.\n",
      "  str(classes[c]))\n"
     ]
    },
    {
     "name": "stdout",
     "output_type": "stream",
     "text": [
      "BRFSS MultiLabel Cancer + Diabetes - Grounded - SVM\n",
      "              precision    recall  f1-score   support\n",
      "\n",
      "           0       0.87      1.00      0.93      2136\n",
      "           1       0.00      0.00      0.00       319\n",
      "\n",
      "    accuracy                           0.87      2455\n",
      "   macro avg       0.44      0.50      0.47      2455\n",
      "weighted avg       0.76      0.87      0.81      2455\n",
      "\n",
      "Hamming Loss: 0.129938900203666\n"
     ]
    },
    {
     "name": "stderr",
     "output_type": "stream",
     "text": [
      "C:\\ProgramData\\Anaconda3\\envs\\newenvt\\lib\\site-packages\\sklearn\\metrics\\_classification.py:1245: UndefinedMetricWarning: Precision and F-score are ill-defined and being set to 0.0 in labels with no predicted samples. Use `zero_division` parameter to control this behavior.\n",
      "  _warn_prf(average, modifier, msg_start, len(result))\n",
      "C:\\ProgramData\\Anaconda3\\envs\\newenvt\\lib\\site-packages\\sklearn\\metrics\\_classification.py:1245: UndefinedMetricWarning: Precision and F-score are ill-defined and being set to 0.0 in labels with no predicted samples. Use `zero_division` parameter to control this behavior.\n",
      "  _warn_prf(average, modifier, msg_start, len(result))\n",
      "C:\\ProgramData\\Anaconda3\\envs\\newenvt\\lib\\site-packages\\sklearn\\metrics\\_classification.py:1245: UndefinedMetricWarning: Precision and F-score are ill-defined and being set to 0.0 in labels with no predicted samples. Use `zero_division` parameter to control this behavior.\n",
      "  _warn_prf(average, modifier, msg_start, len(result))\n",
      "C:\\ProgramData\\Anaconda3\\envs\\newenvt\\lib\\site-packages\\sklearn\\multiclass.py:81: UserWarning: Label 0 is present in all training examples.\n",
      "  str(classes[c]))\n"
     ]
    },
    {
     "name": "stdout",
     "output_type": "stream",
     "text": [
      "BRFSS MultiLabel Cancer + Diabetes - Grounded - SVM\n",
      "              precision    recall  f1-score   support\n",
      "\n",
      "           0       0.90      1.00      0.95      2216\n",
      "           1       0.00      0.00      0.00       239\n",
      "\n",
      "    accuracy                           0.90      2455\n",
      "   macro avg       0.45      0.50      0.47      2455\n",
      "weighted avg       0.81      0.90      0.86      2455\n",
      "\n",
      "Hamming Loss: 0.09735234215885948\n"
     ]
    },
    {
     "name": "stderr",
     "output_type": "stream",
     "text": [
      "C:\\ProgramData\\Anaconda3\\envs\\newenvt\\lib\\site-packages\\sklearn\\metrics\\_classification.py:1245: UndefinedMetricWarning: Precision and F-score are ill-defined and being set to 0.0 in labels with no predicted samples. Use `zero_division` parameter to control this behavior.\n",
      "  _warn_prf(average, modifier, msg_start, len(result))\n",
      "C:\\ProgramData\\Anaconda3\\envs\\newenvt\\lib\\site-packages\\sklearn\\metrics\\_classification.py:1245: UndefinedMetricWarning: Precision and F-score are ill-defined and being set to 0.0 in labels with no predicted samples. Use `zero_division` parameter to control this behavior.\n",
      "  _warn_prf(average, modifier, msg_start, len(result))\n",
      "C:\\ProgramData\\Anaconda3\\envs\\newenvt\\lib\\site-packages\\sklearn\\metrics\\_classification.py:1245: UndefinedMetricWarning: Precision and F-score are ill-defined and being set to 0.0 in labels with no predicted samples. Use `zero_division` parameter to control this behavior.\n",
      "  _warn_prf(average, modifier, msg_start, len(result))\n",
      "C:\\ProgramData\\Anaconda3\\envs\\newenvt\\lib\\site-packages\\sklearn\\multiclass.py:81: UserWarning: Label 0 is present in all training examples.\n",
      "  str(classes[c]))\n"
     ]
    },
    {
     "name": "stdout",
     "output_type": "stream",
     "text": [
      "BRFSS MultiLabel Cancer + Diabetes - Grounded - SVM\n",
      "              precision    recall  f1-score   support\n",
      "\n",
      "           0       0.89      1.00      0.94      2189\n",
      "           1       0.00      0.00      0.00       266\n",
      "\n",
      "    accuracy                           0.89      2455\n",
      "   macro avg       0.45      0.50      0.47      2455\n",
      "weighted avg       0.80      0.89      0.84      2455\n",
      "\n",
      "Hamming Loss: 0.10835030549898167\n",
      "BRFSS MultiLabel Cancer + Diabetes - Grounded, Knowledge Graph-Based Feature Selection - SVM AGGREGATE\n",
      "              precision    recall  f1-score   support\n",
      "\n",
      "           0       0.87      1.00      0.93     10723\n",
      "           1       0.00      0.00      0.00      1552\n",
      "\n",
      "    accuracy                           0.87     12275\n",
      "   macro avg       0.44      0.50      0.47     12275\n",
      "weighted avg       0.76      0.87      0.81     12275\n",
      "\n",
      "Hamming Loss: 0.1264358452138493\n"
     ]
    },
    {
     "name": "stderr",
     "output_type": "stream",
     "text": [
      "C:\\ProgramData\\Anaconda3\\envs\\newenvt\\lib\\site-packages\\sklearn\\metrics\\_classification.py:1245: UndefinedMetricWarning: Precision and F-score are ill-defined and being set to 0.0 in labels with no predicted samples. Use `zero_division` parameter to control this behavior.\n",
      "  _warn_prf(average, modifier, msg_start, len(result))\n",
      "C:\\ProgramData\\Anaconda3\\envs\\newenvt\\lib\\site-packages\\sklearn\\metrics\\_classification.py:1245: UndefinedMetricWarning: Precision and F-score are ill-defined and being set to 0.0 in labels with no predicted samples. Use `zero_division` parameter to control this behavior.\n",
      "  _warn_prf(average, modifier, msg_start, len(result))\n",
      "C:\\ProgramData\\Anaconda3\\envs\\newenvt\\lib\\site-packages\\sklearn\\metrics\\_classification.py:1245: UndefinedMetricWarning: Precision and F-score are ill-defined and being set to 0.0 in labels with no predicted samples. Use `zero_division` parameter to control this behavior.\n",
      "  _warn_prf(average, modifier, msg_start, len(result))\n",
      "C:\\ProgramData\\Anaconda3\\envs\\newenvt\\lib\\site-packages\\sklearn\\metrics\\_classification.py:1245: UndefinedMetricWarning: Precision and F-score are ill-defined and being set to 0.0 in labels with no predicted samples. Use `zero_division` parameter to control this behavior.\n",
      "  _warn_prf(average, modifier, msg_start, len(result))\n",
      "C:\\ProgramData\\Anaconda3\\envs\\newenvt\\lib\\site-packages\\sklearn\\metrics\\_classification.py:1245: UndefinedMetricWarning: Precision and F-score are ill-defined and being set to 0.0 in labels with no predicted samples. Use `zero_division` parameter to control this behavior.\n",
      "  _warn_prf(average, modifier, msg_start, len(result))\n",
      "C:\\ProgramData\\Anaconda3\\envs\\newenvt\\lib\\site-packages\\sklearn\\metrics\\_classification.py:1245: UndefinedMetricWarning: Precision and F-score are ill-defined and being set to 0.0 in labels with no predicted samples. Use `zero_division` parameter to control this behavior.\n",
      "  _warn_prf(average, modifier, msg_start, len(result))\n",
      "C:\\ProgramData\\Anaconda3\\envs\\newenvt\\lib\\site-packages\\sklearn\\multiclass.py:81: UserWarning: Label 0 is present in all training examples.\n",
      "  str(classes[c]))\n"
     ]
    },
    {
     "name": "stdout",
     "output_type": "stream",
     "text": [
      "BRFSS MultiLabel Cancer + Diabetes - Grounded - RUSBoost\n",
      "              precision    recall  f1-score   support\n",
      "\n",
      "           0       0.86      1.00      0.92      2106\n",
      "           1       0.00      0.00      0.00       349\n",
      "\n",
      "    accuracy                           0.86      2455\n",
      "   macro avg       0.43      0.50      0.46      2455\n",
      "weighted avg       0.74      0.86      0.79      2455\n",
      "\n",
      "Hamming Loss: 0.14215885947046844\n"
     ]
    },
    {
     "name": "stderr",
     "output_type": "stream",
     "text": [
      "C:\\ProgramData\\Anaconda3\\envs\\newenvt\\lib\\site-packages\\sklearn\\metrics\\_classification.py:1245: UndefinedMetricWarning: Precision and F-score are ill-defined and being set to 0.0 in labels with no predicted samples. Use `zero_division` parameter to control this behavior.\n",
      "  _warn_prf(average, modifier, msg_start, len(result))\n",
      "C:\\ProgramData\\Anaconda3\\envs\\newenvt\\lib\\site-packages\\sklearn\\metrics\\_classification.py:1245: UndefinedMetricWarning: Precision and F-score are ill-defined and being set to 0.0 in labels with no predicted samples. Use `zero_division` parameter to control this behavior.\n",
      "  _warn_prf(average, modifier, msg_start, len(result))\n",
      "C:\\ProgramData\\Anaconda3\\envs\\newenvt\\lib\\site-packages\\sklearn\\metrics\\_classification.py:1245: UndefinedMetricWarning: Precision and F-score are ill-defined and being set to 0.0 in labels with no predicted samples. Use `zero_division` parameter to control this behavior.\n",
      "  _warn_prf(average, modifier, msg_start, len(result))\n",
      "C:\\ProgramData\\Anaconda3\\envs\\newenvt\\lib\\site-packages\\sklearn\\multiclass.py:81: UserWarning: Label 0 is present in all training examples.\n",
      "  str(classes[c]))\n"
     ]
    },
    {
     "name": "stdout",
     "output_type": "stream",
     "text": [
      "BRFSS MultiLabel Cancer + Diabetes - Grounded - RUSBoost\n",
      "              precision    recall  f1-score   support\n",
      "\n",
      "           0       0.85      1.00      0.92      2076\n",
      "           1       0.00      0.00      0.00       379\n",
      "\n",
      "    accuracy                           0.85      2455\n",
      "   macro avg       0.42      0.50      0.46      2455\n",
      "weighted avg       0.72      0.85      0.77      2455\n",
      "\n",
      "Hamming Loss: 0.15437881873727088\n"
     ]
    },
    {
     "name": "stderr",
     "output_type": "stream",
     "text": [
      "C:\\ProgramData\\Anaconda3\\envs\\newenvt\\lib\\site-packages\\sklearn\\metrics\\_classification.py:1245: UndefinedMetricWarning: Precision and F-score are ill-defined and being set to 0.0 in labels with no predicted samples. Use `zero_division` parameter to control this behavior.\n",
      "  _warn_prf(average, modifier, msg_start, len(result))\n",
      "C:\\ProgramData\\Anaconda3\\envs\\newenvt\\lib\\site-packages\\sklearn\\metrics\\_classification.py:1245: UndefinedMetricWarning: Precision and F-score are ill-defined and being set to 0.0 in labels with no predicted samples. Use `zero_division` parameter to control this behavior.\n",
      "  _warn_prf(average, modifier, msg_start, len(result))\n",
      "C:\\ProgramData\\Anaconda3\\envs\\newenvt\\lib\\site-packages\\sklearn\\metrics\\_classification.py:1245: UndefinedMetricWarning: Precision and F-score are ill-defined and being set to 0.0 in labels with no predicted samples. Use `zero_division` parameter to control this behavior.\n",
      "  _warn_prf(average, modifier, msg_start, len(result))\n",
      "C:\\ProgramData\\Anaconda3\\envs\\newenvt\\lib\\site-packages\\sklearn\\multiclass.py:81: UserWarning: Label 0 is present in all training examples.\n",
      "  str(classes[c]))\n"
     ]
    },
    {
     "name": "stdout",
     "output_type": "stream",
     "text": [
      "BRFSS MultiLabel Cancer + Diabetes - Grounded - RUSBoost\n",
      "              precision    recall  f1-score   support\n",
      "\n",
      "           0       0.87      1.00      0.93      2136\n",
      "           1       0.00      0.00      0.00       319\n",
      "\n",
      "    accuracy                           0.87      2455\n",
      "   macro avg       0.44      0.50      0.47      2455\n",
      "weighted avg       0.76      0.87      0.81      2455\n",
      "\n",
      "Hamming Loss: 0.129938900203666\n"
     ]
    },
    {
     "name": "stderr",
     "output_type": "stream",
     "text": [
      "C:\\ProgramData\\Anaconda3\\envs\\newenvt\\lib\\site-packages\\sklearn\\metrics\\_classification.py:1245: UndefinedMetricWarning: Precision and F-score are ill-defined and being set to 0.0 in labels with no predicted samples. Use `zero_division` parameter to control this behavior.\n",
      "  _warn_prf(average, modifier, msg_start, len(result))\n",
      "C:\\ProgramData\\Anaconda3\\envs\\newenvt\\lib\\site-packages\\sklearn\\metrics\\_classification.py:1245: UndefinedMetricWarning: Precision and F-score are ill-defined and being set to 0.0 in labels with no predicted samples. Use `zero_division` parameter to control this behavior.\n",
      "  _warn_prf(average, modifier, msg_start, len(result))\n",
      "C:\\ProgramData\\Anaconda3\\envs\\newenvt\\lib\\site-packages\\sklearn\\metrics\\_classification.py:1245: UndefinedMetricWarning: Precision and F-score are ill-defined and being set to 0.0 in labels with no predicted samples. Use `zero_division` parameter to control this behavior.\n",
      "  _warn_prf(average, modifier, msg_start, len(result))\n",
      "C:\\ProgramData\\Anaconda3\\envs\\newenvt\\lib\\site-packages\\sklearn\\multiclass.py:81: UserWarning: Label 0 is present in all training examples.\n",
      "  str(classes[c]))\n"
     ]
    },
    {
     "name": "stdout",
     "output_type": "stream",
     "text": [
      "BRFSS MultiLabel Cancer + Diabetes - Grounded - RUSBoost\n",
      "              precision    recall  f1-score   support\n",
      "\n",
      "           0       0.90      1.00      0.95      2216\n",
      "           1       0.00      0.00      0.00       239\n",
      "\n",
      "    accuracy                           0.90      2455\n",
      "   macro avg       0.45      0.50      0.47      2455\n",
      "weighted avg       0.81      0.90      0.86      2455\n",
      "\n",
      "Hamming Loss: 0.09735234215885948\n"
     ]
    },
    {
     "name": "stderr",
     "output_type": "stream",
     "text": [
      "C:\\ProgramData\\Anaconda3\\envs\\newenvt\\lib\\site-packages\\sklearn\\metrics\\_classification.py:1245: UndefinedMetricWarning: Precision and F-score are ill-defined and being set to 0.0 in labels with no predicted samples. Use `zero_division` parameter to control this behavior.\n",
      "  _warn_prf(average, modifier, msg_start, len(result))\n",
      "C:\\ProgramData\\Anaconda3\\envs\\newenvt\\lib\\site-packages\\sklearn\\metrics\\_classification.py:1245: UndefinedMetricWarning: Precision and F-score are ill-defined and being set to 0.0 in labels with no predicted samples. Use `zero_division` parameter to control this behavior.\n",
      "  _warn_prf(average, modifier, msg_start, len(result))\n",
      "C:\\ProgramData\\Anaconda3\\envs\\newenvt\\lib\\site-packages\\sklearn\\metrics\\_classification.py:1245: UndefinedMetricWarning: Precision and F-score are ill-defined and being set to 0.0 in labels with no predicted samples. Use `zero_division` parameter to control this behavior.\n",
      "  _warn_prf(average, modifier, msg_start, len(result))\n",
      "C:\\ProgramData\\Anaconda3\\envs\\newenvt\\lib\\site-packages\\sklearn\\multiclass.py:81: UserWarning: Label 0 is present in all training examples.\n",
      "  str(classes[c]))\n"
     ]
    },
    {
     "name": "stdout",
     "output_type": "stream",
     "text": [
      "BRFSS MultiLabel Cancer + Diabetes - Grounded - RUSBoost\n",
      "              precision    recall  f1-score   support\n",
      "\n",
      "           0       0.89      1.00      0.94      2189\n",
      "           1       0.00      0.00      0.00       266\n",
      "\n",
      "    accuracy                           0.89      2455\n",
      "   macro avg       0.45      0.50      0.47      2455\n",
      "weighted avg       0.80      0.89      0.84      2455\n",
      "\n",
      "Hamming Loss: 0.10835030549898167\n",
      "y_pred shape: \n",
      "(2455, 2)\n",
      "y_pred2 shape:\n",
      "(5, 2455, 2)\n",
      "BRFSS MultiLabel Cancer + Diabetes - Grounded, Knowledge Graph-Based Feature Selection - RUSBoost AGGREGATE\n",
      "              precision    recall  f1-score   support\n",
      "\n",
      "           0       0.87      1.00      0.93     10723\n",
      "           1       0.00      0.00      0.00      1552\n",
      "\n",
      "    accuracy                           0.87     12275\n",
      "   macro avg       0.44      0.50      0.47     12275\n",
      "weighted avg       0.76      0.87      0.81     12275\n",
      "\n",
      "Hamming Loss: 0.1264358452138493\n"
     ]
    },
    {
     "name": "stderr",
     "output_type": "stream",
     "text": [
      "C:\\ProgramData\\Anaconda3\\envs\\newenvt\\lib\\site-packages\\sklearn\\metrics\\_classification.py:1245: UndefinedMetricWarning: Precision and F-score are ill-defined and being set to 0.0 in labels with no predicted samples. Use `zero_division` parameter to control this behavior.\n",
      "  _warn_prf(average, modifier, msg_start, len(result))\n",
      "C:\\ProgramData\\Anaconda3\\envs\\newenvt\\lib\\site-packages\\sklearn\\metrics\\_classification.py:1245: UndefinedMetricWarning: Precision and F-score are ill-defined and being set to 0.0 in labels with no predicted samples. Use `zero_division` parameter to control this behavior.\n",
      "  _warn_prf(average, modifier, msg_start, len(result))\n",
      "C:\\ProgramData\\Anaconda3\\envs\\newenvt\\lib\\site-packages\\sklearn\\metrics\\_classification.py:1245: UndefinedMetricWarning: Precision and F-score are ill-defined and being set to 0.0 in labels with no predicted samples. Use `zero_division` parameter to control this behavior.\n",
      "  _warn_prf(average, modifier, msg_start, len(result))\n",
      "C:\\ProgramData\\Anaconda3\\envs\\newenvt\\lib\\site-packages\\sklearn\\metrics\\_classification.py:1245: UndefinedMetricWarning: Precision and F-score are ill-defined and being set to 0.0 in labels with no predicted samples. Use `zero_division` parameter to control this behavior.\n",
      "  _warn_prf(average, modifier, msg_start, len(result))\n",
      "C:\\ProgramData\\Anaconda3\\envs\\newenvt\\lib\\site-packages\\sklearn\\metrics\\_classification.py:1245: UndefinedMetricWarning: Precision and F-score are ill-defined and being set to 0.0 in labels with no predicted samples. Use `zero_division` parameter to control this behavior.\n",
      "  _warn_prf(average, modifier, msg_start, len(result))\n",
      "C:\\ProgramData\\Anaconda3\\envs\\newenvt\\lib\\site-packages\\sklearn\\metrics\\_classification.py:1245: UndefinedMetricWarning: Precision and F-score are ill-defined and being set to 0.0 in labels with no predicted samples. Use `zero_division` parameter to control this behavior.\n",
      "  _warn_prf(average, modifier, msg_start, len(result))\n",
      "C:\\ProgramData\\Anaconda3\\envs\\newenvt\\lib\\site-packages\\sklearn\\multiclass.py:81: UserWarning: Label 0 is present in all training examples.\n",
      "  str(classes[c]))\n"
     ]
    },
    {
     "name": "stdout",
     "output_type": "stream",
     "text": [
      "BRFSS MultiLabel Cancer + Diabetes - Grounded - AdaBoost\n",
      "              precision    recall  f1-score   support\n",
      "\n",
      "           0       0.86      1.00      0.92      2106\n",
      "           1       0.00      0.00      0.00       349\n",
      "\n",
      "    accuracy                           0.86      2455\n",
      "   macro avg       0.43      0.50      0.46      2455\n",
      "weighted avg       0.74      0.86      0.79      2455\n",
      "\n",
      "Hamming Loss: 0.14215885947046844\n"
     ]
    },
    {
     "name": "stderr",
     "output_type": "stream",
     "text": [
      "C:\\ProgramData\\Anaconda3\\envs\\newenvt\\lib\\site-packages\\sklearn\\metrics\\_classification.py:1245: UndefinedMetricWarning: Precision and F-score are ill-defined and being set to 0.0 in labels with no predicted samples. Use `zero_division` parameter to control this behavior.\n",
      "  _warn_prf(average, modifier, msg_start, len(result))\n",
      "C:\\ProgramData\\Anaconda3\\envs\\newenvt\\lib\\site-packages\\sklearn\\metrics\\_classification.py:1245: UndefinedMetricWarning: Precision and F-score are ill-defined and being set to 0.0 in labels with no predicted samples. Use `zero_division` parameter to control this behavior.\n",
      "  _warn_prf(average, modifier, msg_start, len(result))\n",
      "C:\\ProgramData\\Anaconda3\\envs\\newenvt\\lib\\site-packages\\sklearn\\metrics\\_classification.py:1245: UndefinedMetricWarning: Precision and F-score are ill-defined and being set to 0.0 in labels with no predicted samples. Use `zero_division` parameter to control this behavior.\n",
      "  _warn_prf(average, modifier, msg_start, len(result))\n",
      "C:\\ProgramData\\Anaconda3\\envs\\newenvt\\lib\\site-packages\\sklearn\\multiclass.py:81: UserWarning: Label 0 is present in all training examples.\n",
      "  str(classes[c]))\n"
     ]
    },
    {
     "name": "stdout",
     "output_type": "stream",
     "text": [
      "BRFSS MultiLabel Cancer + Diabetes - Grounded - AdaBoost\n",
      "              precision    recall  f1-score   support\n",
      "\n",
      "           0       0.85      1.00      0.92      2076\n",
      "           1       0.00      0.00      0.00       379\n",
      "\n",
      "    accuracy                           0.85      2455\n",
      "   macro avg       0.42      0.50      0.46      2455\n",
      "weighted avg       0.72      0.85      0.77      2455\n",
      "\n",
      "Hamming Loss: 0.15437881873727088\n"
     ]
    },
    {
     "name": "stderr",
     "output_type": "stream",
     "text": [
      "C:\\ProgramData\\Anaconda3\\envs\\newenvt\\lib\\site-packages\\sklearn\\metrics\\_classification.py:1245: UndefinedMetricWarning: Precision and F-score are ill-defined and being set to 0.0 in labels with no predicted samples. Use `zero_division` parameter to control this behavior.\n",
      "  _warn_prf(average, modifier, msg_start, len(result))\n",
      "C:\\ProgramData\\Anaconda3\\envs\\newenvt\\lib\\site-packages\\sklearn\\metrics\\_classification.py:1245: UndefinedMetricWarning: Precision and F-score are ill-defined and being set to 0.0 in labels with no predicted samples. Use `zero_division` parameter to control this behavior.\n",
      "  _warn_prf(average, modifier, msg_start, len(result))\n",
      "C:\\ProgramData\\Anaconda3\\envs\\newenvt\\lib\\site-packages\\sklearn\\metrics\\_classification.py:1245: UndefinedMetricWarning: Precision and F-score are ill-defined and being set to 0.0 in labels with no predicted samples. Use `zero_division` parameter to control this behavior.\n",
      "  _warn_prf(average, modifier, msg_start, len(result))\n",
      "C:\\ProgramData\\Anaconda3\\envs\\newenvt\\lib\\site-packages\\sklearn\\multiclass.py:81: UserWarning: Label 0 is present in all training examples.\n",
      "  str(classes[c]))\n"
     ]
    },
    {
     "name": "stdout",
     "output_type": "stream",
     "text": [
      "BRFSS MultiLabel Cancer + Diabetes - Grounded - AdaBoost\n",
      "              precision    recall  f1-score   support\n",
      "\n",
      "           0       0.87      1.00      0.93      2136\n",
      "           1       0.00      0.00      0.00       319\n",
      "\n",
      "    accuracy                           0.87      2455\n",
      "   macro avg       0.44      0.50      0.47      2455\n",
      "weighted avg       0.76      0.87      0.81      2455\n",
      "\n",
      "Hamming Loss: 0.129938900203666\n"
     ]
    },
    {
     "name": "stderr",
     "output_type": "stream",
     "text": [
      "C:\\ProgramData\\Anaconda3\\envs\\newenvt\\lib\\site-packages\\sklearn\\metrics\\_classification.py:1245: UndefinedMetricWarning: Precision and F-score are ill-defined and being set to 0.0 in labels with no predicted samples. Use `zero_division` parameter to control this behavior.\n",
      "  _warn_prf(average, modifier, msg_start, len(result))\n",
      "C:\\ProgramData\\Anaconda3\\envs\\newenvt\\lib\\site-packages\\sklearn\\metrics\\_classification.py:1245: UndefinedMetricWarning: Precision and F-score are ill-defined and being set to 0.0 in labels with no predicted samples. Use `zero_division` parameter to control this behavior.\n",
      "  _warn_prf(average, modifier, msg_start, len(result))\n",
      "C:\\ProgramData\\Anaconda3\\envs\\newenvt\\lib\\site-packages\\sklearn\\metrics\\_classification.py:1245: UndefinedMetricWarning: Precision and F-score are ill-defined and being set to 0.0 in labels with no predicted samples. Use `zero_division` parameter to control this behavior.\n",
      "  _warn_prf(average, modifier, msg_start, len(result))\n",
      "C:\\ProgramData\\Anaconda3\\envs\\newenvt\\lib\\site-packages\\sklearn\\multiclass.py:81: UserWarning: Label 0 is present in all training examples.\n",
      "  str(classes[c]))\n"
     ]
    },
    {
     "name": "stdout",
     "output_type": "stream",
     "text": [
      "BRFSS MultiLabel Cancer + Diabetes - Grounded - AdaBoost\n",
      "              precision    recall  f1-score   support\n",
      "\n",
      "           0       0.90      1.00      0.95      2216\n",
      "           1       0.00      0.00      0.00       239\n",
      "\n",
      "    accuracy                           0.90      2455\n",
      "   macro avg       0.45      0.50      0.47      2455\n",
      "weighted avg       0.81      0.90      0.86      2455\n",
      "\n",
      "Hamming Loss: 0.09735234215885948\n"
     ]
    },
    {
     "name": "stderr",
     "output_type": "stream",
     "text": [
      "C:\\ProgramData\\Anaconda3\\envs\\newenvt\\lib\\site-packages\\sklearn\\metrics\\_classification.py:1245: UndefinedMetricWarning: Precision and F-score are ill-defined and being set to 0.0 in labels with no predicted samples. Use `zero_division` parameter to control this behavior.\n",
      "  _warn_prf(average, modifier, msg_start, len(result))\n",
      "C:\\ProgramData\\Anaconda3\\envs\\newenvt\\lib\\site-packages\\sklearn\\metrics\\_classification.py:1245: UndefinedMetricWarning: Precision and F-score are ill-defined and being set to 0.0 in labels with no predicted samples. Use `zero_division` parameter to control this behavior.\n",
      "  _warn_prf(average, modifier, msg_start, len(result))\n",
      "C:\\ProgramData\\Anaconda3\\envs\\newenvt\\lib\\site-packages\\sklearn\\metrics\\_classification.py:1245: UndefinedMetricWarning: Precision and F-score are ill-defined and being set to 0.0 in labels with no predicted samples. Use `zero_division` parameter to control this behavior.\n",
      "  _warn_prf(average, modifier, msg_start, len(result))\n",
      "C:\\ProgramData\\Anaconda3\\envs\\newenvt\\lib\\site-packages\\sklearn\\multiclass.py:81: UserWarning: Label 0 is present in all training examples.\n",
      "  str(classes[c]))\n"
     ]
    },
    {
     "name": "stdout",
     "output_type": "stream",
     "text": [
      "BRFSS MultiLabel Cancer + Diabetes - Grounded - AdaBoost\n",
      "              precision    recall  f1-score   support\n",
      "\n",
      "           0       0.89      1.00      0.94      2189\n",
      "           1       0.00      0.00      0.00       266\n",
      "\n",
      "    accuracy                           0.89      2455\n",
      "   macro avg       0.45      0.50      0.47      2455\n",
      "weighted avg       0.80      0.89      0.84      2455\n",
      "\n",
      "Hamming Loss: 0.10835030549898167\n",
      "y_pred shape: \n",
      "(2455, 2)\n",
      "y_pred2 shape:\n",
      "(5, 2455, 2)\n",
      "BRFSS MultiLabel Cancer + Diabetes - Grounded, Knowledge Graph-Based Feature Selection - ADABoost AGGREGATE\n",
      "              precision    recall  f1-score   support\n",
      "\n",
      "           0       0.87      1.00      0.93     10723\n",
      "           1       0.00      0.00      0.00      1552\n",
      "\n",
      "    accuracy                           0.87     12275\n",
      "   macro avg       0.44      0.50      0.47     12275\n",
      "weighted avg       0.76      0.87      0.81     12275\n",
      "\n",
      "Hamming Loss: 0.1264358452138493\n"
     ]
    },
    {
     "name": "stderr",
     "output_type": "stream",
     "text": [
      "C:\\ProgramData\\Anaconda3\\envs\\newenvt\\lib\\site-packages\\sklearn\\metrics\\_classification.py:1245: UndefinedMetricWarning: Precision and F-score are ill-defined and being set to 0.0 in labels with no predicted samples. Use `zero_division` parameter to control this behavior.\n",
      "  _warn_prf(average, modifier, msg_start, len(result))\n",
      "C:\\ProgramData\\Anaconda3\\envs\\newenvt\\lib\\site-packages\\sklearn\\metrics\\_classification.py:1245: UndefinedMetricWarning: Precision and F-score are ill-defined and being set to 0.0 in labels with no predicted samples. Use `zero_division` parameter to control this behavior.\n",
      "  _warn_prf(average, modifier, msg_start, len(result))\n",
      "C:\\ProgramData\\Anaconda3\\envs\\newenvt\\lib\\site-packages\\sklearn\\metrics\\_classification.py:1245: UndefinedMetricWarning: Precision and F-score are ill-defined and being set to 0.0 in labels with no predicted samples. Use `zero_division` parameter to control this behavior.\n",
      "  _warn_prf(average, modifier, msg_start, len(result))\n",
      "C:\\ProgramData\\Anaconda3\\envs\\newenvt\\lib\\site-packages\\sklearn\\metrics\\_classification.py:1245: UndefinedMetricWarning: Precision and F-score are ill-defined and being set to 0.0 in labels with no predicted samples. Use `zero_division` parameter to control this behavior.\n",
      "  _warn_prf(average, modifier, msg_start, len(result))\n",
      "C:\\ProgramData\\Anaconda3\\envs\\newenvt\\lib\\site-packages\\sklearn\\metrics\\_classification.py:1245: UndefinedMetricWarning: Precision and F-score are ill-defined and being set to 0.0 in labels with no predicted samples. Use `zero_division` parameter to control this behavior.\n",
      "  _warn_prf(average, modifier, msg_start, len(result))\n",
      "C:\\ProgramData\\Anaconda3\\envs\\newenvt\\lib\\site-packages\\sklearn\\metrics\\_classification.py:1245: UndefinedMetricWarning: Precision and F-score are ill-defined and being set to 0.0 in labels with no predicted samples. Use `zero_division` parameter to control this behavior.\n",
      "  _warn_prf(average, modifier, msg_start, len(result))\n"
     ]
    }
   ],
   "source": [
    "from sklearn.datasets import make_multilabel_classification\n",
    "from sklearn.preprocessing import MultiLabelBinarizer\n",
    "from sklearn.multiclass import OneVsRestClassifier\n",
    "from sklearn.svm import SVC\n",
    "from sklearn.linear_model import LogisticRegression\n",
    "from sklearn.naive_bayes import MultinomialNB\n",
    "from sklearn.discriminant_analysis import LinearDiscriminantAnalysis\n",
    "from sklearn.ensemble import RandomForestClassifier\n",
    "from sklearn.neighbors import KNeighborsClassifier\n",
    "from sklearn.neural_network import MLPClassifier\n",
    "from sklearn.neural_network import MLPRegressor\n",
    "from imblearn.ensemble import RUSBoostClassifier\n",
    "from sklearn.ensemble import AdaBoostClassifier\n",
    "from sklearn.metrics import accuracy_score\n",
    "from sklearn.metrics import precision_score\n",
    "from sklearn.metrics import recall_score\n",
    "from sklearn.metrics import f1_score\n",
    "from sklearn.metrics import hamming_loss\n",
    "from sklearn.model_selection import KFold\n",
    "from sklearn.metrics import classification_report\n",
    "import numpy as np\n",
    "\n",
    "\n",
    "X = np.array(BRFSS_Grounded_X)\n",
    "y = BRFSS_Grounded[['CNCRTYP1', 'DIABETE4']].to_numpy()\n",
    "\n",
    "n_split=5\n",
    "\n",
    "y_pred2, pred2, y_test2, hl2 = list(),list(),list(),list()\n",
    "\n",
    "for train_index, test_index in KFold(n_split).split(X):\n",
    "  X_train, X_test = X[train_index], X[test_index]\n",
    "  y_train, y_test = y[train_index], y[test_index]\n",
    "\n",
    "  mlb = MultiLabelBinarizer()\n",
    "  labels = mlb.fit_transform(y_train)\n",
    "\n",
    "  mlb = MultiLabelBinarizer()\n",
    "  mlb.fit(labels)\n",
    "\n",
    "  model = LogisticRegression(C=1.0, penalty='l1', dual=False, solver='liblinear')\n",
    "  model = OneVsRestClassifier(model)    \n",
    "  clf = model.fit(X_train, mlb.transform(y_train))\n",
    "\n",
    "  y_pred = clf.predict(X_test)  \n",
    "  pred = np.argmax(y_pred, axis=1)\n",
    "  y_test = np.argmax(y_test, axis=1)\n",
    "\n",
    "  print(\"BRFSS MultiLabel Cancer + Diabetes - Grounded, Knowledge Graph-Based Feature Selection - Logistic Regression\")\n",
    "  #print(classification_report(y_test, pred, labels=[1, 2, 3]))\n",
    "  print(classification_report(y_test, pred))\n",
    "\n",
    "  hl=hamming_loss(y_test,pred)\n",
    "  print(\"Hamming Loss: \" + str(hl))\n",
    "    \n",
    "  y_pred2.append(y_pred)\n",
    "  pred2.append(pred)\n",
    "  y_test2.append(y_test)\n",
    "  hl2.append(hl)\n",
    "    \n",
    "print(\"y_pred shape: \")\n",
    "print(np.shape(y_pred))\n",
    "\n",
    "print(\"y_pred2 shape:\")\n",
    "print(np.shape(y_pred2))\n",
    "\n",
    "y_pred3 = np.concatenate((y_pred2[0], y_pred2[1], y_pred2[2], y_pred2[3], y_pred2[4]), axis=None)\n",
    "pred3 = np.concatenate((pred2[0], pred2[1], pred2[2], pred2[3], pred2[4]), axis=None)\n",
    "y_test3 = np.concatenate((y_test2[0], y_test2[1], y_test2[2], y_test2[3], y_test2[4]), axis=None)\n",
    "hl3 = np.concatenate((hl2[0], hl2[1], hl2[2], hl2[3], hl2[4]), axis=None)\n",
    "\n",
    "print(\"BRFSS MultiLabel Cancer + Diabetes - Grounded, Knowledge Graph-Based Feature Selection - Logistic Regression AGGREGATE\")\n",
    "#print(classification_report(y_test, pred, labels=[1, 2, 3]))\n",
    "print(classification_report(y_test3, pred3))\n",
    "hl3_avg = sum(hl3) / len(hl3)\n",
    "print(\"Hamming Loss: \" + str(hl3_avg))\n",
    "\n",
    "X = np.array(BRFSS_Grounded_X)\n",
    "y = BRFSS_Grounded[['CNCRTYP1', 'DIABETE4']].to_numpy()\n",
    "\n",
    "n_split=5\n",
    "\n",
    "y_pred2, pred2, y_test2, hl2 = list(),list(),list(),list()\n",
    "\n",
    "for train_index, test_index in KFold(n_split).split(X):\n",
    "  X_train, X_test = X[train_index], X[test_index]\n",
    "  y_train, y_test = y[train_index], y[test_index]\n",
    "\n",
    "  mlb = MultiLabelBinarizer()\n",
    "  labels = mlb.fit_transform(y_train)\n",
    "\n",
    "  mlb = MultiLabelBinarizer()\n",
    "  mlb.fit(labels)\n",
    "\n",
    "  model = MultinomialNB()\n",
    "  model = OneVsRestClassifier(MultinomialNB())   \n",
    "  clf = model.fit(X_train, mlb.transform(y_train))\n",
    "\n",
    "  y_pred = clf.predict(X_test)  \n",
    "  pred = np.argmax(y_pred, axis=1)\n",
    "  y_test = np.argmax(y_test, axis=1)\n",
    "\n",
    "  print(\"BRFSS MultiLabel Cancer + Diabetes - Grounded, Knowledge Graph-Based Feature Selection - MultinomialNB\")\n",
    "  #print(classification_report(y_test, pred, labels=[1, 2, 3]))\n",
    "  print(classification_report(y_test, pred))\n",
    "\n",
    "  hl=hamming_loss(y_test,pred)\n",
    "  print(\"Hamming Loss: \" + str(hl))\n",
    "   \n",
    "  y_pred2.append(y_pred)\n",
    "  pred2.append(pred)\n",
    "  y_test2.append(y_test)\n",
    "  hl2.append(hl)\n",
    "    \n",
    "y_pred3 = np.concatenate((y_pred2[0], y_pred2[1], y_pred2[2], y_pred2[3], y_pred2[4]), axis=None)\n",
    "pred3 = np.concatenate((pred2[0], pred2[1], pred2[2], pred2[3], pred2[4]), axis=None)\n",
    "y_test3 = np.concatenate((y_test2[0], y_test2[1], y_test2[2], y_test2[3], y_test2[4]), axis=None)\n",
    "hl3 = np.concatenate((hl2[0], hl2[1], hl2[2], hl2[3], hl2[4]), axis=None)\n",
    "\n",
    "print(\"BRFSS MultiLabel Cancer + Diabetes - Grounded, Knowledge Graph-Based Feature Selection - MultinomialNB AGGREGATE\")\n",
    "#print(classification_report(y_test, pred, labels=[1, 2, 3]))\n",
    "print(classification_report(y_test3, pred3))\n",
    "hl3_avg = sum(hl3) / len(hl3)\n",
    "print(\"Hamming Loss: \" + str(hl3_avg))\n",
    "\n",
    "X = np.array(BRFSS_Grounded_X)\n",
    "y = BRFSS_Grounded[['CNCRTYP1', 'DIABETE4']].to_numpy()\n",
    "\n",
    "n_split=5\n",
    "\n",
    "y_pred2, pred2, y_test2, hl2 = list(),list(),list(),list()\n",
    "\n",
    "for train_index, test_index in KFold(n_split).split(X):\n",
    "  X_train, X_test = X[train_index], X[test_index]\n",
    "  y_train, y_test = y[train_index], y[test_index]\n",
    "\n",
    "  mlb = MultiLabelBinarizer()\n",
    "  labels = mlb.fit_transform(y_train)\n",
    "\n",
    "  mlb = MultiLabelBinarizer()\n",
    "  mlb.fit(labels)\n",
    "\n",
    "  model = OneVsRestClassifier(LinearDiscriminantAnalysis(n_components=None, priors=None, shrinkage=None,\n",
    "              solver='svd', store_covariance=False, tol=0.0001))   \n",
    "  clf = model.fit(X_train, mlb.transform(y_train))\n",
    "\n",
    "  y_pred = clf.predict(X_test)  \n",
    "  pred = np.argmax(y_pred, axis=1)\n",
    "  y_test = np.argmax(y_test, axis=1)\n",
    "\n",
    "  print(\"BRFSS MultiLabel Cancer + Diabetes - Grounded, Knowledge Graph-Based Feature Selection - Linear DA\")\n",
    "  #print(classification_report(y_test, pred, labels=[1, 2, 3]))\n",
    "  print(classification_report(y_test, pred))\n",
    "\n",
    "  hl=hamming_loss(y_test,pred)\n",
    "  print(\"Hamming Loss: \" + str(hl))\n",
    "    \n",
    "  y_pred2.append(y_pred)\n",
    "  pred2.append(pred)\n",
    "  y_test2.append(y_test)\n",
    "  hl2.append(hl)\n",
    "    \n",
    "y_pred3 = np.concatenate((y_pred2[0], y_pred2[1], y_pred2[2], y_pred2[3], y_pred2[4]), axis=None)\n",
    "pred3 = np.concatenate((pred2[0], pred2[1], pred2[2], pred2[3], pred2[4]), axis=None)\n",
    "y_test3 = np.concatenate((y_test2[0], y_test2[1], y_test2[2], y_test2[3], y_test2[4]), axis=None)\n",
    "hl3 = np.concatenate((hl2[0], hl2[1], hl2[2], hl2[3], hl2[4]), axis=None)\n",
    "\n",
    "print(\"BRFSS MultiLabel Cancer + Diabetes - Grounded, Knowledge Graph-Based Feature Selection - Linear DA AGGREGATE\")\n",
    "#print(classification_report(y_test, pred, labels=[1, 2, 3]))\n",
    "print(classification_report(y_test3, pred3))\n",
    "hl3_avg = sum(hl3) / len(hl3)\n",
    "print(\"Hamming Loss: \" + str(hl3_avg))\n",
    "    \n",
    "X = np.array(BRFSS_Grounded_X)\n",
    "y = BRFSS_Grounded[['CNCRTYP1', 'DIABETE4']].to_numpy()\n",
    "\n",
    "n_split=5\n",
    "\n",
    "y_pred2, pred2, y_test2, hl2 = list(),list(),list(),list()\n",
    "\n",
    "for train_index, test_index in KFold(n_split).split(X):\n",
    "  X_train, X_test = X[train_index], X[test_index]\n",
    "  y_train, y_test = y[train_index], y[test_index]\n",
    "\n",
    "  mlb = MultiLabelBinarizer()\n",
    "  labels = mlb.fit_transform(y_train)\n",
    "\n",
    "  mlb = MultiLabelBinarizer()\n",
    "  mlb.fit(labels)\n",
    "\n",
    "  model = OneVsRestClassifier(RandomForestClassifier(max_depth=100, random_state=0))   \n",
    "  clf = model.fit(X_train, mlb.transform(y_train))\n",
    "\n",
    "  y_pred = clf.predict(X_test)  \n",
    "  pred = np.argmax(y_pred, axis=1)\n",
    "  y_test = np.argmax(y_test, axis=1)\n",
    "\n",
    "  print(\"BRFSS MultiLabel Cancer + Diabetes - Grounded, Knowledge Graph-Based Feature Selection - Random Forest\")\n",
    "  #print(classification_report(y_test, pred, labels=[1, 2, 3]))\n",
    "  print(classification_report(y_test, pred))\n",
    "\n",
    "  hl=hamming_loss(y_test,pred)\n",
    "  print(\"Hamming Loss: \" + str(hl))\n",
    "    \n",
    "  y_pred2.append(y_pred)\n",
    "  pred2.append(pred)\n",
    "  y_test2.append(y_test)\n",
    "  hl2.append(hl)\n",
    "    \n",
    "y_pred3 = np.concatenate((y_pred2[0], y_pred2[1], y_pred2[2], y_pred2[3], y_pred2[4]), axis=None)\n",
    "pred3 = np.concatenate((pred2[0], pred2[1], pred2[2], pred2[3], pred2[4]), axis=None)\n",
    "y_test3 = np.concatenate((y_test2[0], y_test2[1], y_test2[2], y_test2[3], y_test2[4]), axis=None)\n",
    "hl3 = np.concatenate((hl2[0], hl2[1], hl2[2], hl2[3], hl2[4]), axis=None)\n",
    "\n",
    "print(\"BRFSS MultiLabel Cancer + Diabetes - Grounded, Knowledge Graph-Based Feature Selection - Random Forest AGGREGATE\")\n",
    "#print(classification_report(y_test, pred, labels=[1, 2, 3]))\n",
    "print(classification_report(y_test3, pred3))\n",
    "hl3_avg = sum(hl3) / len(hl3)\n",
    "print(\"Hamming Loss: \" + str(hl3_avg))\n",
    "    \n",
    "X = np.array(BRFSS_Grounded_X)\n",
    "y = BRFSS_Grounded[['CNCRTYP1', 'DIABETE4']].to_numpy()\n",
    "\n",
    "n_split=5\n",
    "\n",
    "y_pred2, pred2, y_test2, hl2 = list(),list(),list(),list()\n",
    "\n",
    "for train_index, test_index in KFold(n_split).split(X):\n",
    "  X_train, X_test = X[train_index], X[test_index]\n",
    "  y_train, y_test = y[train_index], y[test_index]\n",
    "\n",
    "  mlb = MultiLabelBinarizer()\n",
    "  labels = mlb.fit_transform(y_train)\n",
    "\n",
    "  mlb = MultiLabelBinarizer()\n",
    "  mlb.fit(labels)\n",
    "\n",
    "  model = OneVsRestClassifier(KNeighborsClassifier(n_neighbors=5))   \n",
    "  clf = model.fit(X_train, mlb.transform(y_train))\n",
    "\n",
    "  y_pred = clf.predict(X_test)  \n",
    "  pred = np.argmax(y_pred, axis=1)\n",
    "  y_test = np.argmax(y_test, axis=1)\n",
    "\n",
    "  print(\"BRFSS MultiLabel Cancer + Diabetes - Grounded, Knowledge Graph-Based Feature Selection - KNN\")\n",
    "  #print(classification_report(y_test, pred, labels=[1, 2, 3]))\n",
    "  print(classification_report(y_test, pred))\n",
    "\n",
    "  hl=hamming_loss(y_test,pred)\n",
    "  print(\"Hamming Loss: \" + str(hl))\n",
    "    \n",
    "  y_pred2.append(y_pred)\n",
    "  pred2.append(pred)\n",
    "  y_test2.append(y_test)\n",
    "  hl2.append(hl)\n",
    "    \n",
    "y_pred3 = np.concatenate((y_pred2[0], y_pred2[1], y_pred2[2], y_pred2[3], y_pred2[4]), axis=None)\n",
    "pred3 = np.concatenate((pred2[0], pred2[1], pred2[2], pred2[3], pred2[4]), axis=None)\n",
    "y_test3 = np.concatenate((y_test2[0], y_test2[1], y_test2[2], y_test2[3], y_test2[4]), axis=None)\n",
    "hl3 = np.concatenate((hl2[0], hl2[1], hl2[2], hl2[3], hl2[4]), axis=None)\n",
    "\n",
    "print(\"BRFSS MultiLabel Cancer + Diabetes - Grounded, Knowledge Graph-Based Feature Selection - KNN AGGREGATE\")\n",
    "#print(classification_report(y_test, pred, labels=[1, 2, 3]))\n",
    "print(classification_report(y_test3, pred3))\n",
    "hl3_avg = sum(hl3) / len(hl3)\n",
    "print(\"Hamming Loss: \" + str(hl3_avg))\n",
    "\n",
    "a = []\n",
    "b = []\n",
    "X = np.array(BRFSS_Grounded_X)\n",
    "y = BRFSS_Grounded[['CNCRTYP1', 'DIABETE4']].to_numpy()\n",
    "\n",
    "n_split=5\n",
    "\n",
    "y_pred2, pred2, y_test2, hl2 = list(),list(),list(),list()\n",
    "\n",
    "for train_index, test_index in KFold(n_split).split(X):\n",
    "  X_train, X_test = X[train_index], X[test_index]\n",
    "  y_train, y_test = y[train_index], y[test_index]\n",
    "\n",
    "  mlb = MultiLabelBinarizer()\n",
    "  labels = mlb.fit_transform(y_train)\n",
    "\n",
    "  mlb = MultiLabelBinarizer()\n",
    "  mlb.fit(labels)\n",
    "\n",
    "  model = OneVsRestClassifier(SVC())   \n",
    "  clf = model.fit(X_train, mlb.transform(y_train))\n",
    "\n",
    "  y_pred = clf.predict(X_test)  \n",
    "  pred = np.argmax(y_pred, axis=1)\n",
    "  y_test = np.argmax(y_test, axis=1)\n",
    "\n",
    "  print(\"BRFSS MultiLabel Cancer + Diabetes - Grounded - SVM\")\n",
    "  #print(classification_report(y_test, pred, labels=[1, 2, 3]))\n",
    "  print(classification_report(y_test, pred))\n",
    "\n",
    "  hl=hamming_loss(y_test,pred)\n",
    "  print(\"Hamming Loss: \" + str(hl))  \n",
    "    \n",
    "  y_pred2.append(y_pred)\n",
    "  pred2.append(pred)\n",
    "  y_test2.append(y_test)\n",
    "  hl2.append(hl)\n",
    "    \n",
    "y_pred3 = np.concatenate((y_pred2[0], y_pred2[1], y_pred2[2], y_pred2[3], y_pred2[4]), axis=None)\n",
    "pred3 = np.concatenate((pred2[0], pred2[1], pred2[2], pred2[3], pred2[4]), axis=None)\n",
    "y_test3 = np.concatenate((y_test2[0], y_test2[1], y_test2[2], y_test2[3], y_test2[4]), axis=None)\n",
    "hl3 = np.concatenate((hl2[0], hl2[1], hl2[2], hl2[3], hl2[4]), axis=None)\n",
    "\n",
    "print(\"BRFSS MultiLabel Cancer + Diabetes - Grounded, Knowledge Graph-Based Feature Selection - SVM AGGREGATE\")\n",
    "#print(classification_report(y_test, pred, labels=[1, 2, 3]))\n",
    "print(classification_report(y_test3, pred3))\n",
    "hl3_avg = sum(hl3) / len(hl3)\n",
    "print(\"Hamming Loss: \" + str(hl3_avg))\n",
    "\n",
    "X = np.array(BRFSS_Grounded_X)\n",
    "y = BRFSS_Grounded[['CNCRTYP1', 'DIABETE4']].to_numpy()\n",
    "\n",
    "n_split=5\n",
    "\n",
    "y_pred2, pred2, y_test2, hl2 = list(),list(),list(),list()\n",
    "\n",
    "for train_index, test_index in KFold(n_split).split(X):\n",
    "  X_train, X_test = X[train_index], X[test_index]\n",
    "  y_train, y_test = y[train_index], y[test_index]\n",
    "\n",
    "  mlb = MultiLabelBinarizer()\n",
    "  labels = mlb.fit_transform(y_train)\n",
    "\n",
    "  mlb = MultiLabelBinarizer()\n",
    "  mlb.fit(labels)\n",
    "\n",
    "  #model = MultinomialNB()\n",
    "  model = OneVsRestClassifier(RUSBoostClassifier(random_state=0))   \n",
    "  clf = model.fit(X_train, mlb.transform(y_train))\n",
    "\n",
    "  y_pred = clf.predict(X_test)  \n",
    "  pred = np.argmax(y_pred, axis=1)\n",
    "  y_test = np.argmax(y_test, axis=1)\n",
    "\n",
    "  print(\"BRFSS MultiLabel Cancer + Diabetes - Grounded - RUSBoost\")\n",
    "  #print(classification_report(y_test, pred, labels=[1, 2, 3]))\n",
    "  print(classification_report(y_test, pred))\n",
    "\n",
    "  hl=hamming_loss(y_test,pred)\n",
    "  print(\"Hamming Loss: \" + str(hl))\n",
    "   \n",
    "  y_pred2.append(y_pred)\n",
    "  pred2.append(pred)\n",
    "  y_test2.append(y_test)\n",
    "  hl2.append(hl)\n",
    "    \n",
    "print(\"y_pred shape: \")\n",
    "print(np.shape(y_pred))\n",
    "\n",
    "print(\"y_pred2 shape:\")\n",
    "print(np.shape(y_pred2))\n",
    "\n",
    "y_pred3 = np.concatenate((y_pred2[0], y_pred2[1], y_pred2[2], y_pred2[3], y_pred2[4]), axis=None)\n",
    "pred3 = np.concatenate((pred2[0], pred2[1], pred2[2], pred2[3], pred2[4]), axis=None)\n",
    "y_test3 = np.concatenate((y_test2[0], y_test2[1], y_test2[2], y_test2[3], y_test2[4]), axis=None)\n",
    "hl3 = np.concatenate((hl2[0], hl2[1], hl2[2], hl2[3], hl2[4]), axis=None)\n",
    "\n",
    "print(\"BRFSS MultiLabel Cancer + Diabetes - Grounded, Knowledge Graph-Based Feature Selection - RUSBoost AGGREGATE\")\n",
    "#print(classification_report(y_test, pred, labels=[1, 2, 3]))\n",
    "print(classification_report(y_test3, pred3))\n",
    "hl3_avg = sum(hl3) / len(hl3)\n",
    "print(\"Hamming Loss: \" + str(hl3_avg))\n",
    "\n",
    "X = np.array(BRFSS_Grounded_X)\n",
    "y = BRFSS_Grounded[['CNCRTYP1', 'DIABETE4']].to_numpy()\n",
    "\n",
    "n_split=5\n",
    "\n",
    "y_pred2, pred2, y_test2, hl2 = list(),list(),list(),list()\n",
    "\n",
    "for train_index, test_index in KFold(n_split).split(X):\n",
    "  X_train, X_test = X[train_index], X[test_index]\n",
    "  y_train, y_test = y[train_index], y[test_index]\n",
    "\n",
    "  mlb = MultiLabelBinarizer()\n",
    "  labels = mlb.fit_transform(y_train)\n",
    "\n",
    "  mlb = MultiLabelBinarizer()\n",
    "  mlb.fit(labels)\n",
    "\n",
    "  #model = OneVsRestClassifier(AdaBoostClassifier(n_estimators=50,learning_rate=1))   \n",
    "  \n",
    "  model = OneVsRestClassifier(AdaBoostClassifier(n_estimators=200,learning_rate=1))   \n",
    "  clf = model.fit(X_train, mlb.transform(y_train))\n",
    "\n",
    "  y_pred = clf.predict(X_test)  \n",
    "  pred = np.argmax(y_pred, axis=1)\n",
    "  y_test = np.argmax(y_test, axis=1)\n",
    "\n",
    "  print(\"BRFSS MultiLabel Cancer + Diabetes - Grounded - AdaBoost\")\n",
    "  #print(classification_report(y_test, pred, labels=[1, 2, 3]))\n",
    "  print(classification_report(y_test, pred))\n",
    "\n",
    "  hl=hamming_loss(y_test,pred)\n",
    "  print(\"Hamming Loss: \" + str(hl))\n",
    "   \n",
    "  y_pred2.append(y_pred)\n",
    "  pred2.append(pred)\n",
    "  y_test2.append(y_test)\n",
    "  hl2.append(hl)\n",
    "    \n",
    "print(\"y_pred shape: \")\n",
    "print(np.shape(y_pred))\n",
    "\n",
    "print(\"y_pred2 shape:\")\n",
    "print(np.shape(y_pred2))\n",
    "\n",
    "y_pred3 = np.concatenate((y_pred2[0], y_pred2[1], y_pred2[2], y_pred2[3], y_pred2[4]), axis=None)\n",
    "pred3 = np.concatenate((pred2[0], pred2[1], pred2[2], pred2[3], pred2[4]), axis=None)\n",
    "y_test3 = np.concatenate((y_test2[0], y_test2[1], y_test2[2], y_test2[3], y_test2[4]), axis=None)\n",
    "hl3 = np.concatenate((hl2[0], hl2[1], hl2[2], hl2[3], hl2[4]), axis=None)\n",
    "\n",
    "print(\"BRFSS MultiLabel Cancer + Diabetes - Grounded, Knowledge Graph-Based Feature Selection - ADABoost AGGREGATE\")\n",
    "#print(classification_report(y_test, pred, labels=[1, 2, 3]))\n",
    "print(classification_report(y_test3, pred3))\n",
    "hl3_avg = sum(hl3) / len(hl3)\n",
    "print(\"Hamming Loss: \" + str(hl3_avg))\n",
    "    "
   ]
  },
  {
   "cell_type": "code",
   "execution_count": 16,
   "metadata": {},
   "outputs": [
    {
     "name": "stdout",
     "output_type": "stream",
     "text": [
      "(63973, 13)\n",
      "(63973, 11)\n"
     ]
    }
   ],
   "source": [
    "import os\n",
    "import pandas as pd\n",
    "\n",
    "folder = \"C:/Users/mdjaw/OneDrive/Documents/Markian Training/Research_USQ/USCenterDiseaseControlPrevention/LLCP2019XPT\" \n",
    "os.chdir(folder)\n",
    "\n",
    "BRFSS_Grounded = pd.read_csv(\"LLCP2019XPT_Grounded_KGFS10.csv\")\n",
    "\n",
    "print(BRFSS_Grounded.shape)\n",
    "\n",
    "BRFSS_Grounded_X = BRFSS_Grounded.drop(['CNCRTYP1', 'DIABETE4'], axis = 1)\n",
    "\n",
    "print(BRFSS_Grounded_X.shape)"
   ]
  },
  {
   "cell_type": "code",
   "execution_count": 17,
   "metadata": {},
   "outputs": [
    {
     "name": "stdout",
     "output_type": "stream",
     "text": [
      "BRFSS MultiLabel Cancer + Diabetes - Grounded, Knowledge Graph-Based Feature Selection - Logistic Regression\n",
      "              precision    recall  f1-score   support\n",
      "\n",
      "           0       0.83      1.00      0.90     10573\n",
      "           1       0.00      0.00      0.00      2222\n",
      "\n",
      "    accuracy                           0.83     12795\n",
      "   macro avg       0.41      0.50      0.45     12795\n",
      "weighted avg       0.68      0.83      0.75     12795\n",
      "\n",
      "Hamming Loss: 0.17366158655724892\n"
     ]
    },
    {
     "name": "stderr",
     "output_type": "stream",
     "text": [
      "C:\\ProgramData\\Anaconda3\\envs\\newenvt\\lib\\site-packages\\sklearn\\metrics\\_classification.py:1245: UndefinedMetricWarning: Precision and F-score are ill-defined and being set to 0.0 in labels with no predicted samples. Use `zero_division` parameter to control this behavior.\n",
      "  _warn_prf(average, modifier, msg_start, len(result))\n",
      "C:\\ProgramData\\Anaconda3\\envs\\newenvt\\lib\\site-packages\\sklearn\\metrics\\_classification.py:1245: UndefinedMetricWarning: Precision and F-score are ill-defined and being set to 0.0 in labels with no predicted samples. Use `zero_division` parameter to control this behavior.\n",
      "  _warn_prf(average, modifier, msg_start, len(result))\n",
      "C:\\ProgramData\\Anaconda3\\envs\\newenvt\\lib\\site-packages\\sklearn\\metrics\\_classification.py:1245: UndefinedMetricWarning: Precision and F-score are ill-defined and being set to 0.0 in labels with no predicted samples. Use `zero_division` parameter to control this behavior.\n",
      "  _warn_prf(average, modifier, msg_start, len(result))\n"
     ]
    },
    {
     "name": "stdout",
     "output_type": "stream",
     "text": [
      "BRFSS MultiLabel Cancer + Diabetes - Grounded, Knowledge Graph-Based Feature Selection - Logistic Regression\n",
      "              precision    recall  f1-score   support\n",
      "\n",
      "           0       0.84      1.00      0.91     10693\n",
      "           1       0.00      0.00      0.00      2102\n",
      "\n",
      "    accuracy                           0.84     12795\n",
      "   macro avg       0.42      0.50      0.46     12795\n",
      "weighted avg       0.70      0.84      0.76     12795\n",
      "\n",
      "Hamming Loss: 0.16428292301680344\n"
     ]
    },
    {
     "name": "stderr",
     "output_type": "stream",
     "text": [
      "C:\\ProgramData\\Anaconda3\\envs\\newenvt\\lib\\site-packages\\sklearn\\metrics\\_classification.py:1245: UndefinedMetricWarning: Precision and F-score are ill-defined and being set to 0.0 in labels with no predicted samples. Use `zero_division` parameter to control this behavior.\n",
      "  _warn_prf(average, modifier, msg_start, len(result))\n",
      "C:\\ProgramData\\Anaconda3\\envs\\newenvt\\lib\\site-packages\\sklearn\\metrics\\_classification.py:1245: UndefinedMetricWarning: Precision and F-score are ill-defined and being set to 0.0 in labels with no predicted samples. Use `zero_division` parameter to control this behavior.\n",
      "  _warn_prf(average, modifier, msg_start, len(result))\n",
      "C:\\ProgramData\\Anaconda3\\envs\\newenvt\\lib\\site-packages\\sklearn\\metrics\\_classification.py:1245: UndefinedMetricWarning: Precision and F-score are ill-defined and being set to 0.0 in labels with no predicted samples. Use `zero_division` parameter to control this behavior.\n",
      "  _warn_prf(average, modifier, msg_start, len(result))\n"
     ]
    },
    {
     "name": "stdout",
     "output_type": "stream",
     "text": [
      "BRFSS MultiLabel Cancer + Diabetes - Grounded, Knowledge Graph-Based Feature Selection - Logistic Regression\n",
      "              precision    recall  f1-score   support\n",
      "\n",
      "           0       0.85      1.00      0.92     10888\n",
      "           1       0.00      0.00      0.00      1907\n",
      "\n",
      "    accuracy                           0.85     12795\n",
      "   macro avg       0.43      0.50      0.46     12795\n",
      "weighted avg       0.72      0.85      0.78     12795\n",
      "\n",
      "Hamming Loss: 0.14904259476357953\n"
     ]
    },
    {
     "name": "stderr",
     "output_type": "stream",
     "text": [
      "C:\\ProgramData\\Anaconda3\\envs\\newenvt\\lib\\site-packages\\sklearn\\metrics\\_classification.py:1245: UndefinedMetricWarning: Precision and F-score are ill-defined and being set to 0.0 in labels with no predicted samples. Use `zero_division` parameter to control this behavior.\n",
      "  _warn_prf(average, modifier, msg_start, len(result))\n",
      "C:\\ProgramData\\Anaconda3\\envs\\newenvt\\lib\\site-packages\\sklearn\\metrics\\_classification.py:1245: UndefinedMetricWarning: Precision and F-score are ill-defined and being set to 0.0 in labels with no predicted samples. Use `zero_division` parameter to control this behavior.\n",
      "  _warn_prf(average, modifier, msg_start, len(result))\n",
      "C:\\ProgramData\\Anaconda3\\envs\\newenvt\\lib\\site-packages\\sklearn\\metrics\\_classification.py:1245: UndefinedMetricWarning: Precision and F-score are ill-defined and being set to 0.0 in labels with no predicted samples. Use `zero_division` parameter to control this behavior.\n",
      "  _warn_prf(average, modifier, msg_start, len(result))\n"
     ]
    },
    {
     "name": "stdout",
     "output_type": "stream",
     "text": [
      "BRFSS MultiLabel Cancer + Diabetes - Grounded, Knowledge Graph-Based Feature Selection - Logistic Regression\n",
      "              precision    recall  f1-score   support\n",
      "\n",
      "           0       0.83      1.00      0.91     10593\n",
      "           1       0.00      0.00      0.00      2201\n",
      "\n",
      "    accuracy                           0.83     12794\n",
      "   macro avg       0.41      0.50      0.45     12794\n",
      "weighted avg       0.69      0.83      0.75     12794\n",
      "\n",
      "Hamming Loss: 0.17203376582773175\n"
     ]
    },
    {
     "name": "stderr",
     "output_type": "stream",
     "text": [
      "C:\\ProgramData\\Anaconda3\\envs\\newenvt\\lib\\site-packages\\sklearn\\metrics\\_classification.py:1245: UndefinedMetricWarning: Precision and F-score are ill-defined and being set to 0.0 in labels with no predicted samples. Use `zero_division` parameter to control this behavior.\n",
      "  _warn_prf(average, modifier, msg_start, len(result))\n",
      "C:\\ProgramData\\Anaconda3\\envs\\newenvt\\lib\\site-packages\\sklearn\\metrics\\_classification.py:1245: UndefinedMetricWarning: Precision and F-score are ill-defined and being set to 0.0 in labels with no predicted samples. Use `zero_division` parameter to control this behavior.\n",
      "  _warn_prf(average, modifier, msg_start, len(result))\n",
      "C:\\ProgramData\\Anaconda3\\envs\\newenvt\\lib\\site-packages\\sklearn\\metrics\\_classification.py:1245: UndefinedMetricWarning: Precision and F-score are ill-defined and being set to 0.0 in labels with no predicted samples. Use `zero_division` parameter to control this behavior.\n",
      "  _warn_prf(average, modifier, msg_start, len(result))\n",
      "C:\\ProgramData\\Anaconda3\\envs\\newenvt\\lib\\site-packages\\sklearn\\multiclass.py:81: UserWarning: Label 0 is present in all training examples.\n",
      "  str(classes[c]))\n"
     ]
    },
    {
     "name": "stdout",
     "output_type": "stream",
     "text": [
      "BRFSS MultiLabel Cancer + Diabetes - Grounded, Knowledge Graph-Based Feature Selection - Logistic Regression\n",
      "              precision    recall  f1-score   support\n",
      "\n",
      "           0       0.87      1.00      0.93     11125\n",
      "           1       0.00      0.00      0.00      1669\n",
      "\n",
      "    accuracy                           0.87     12794\n",
      "   macro avg       0.43      0.50      0.47     12794\n",
      "weighted avg       0.76      0.87      0.81     12794\n",
      "\n",
      "Hamming Loss: 0.1304517742691887\n",
      "y_pred shape: \n",
      "(12794, 2)\n",
      "y_pred2 shape:\n",
      "(5,)\n",
      "BRFSS MultiLabel Cancer + Diabetes - Grounded, Knowledge Graph-Based Feature Selection - Logistic Regression AGGREGATE\n"
     ]
    },
    {
     "name": "stderr",
     "output_type": "stream",
     "text": [
      "C:\\ProgramData\\Anaconda3\\envs\\newenvt\\lib\\site-packages\\sklearn\\metrics\\_classification.py:1245: UndefinedMetricWarning: Precision and F-score are ill-defined and being set to 0.0 in labels with no predicted samples. Use `zero_division` parameter to control this behavior.\n",
      "  _warn_prf(average, modifier, msg_start, len(result))\n",
      "C:\\ProgramData\\Anaconda3\\envs\\newenvt\\lib\\site-packages\\sklearn\\metrics\\_classification.py:1245: UndefinedMetricWarning: Precision and F-score are ill-defined and being set to 0.0 in labels with no predicted samples. Use `zero_division` parameter to control this behavior.\n",
      "  _warn_prf(average, modifier, msg_start, len(result))\n",
      "C:\\ProgramData\\Anaconda3\\envs\\newenvt\\lib\\site-packages\\sklearn\\metrics\\_classification.py:1245: UndefinedMetricWarning: Precision and F-score are ill-defined and being set to 0.0 in labels with no predicted samples. Use `zero_division` parameter to control this behavior.\n",
      "  _warn_prf(average, modifier, msg_start, len(result))\n",
      "C:\\ProgramData\\Anaconda3\\envs\\newenvt\\lib\\site-packages\\sklearn\\metrics\\_classification.py:1245: UndefinedMetricWarning: Precision and F-score are ill-defined and being set to 0.0 in labels with no predicted samples. Use `zero_division` parameter to control this behavior.\n",
      "  _warn_prf(average, modifier, msg_start, len(result))\n",
      "C:\\ProgramData\\Anaconda3\\envs\\newenvt\\lib\\site-packages\\sklearn\\metrics\\_classification.py:1245: UndefinedMetricWarning: Precision and F-score are ill-defined and being set to 0.0 in labels with no predicted samples. Use `zero_division` parameter to control this behavior.\n",
      "  _warn_prf(average, modifier, msg_start, len(result))\n",
      "C:\\ProgramData\\Anaconda3\\envs\\newenvt\\lib\\site-packages\\sklearn\\metrics\\_classification.py:1245: UndefinedMetricWarning: Precision and F-score are ill-defined and being set to 0.0 in labels with no predicted samples. Use `zero_division` parameter to control this behavior.\n",
      "  _warn_prf(average, modifier, msg_start, len(result))\n"
     ]
    },
    {
     "name": "stdout",
     "output_type": "stream",
     "text": [
      "              precision    recall  f1-score   support\n",
      "\n",
      "           0       0.84      1.00      0.91     53872\n",
      "           1       0.00      0.00      0.00     10101\n",
      "\n",
      "    accuracy                           0.84     63973\n",
      "   macro avg       0.42      0.50      0.46     63973\n",
      "weighted avg       0.71      0.84      0.77     63973\n",
      "\n",
      "Hamming Loss: 0.15789452888691047\n",
      "BRFSS MultiLabel Cancer + Diabetes - Grounded, Knowledge Graph-Based Feature Selection - MultinomialNB\n",
      "              precision    recall  f1-score   support\n",
      "\n",
      "           0       0.83      1.00      0.90     10573\n",
      "           1       0.00      0.00      0.00      2222\n",
      "\n",
      "    accuracy                           0.83     12795\n",
      "   macro avg       0.41      0.50      0.45     12795\n",
      "weighted avg       0.68      0.83      0.75     12795\n",
      "\n",
      "Hamming Loss: 0.17366158655724892\n"
     ]
    },
    {
     "name": "stderr",
     "output_type": "stream",
     "text": [
      "C:\\ProgramData\\Anaconda3\\envs\\newenvt\\lib\\site-packages\\sklearn\\metrics\\_classification.py:1245: UndefinedMetricWarning: Precision and F-score are ill-defined and being set to 0.0 in labels with no predicted samples. Use `zero_division` parameter to control this behavior.\n",
      "  _warn_prf(average, modifier, msg_start, len(result))\n",
      "C:\\ProgramData\\Anaconda3\\envs\\newenvt\\lib\\site-packages\\sklearn\\metrics\\_classification.py:1245: UndefinedMetricWarning: Precision and F-score are ill-defined and being set to 0.0 in labels with no predicted samples. Use `zero_division` parameter to control this behavior.\n",
      "  _warn_prf(average, modifier, msg_start, len(result))\n",
      "C:\\ProgramData\\Anaconda3\\envs\\newenvt\\lib\\site-packages\\sklearn\\metrics\\_classification.py:1245: UndefinedMetricWarning: Precision and F-score are ill-defined and being set to 0.0 in labels with no predicted samples. Use `zero_division` parameter to control this behavior.\n",
      "  _warn_prf(average, modifier, msg_start, len(result))\n"
     ]
    },
    {
     "name": "stdout",
     "output_type": "stream",
     "text": [
      "BRFSS MultiLabel Cancer + Diabetes - Grounded, Knowledge Graph-Based Feature Selection - MultinomialNB\n",
      "              precision    recall  f1-score   support\n",
      "\n",
      "           0       0.84      1.00      0.91     10693\n",
      "           1       0.00      0.00      0.00      2102\n",
      "\n",
      "    accuracy                           0.84     12795\n",
      "   macro avg       0.42      0.50      0.46     12795\n",
      "weighted avg       0.70      0.84      0.76     12795\n",
      "\n",
      "Hamming Loss: 0.16428292301680344\n"
     ]
    },
    {
     "name": "stderr",
     "output_type": "stream",
     "text": [
      "C:\\ProgramData\\Anaconda3\\envs\\newenvt\\lib\\site-packages\\sklearn\\metrics\\_classification.py:1245: UndefinedMetricWarning: Precision and F-score are ill-defined and being set to 0.0 in labels with no predicted samples. Use `zero_division` parameter to control this behavior.\n",
      "  _warn_prf(average, modifier, msg_start, len(result))\n",
      "C:\\ProgramData\\Anaconda3\\envs\\newenvt\\lib\\site-packages\\sklearn\\metrics\\_classification.py:1245: UndefinedMetricWarning: Precision and F-score are ill-defined and being set to 0.0 in labels with no predicted samples. Use `zero_division` parameter to control this behavior.\n",
      "  _warn_prf(average, modifier, msg_start, len(result))\n",
      "C:\\ProgramData\\Anaconda3\\envs\\newenvt\\lib\\site-packages\\sklearn\\metrics\\_classification.py:1245: UndefinedMetricWarning: Precision and F-score are ill-defined and being set to 0.0 in labels with no predicted samples. Use `zero_division` parameter to control this behavior.\n",
      "  _warn_prf(average, modifier, msg_start, len(result))\n"
     ]
    },
    {
     "name": "stdout",
     "output_type": "stream",
     "text": [
      "BRFSS MultiLabel Cancer + Diabetes - Grounded, Knowledge Graph-Based Feature Selection - MultinomialNB\n",
      "              precision    recall  f1-score   support\n",
      "\n",
      "           0       0.85      1.00      0.92     10888\n",
      "           1       0.00      0.00      0.00      1907\n",
      "\n",
      "    accuracy                           0.85     12795\n",
      "   macro avg       0.43      0.50      0.46     12795\n",
      "weighted avg       0.72      0.85      0.78     12795\n",
      "\n",
      "Hamming Loss: 0.14904259476357953\n"
     ]
    },
    {
     "name": "stderr",
     "output_type": "stream",
     "text": [
      "C:\\ProgramData\\Anaconda3\\envs\\newenvt\\lib\\site-packages\\sklearn\\metrics\\_classification.py:1245: UndefinedMetricWarning: Precision and F-score are ill-defined and being set to 0.0 in labels with no predicted samples. Use `zero_division` parameter to control this behavior.\n",
      "  _warn_prf(average, modifier, msg_start, len(result))\n",
      "C:\\ProgramData\\Anaconda3\\envs\\newenvt\\lib\\site-packages\\sklearn\\metrics\\_classification.py:1245: UndefinedMetricWarning: Precision and F-score are ill-defined and being set to 0.0 in labels with no predicted samples. Use `zero_division` parameter to control this behavior.\n",
      "  _warn_prf(average, modifier, msg_start, len(result))\n",
      "C:\\ProgramData\\Anaconda3\\envs\\newenvt\\lib\\site-packages\\sklearn\\metrics\\_classification.py:1245: UndefinedMetricWarning: Precision and F-score are ill-defined and being set to 0.0 in labels with no predicted samples. Use `zero_division` parameter to control this behavior.\n",
      "  _warn_prf(average, modifier, msg_start, len(result))\n"
     ]
    },
    {
     "name": "stdout",
     "output_type": "stream",
     "text": [
      "BRFSS MultiLabel Cancer + Diabetes - Grounded, Knowledge Graph-Based Feature Selection - MultinomialNB\n",
      "              precision    recall  f1-score   support\n",
      "\n",
      "           0       0.83      1.00      0.91     10593\n",
      "           1       0.00      0.00      0.00      2201\n",
      "\n",
      "    accuracy                           0.83     12794\n",
      "   macro avg       0.41      0.50      0.45     12794\n",
      "weighted avg       0.69      0.83      0.75     12794\n",
      "\n",
      "Hamming Loss: 0.17203376582773175\n"
     ]
    },
    {
     "name": "stderr",
     "output_type": "stream",
     "text": [
      "C:\\ProgramData\\Anaconda3\\envs\\newenvt\\lib\\site-packages\\sklearn\\metrics\\_classification.py:1245: UndefinedMetricWarning: Precision and F-score are ill-defined and being set to 0.0 in labels with no predicted samples. Use `zero_division` parameter to control this behavior.\n",
      "  _warn_prf(average, modifier, msg_start, len(result))\n",
      "C:\\ProgramData\\Anaconda3\\envs\\newenvt\\lib\\site-packages\\sklearn\\metrics\\_classification.py:1245: UndefinedMetricWarning: Precision and F-score are ill-defined and being set to 0.0 in labels with no predicted samples. Use `zero_division` parameter to control this behavior.\n",
      "  _warn_prf(average, modifier, msg_start, len(result))\n",
      "C:\\ProgramData\\Anaconda3\\envs\\newenvt\\lib\\site-packages\\sklearn\\metrics\\_classification.py:1245: UndefinedMetricWarning: Precision and F-score are ill-defined and being set to 0.0 in labels with no predicted samples. Use `zero_division` parameter to control this behavior.\n",
      "  _warn_prf(average, modifier, msg_start, len(result))\n",
      "C:\\ProgramData\\Anaconda3\\envs\\newenvt\\lib\\site-packages\\sklearn\\multiclass.py:81: UserWarning: Label 0 is present in all training examples.\n",
      "  str(classes[c]))\n",
      "C:\\ProgramData\\Anaconda3\\envs\\newenvt\\lib\\site-packages\\sklearn\\metrics\\_classification.py:1245: UndefinedMetricWarning: Precision and F-score are ill-defined and being set to 0.0 in labels with no predicted samples. Use `zero_division` parameter to control this behavior.\n",
      "  _warn_prf(average, modifier, msg_start, len(result))\n",
      "C:\\ProgramData\\Anaconda3\\envs\\newenvt\\lib\\site-packages\\sklearn\\metrics\\_classification.py:1245: UndefinedMetricWarning: Precision and F-score are ill-defined and being set to 0.0 in labels with no predicted samples. Use `zero_division` parameter to control this behavior.\n",
      "  _warn_prf(average, modifier, msg_start, len(result))\n",
      "C:\\ProgramData\\Anaconda3\\envs\\newenvt\\lib\\site-packages\\sklearn\\metrics\\_classification.py:1245: UndefinedMetricWarning: Precision and F-score are ill-defined and being set to 0.0 in labels with no predicted samples. Use `zero_division` parameter to control this behavior.\n",
      "  _warn_prf(average, modifier, msg_start, len(result))\n",
      "C:\\ProgramData\\Anaconda3\\envs\\newenvt\\lib\\site-packages\\sklearn\\metrics\\_classification.py:1245: UndefinedMetricWarning: Precision and F-score are ill-defined and being set to 0.0 in labels with no predicted samples. Use `zero_division` parameter to control this behavior.\n",
      "  _warn_prf(average, modifier, msg_start, len(result))\n"
     ]
    },
    {
     "name": "stdout",
     "output_type": "stream",
     "text": [
      "BRFSS MultiLabel Cancer + Diabetes - Grounded, Knowledge Graph-Based Feature Selection - MultinomialNB\n",
      "              precision    recall  f1-score   support\n",
      "\n",
      "           0       0.87      1.00      0.93     11125\n",
      "           1       0.00      0.00      0.00      1669\n",
      "\n",
      "    accuracy                           0.87     12794\n",
      "   macro avg       0.43      0.50      0.47     12794\n",
      "weighted avg       0.76      0.87      0.81     12794\n",
      "\n",
      "Hamming Loss: 0.1304517742691887\n",
      "BRFSS MultiLabel Cancer + Diabetes - Grounded, Knowledge Graph-Based Feature Selection - MultinomialNB AGGREGATE\n"
     ]
    },
    {
     "name": "stderr",
     "output_type": "stream",
     "text": [
      "C:\\ProgramData\\Anaconda3\\envs\\newenvt\\lib\\site-packages\\sklearn\\metrics\\_classification.py:1245: UndefinedMetricWarning: Precision and F-score are ill-defined and being set to 0.0 in labels with no predicted samples. Use `zero_division` parameter to control this behavior.\n",
      "  _warn_prf(average, modifier, msg_start, len(result))\n",
      "C:\\ProgramData\\Anaconda3\\envs\\newenvt\\lib\\site-packages\\sklearn\\metrics\\_classification.py:1245: UndefinedMetricWarning: Precision and F-score are ill-defined and being set to 0.0 in labels with no predicted samples. Use `zero_division` parameter to control this behavior.\n",
      "  _warn_prf(average, modifier, msg_start, len(result))\n"
     ]
    },
    {
     "name": "stdout",
     "output_type": "stream",
     "text": [
      "              precision    recall  f1-score   support\n",
      "\n",
      "           0       0.84      1.00      0.91     53872\n",
      "           1       0.00      0.00      0.00     10101\n",
      "\n",
      "    accuracy                           0.84     63973\n",
      "   macro avg       0.42      0.50      0.46     63973\n",
      "weighted avg       0.71      0.84      0.77     63973\n",
      "\n",
      "Hamming Loss: 0.15789452888691047\n",
      "BRFSS MultiLabel Cancer + Diabetes - Grounded, Knowledge Graph-Based Feature Selection - Linear DA\n",
      "              precision    recall  f1-score   support\n",
      "\n",
      "           0       0.83      1.00      0.90     10573\n",
      "           1       0.00      0.00      0.00      2222\n",
      "\n",
      "    accuracy                           0.83     12795\n",
      "   macro avg       0.41      0.50      0.45     12795\n",
      "weighted avg       0.68      0.83      0.75     12795\n",
      "\n",
      "Hamming Loss: 0.17366158655724892\n"
     ]
    },
    {
     "name": "stderr",
     "output_type": "stream",
     "text": [
      "C:\\ProgramData\\Anaconda3\\envs\\newenvt\\lib\\site-packages\\sklearn\\metrics\\_classification.py:1245: UndefinedMetricWarning: Precision and F-score are ill-defined and being set to 0.0 in labels with no predicted samples. Use `zero_division` parameter to control this behavior.\n",
      "  _warn_prf(average, modifier, msg_start, len(result))\n",
      "C:\\ProgramData\\Anaconda3\\envs\\newenvt\\lib\\site-packages\\sklearn\\metrics\\_classification.py:1245: UndefinedMetricWarning: Precision and F-score are ill-defined and being set to 0.0 in labels with no predicted samples. Use `zero_division` parameter to control this behavior.\n",
      "  _warn_prf(average, modifier, msg_start, len(result))\n",
      "C:\\ProgramData\\Anaconda3\\envs\\newenvt\\lib\\site-packages\\sklearn\\metrics\\_classification.py:1245: UndefinedMetricWarning: Precision and F-score are ill-defined and being set to 0.0 in labels with no predicted samples. Use `zero_division` parameter to control this behavior.\n",
      "  _warn_prf(average, modifier, msg_start, len(result))\n"
     ]
    },
    {
     "name": "stdout",
     "output_type": "stream",
     "text": [
      "BRFSS MultiLabel Cancer + Diabetes - Grounded, Knowledge Graph-Based Feature Selection - Linear DA\n",
      "              precision    recall  f1-score   support\n",
      "\n",
      "           0       0.84      1.00      0.91     10693\n",
      "           1       0.00      0.00      0.00      2102\n",
      "\n",
      "    accuracy                           0.84     12795\n",
      "   macro avg       0.42      0.50      0.46     12795\n",
      "weighted avg       0.70      0.84      0.76     12795\n",
      "\n",
      "Hamming Loss: 0.16428292301680344\n"
     ]
    },
    {
     "name": "stderr",
     "output_type": "stream",
     "text": [
      "C:\\ProgramData\\Anaconda3\\envs\\newenvt\\lib\\site-packages\\sklearn\\metrics\\_classification.py:1245: UndefinedMetricWarning: Precision and F-score are ill-defined and being set to 0.0 in labels with no predicted samples. Use `zero_division` parameter to control this behavior.\n",
      "  _warn_prf(average, modifier, msg_start, len(result))\n",
      "C:\\ProgramData\\Anaconda3\\envs\\newenvt\\lib\\site-packages\\sklearn\\metrics\\_classification.py:1245: UndefinedMetricWarning: Precision and F-score are ill-defined and being set to 0.0 in labels with no predicted samples. Use `zero_division` parameter to control this behavior.\n",
      "  _warn_prf(average, modifier, msg_start, len(result))\n",
      "C:\\ProgramData\\Anaconda3\\envs\\newenvt\\lib\\site-packages\\sklearn\\metrics\\_classification.py:1245: UndefinedMetricWarning: Precision and F-score are ill-defined and being set to 0.0 in labels with no predicted samples. Use `zero_division` parameter to control this behavior.\n",
      "  _warn_prf(average, modifier, msg_start, len(result))\n"
     ]
    },
    {
     "name": "stdout",
     "output_type": "stream",
     "text": [
      "BRFSS MultiLabel Cancer + Diabetes - Grounded, Knowledge Graph-Based Feature Selection - Linear DA\n",
      "              precision    recall  f1-score   support\n",
      "\n",
      "           0       0.85      1.00      0.92     10888\n",
      "           1       0.00      0.00      0.00      1907\n",
      "\n",
      "    accuracy                           0.85     12795\n",
      "   macro avg       0.43      0.50      0.46     12795\n",
      "weighted avg       0.72      0.85      0.78     12795\n",
      "\n",
      "Hamming Loss: 0.14904259476357953\n"
     ]
    },
    {
     "name": "stderr",
     "output_type": "stream",
     "text": [
      "C:\\ProgramData\\Anaconda3\\envs\\newenvt\\lib\\site-packages\\sklearn\\metrics\\_classification.py:1245: UndefinedMetricWarning: Precision and F-score are ill-defined and being set to 0.0 in labels with no predicted samples. Use `zero_division` parameter to control this behavior.\n",
      "  _warn_prf(average, modifier, msg_start, len(result))\n",
      "C:\\ProgramData\\Anaconda3\\envs\\newenvt\\lib\\site-packages\\sklearn\\metrics\\_classification.py:1245: UndefinedMetricWarning: Precision and F-score are ill-defined and being set to 0.0 in labels with no predicted samples. Use `zero_division` parameter to control this behavior.\n",
      "  _warn_prf(average, modifier, msg_start, len(result))\n",
      "C:\\ProgramData\\Anaconda3\\envs\\newenvt\\lib\\site-packages\\sklearn\\metrics\\_classification.py:1245: UndefinedMetricWarning: Precision and F-score are ill-defined and being set to 0.0 in labels with no predicted samples. Use `zero_division` parameter to control this behavior.\n",
      "  _warn_prf(average, modifier, msg_start, len(result))\n"
     ]
    },
    {
     "name": "stdout",
     "output_type": "stream",
     "text": [
      "BRFSS MultiLabel Cancer + Diabetes - Grounded, Knowledge Graph-Based Feature Selection - Linear DA\n",
      "              precision    recall  f1-score   support\n",
      "\n",
      "           0       0.83      1.00      0.91     10593\n",
      "           1       0.00      0.00      0.00      2201\n",
      "\n",
      "    accuracy                           0.83     12794\n",
      "   macro avg       0.41      0.50      0.45     12794\n",
      "weighted avg       0.69      0.83      0.75     12794\n",
      "\n",
      "Hamming Loss: 0.17203376582773175\n"
     ]
    },
    {
     "name": "stderr",
     "output_type": "stream",
     "text": [
      "C:\\ProgramData\\Anaconda3\\envs\\newenvt\\lib\\site-packages\\sklearn\\metrics\\_classification.py:1245: UndefinedMetricWarning: Precision and F-score are ill-defined and being set to 0.0 in labels with no predicted samples. Use `zero_division` parameter to control this behavior.\n",
      "  _warn_prf(average, modifier, msg_start, len(result))\n",
      "C:\\ProgramData\\Anaconda3\\envs\\newenvt\\lib\\site-packages\\sklearn\\metrics\\_classification.py:1245: UndefinedMetricWarning: Precision and F-score are ill-defined and being set to 0.0 in labels with no predicted samples. Use `zero_division` parameter to control this behavior.\n",
      "  _warn_prf(average, modifier, msg_start, len(result))\n",
      "C:\\ProgramData\\Anaconda3\\envs\\newenvt\\lib\\site-packages\\sklearn\\metrics\\_classification.py:1245: UndefinedMetricWarning: Precision and F-score are ill-defined and being set to 0.0 in labels with no predicted samples. Use `zero_division` parameter to control this behavior.\n",
      "  _warn_prf(average, modifier, msg_start, len(result))\n",
      "C:\\ProgramData\\Anaconda3\\envs\\newenvt\\lib\\site-packages\\sklearn\\multiclass.py:81: UserWarning: Label 0 is present in all training examples.\n",
      "  str(classes[c]))\n"
     ]
    },
    {
     "name": "stdout",
     "output_type": "stream",
     "text": [
      "BRFSS MultiLabel Cancer + Diabetes - Grounded, Knowledge Graph-Based Feature Selection - Linear DA\n",
      "              precision    recall  f1-score   support\n",
      "\n",
      "           0       0.87      1.00      0.93     11125\n",
      "           1       0.00      0.00      0.00      1669\n",
      "\n",
      "    accuracy                           0.87     12794\n",
      "   macro avg       0.43      0.50      0.47     12794\n",
      "weighted avg       0.76      0.87      0.81     12794\n",
      "\n",
      "Hamming Loss: 0.1304517742691887\n",
      "BRFSS MultiLabel Cancer + Diabetes - Grounded, Knowledge Graph-Based Feature Selection - Linear DA AGGREGATE\n"
     ]
    },
    {
     "name": "stderr",
     "output_type": "stream",
     "text": [
      "C:\\ProgramData\\Anaconda3\\envs\\newenvt\\lib\\site-packages\\sklearn\\metrics\\_classification.py:1245: UndefinedMetricWarning: Precision and F-score are ill-defined and being set to 0.0 in labels with no predicted samples. Use `zero_division` parameter to control this behavior.\n",
      "  _warn_prf(average, modifier, msg_start, len(result))\n",
      "C:\\ProgramData\\Anaconda3\\envs\\newenvt\\lib\\site-packages\\sklearn\\metrics\\_classification.py:1245: UndefinedMetricWarning: Precision and F-score are ill-defined and being set to 0.0 in labels with no predicted samples. Use `zero_division` parameter to control this behavior.\n",
      "  _warn_prf(average, modifier, msg_start, len(result))\n",
      "C:\\ProgramData\\Anaconda3\\envs\\newenvt\\lib\\site-packages\\sklearn\\metrics\\_classification.py:1245: UndefinedMetricWarning: Precision and F-score are ill-defined and being set to 0.0 in labels with no predicted samples. Use `zero_division` parameter to control this behavior.\n",
      "  _warn_prf(average, modifier, msg_start, len(result))\n",
      "C:\\ProgramData\\Anaconda3\\envs\\newenvt\\lib\\site-packages\\sklearn\\metrics\\_classification.py:1245: UndefinedMetricWarning: Precision and F-score are ill-defined and being set to 0.0 in labels with no predicted samples. Use `zero_division` parameter to control this behavior.\n",
      "  _warn_prf(average, modifier, msg_start, len(result))\n",
      "C:\\ProgramData\\Anaconda3\\envs\\newenvt\\lib\\site-packages\\sklearn\\metrics\\_classification.py:1245: UndefinedMetricWarning: Precision and F-score are ill-defined and being set to 0.0 in labels with no predicted samples. Use `zero_division` parameter to control this behavior.\n",
      "  _warn_prf(average, modifier, msg_start, len(result))\n",
      "C:\\ProgramData\\Anaconda3\\envs\\newenvt\\lib\\site-packages\\sklearn\\metrics\\_classification.py:1245: UndefinedMetricWarning: Precision and F-score are ill-defined and being set to 0.0 in labels with no predicted samples. Use `zero_division` parameter to control this behavior.\n",
      "  _warn_prf(average, modifier, msg_start, len(result))\n"
     ]
    },
    {
     "name": "stdout",
     "output_type": "stream",
     "text": [
      "              precision    recall  f1-score   support\n",
      "\n",
      "           0       0.84      1.00      0.91     53872\n",
      "           1       0.00      0.00      0.00     10101\n",
      "\n",
      "    accuracy                           0.84     63973\n",
      "   macro avg       0.42      0.50      0.46     63973\n",
      "weighted avg       0.71      0.84      0.77     63973\n",
      "\n",
      "Hamming Loss: 0.15789452888691047\n",
      "BRFSS MultiLabel Cancer + Diabetes - Grounded, Knowledge Graph-Based Feature Selection - Random Forest\n",
      "              precision    recall  f1-score   support\n",
      "\n",
      "           0       0.83      1.00      0.90     10573\n",
      "           1       0.00      0.00      0.00      2222\n",
      "\n",
      "    accuracy                           0.83     12795\n",
      "   macro avg       0.41      0.50      0.45     12795\n",
      "weighted avg       0.68      0.83      0.75     12795\n",
      "\n",
      "Hamming Loss: 0.17366158655724892\n"
     ]
    },
    {
     "name": "stderr",
     "output_type": "stream",
     "text": [
      "C:\\ProgramData\\Anaconda3\\envs\\newenvt\\lib\\site-packages\\sklearn\\metrics\\_classification.py:1245: UndefinedMetricWarning: Precision and F-score are ill-defined and being set to 0.0 in labels with no predicted samples. Use `zero_division` parameter to control this behavior.\n",
      "  _warn_prf(average, modifier, msg_start, len(result))\n",
      "C:\\ProgramData\\Anaconda3\\envs\\newenvt\\lib\\site-packages\\sklearn\\metrics\\_classification.py:1245: UndefinedMetricWarning: Precision and F-score are ill-defined and being set to 0.0 in labels with no predicted samples. Use `zero_division` parameter to control this behavior.\n",
      "  _warn_prf(average, modifier, msg_start, len(result))\n",
      "C:\\ProgramData\\Anaconda3\\envs\\newenvt\\lib\\site-packages\\sklearn\\metrics\\_classification.py:1245: UndefinedMetricWarning: Precision and F-score are ill-defined and being set to 0.0 in labels with no predicted samples. Use `zero_division` parameter to control this behavior.\n",
      "  _warn_prf(average, modifier, msg_start, len(result))\n"
     ]
    },
    {
     "name": "stdout",
     "output_type": "stream",
     "text": [
      "BRFSS MultiLabel Cancer + Diabetes - Grounded, Knowledge Graph-Based Feature Selection - Random Forest\n",
      "              precision    recall  f1-score   support\n",
      "\n",
      "           0       0.84      1.00      0.91     10693\n",
      "           1       0.00      0.00      0.00      2102\n",
      "\n",
      "    accuracy                           0.84     12795\n",
      "   macro avg       0.42      0.50      0.46     12795\n",
      "weighted avg       0.70      0.84      0.76     12795\n",
      "\n",
      "Hamming Loss: 0.16428292301680344\n"
     ]
    },
    {
     "name": "stderr",
     "output_type": "stream",
     "text": [
      "C:\\ProgramData\\Anaconda3\\envs\\newenvt\\lib\\site-packages\\sklearn\\metrics\\_classification.py:1245: UndefinedMetricWarning: Precision and F-score are ill-defined and being set to 0.0 in labels with no predicted samples. Use `zero_division` parameter to control this behavior.\n",
      "  _warn_prf(average, modifier, msg_start, len(result))\n",
      "C:\\ProgramData\\Anaconda3\\envs\\newenvt\\lib\\site-packages\\sklearn\\metrics\\_classification.py:1245: UndefinedMetricWarning: Precision and F-score are ill-defined and being set to 0.0 in labels with no predicted samples. Use `zero_division` parameter to control this behavior.\n",
      "  _warn_prf(average, modifier, msg_start, len(result))\n",
      "C:\\ProgramData\\Anaconda3\\envs\\newenvt\\lib\\site-packages\\sklearn\\metrics\\_classification.py:1245: UndefinedMetricWarning: Precision and F-score are ill-defined and being set to 0.0 in labels with no predicted samples. Use `zero_division` parameter to control this behavior.\n",
      "  _warn_prf(average, modifier, msg_start, len(result))\n"
     ]
    },
    {
     "name": "stdout",
     "output_type": "stream",
     "text": [
      "BRFSS MultiLabel Cancer + Diabetes - Grounded, Knowledge Graph-Based Feature Selection - Random Forest\n",
      "              precision    recall  f1-score   support\n",
      "\n",
      "           0       0.85      1.00      0.92     10888\n",
      "           1       0.00      0.00      0.00      1907\n",
      "\n",
      "    accuracy                           0.85     12795\n",
      "   macro avg       0.43      0.50      0.46     12795\n",
      "weighted avg       0.72      0.85      0.78     12795\n",
      "\n",
      "Hamming Loss: 0.14904259476357953\n"
     ]
    },
    {
     "name": "stderr",
     "output_type": "stream",
     "text": [
      "C:\\ProgramData\\Anaconda3\\envs\\newenvt\\lib\\site-packages\\sklearn\\metrics\\_classification.py:1245: UndefinedMetricWarning: Precision and F-score are ill-defined and being set to 0.0 in labels with no predicted samples. Use `zero_division` parameter to control this behavior.\n",
      "  _warn_prf(average, modifier, msg_start, len(result))\n",
      "C:\\ProgramData\\Anaconda3\\envs\\newenvt\\lib\\site-packages\\sklearn\\metrics\\_classification.py:1245: UndefinedMetricWarning: Precision and F-score are ill-defined and being set to 0.0 in labels with no predicted samples. Use `zero_division` parameter to control this behavior.\n",
      "  _warn_prf(average, modifier, msg_start, len(result))\n",
      "C:\\ProgramData\\Anaconda3\\envs\\newenvt\\lib\\site-packages\\sklearn\\metrics\\_classification.py:1245: UndefinedMetricWarning: Precision and F-score are ill-defined and being set to 0.0 in labels with no predicted samples. Use `zero_division` parameter to control this behavior.\n",
      "  _warn_prf(average, modifier, msg_start, len(result))\n"
     ]
    },
    {
     "name": "stdout",
     "output_type": "stream",
     "text": [
      "BRFSS MultiLabel Cancer + Diabetes - Grounded, Knowledge Graph-Based Feature Selection - Random Forest\n",
      "              precision    recall  f1-score   support\n",
      "\n",
      "           0       0.83      1.00      0.91     10593\n",
      "           1       0.00      0.00      0.00      2201\n",
      "\n",
      "    accuracy                           0.83     12794\n",
      "   macro avg       0.41      0.50      0.45     12794\n",
      "weighted avg       0.69      0.83      0.75     12794\n",
      "\n",
      "Hamming Loss: 0.17203376582773175\n"
     ]
    },
    {
     "name": "stderr",
     "output_type": "stream",
     "text": [
      "C:\\ProgramData\\Anaconda3\\envs\\newenvt\\lib\\site-packages\\sklearn\\metrics\\_classification.py:1245: UndefinedMetricWarning: Precision and F-score are ill-defined and being set to 0.0 in labels with no predicted samples. Use `zero_division` parameter to control this behavior.\n",
      "  _warn_prf(average, modifier, msg_start, len(result))\n",
      "C:\\ProgramData\\Anaconda3\\envs\\newenvt\\lib\\site-packages\\sklearn\\metrics\\_classification.py:1245: UndefinedMetricWarning: Precision and F-score are ill-defined and being set to 0.0 in labels with no predicted samples. Use `zero_division` parameter to control this behavior.\n",
      "  _warn_prf(average, modifier, msg_start, len(result))\n",
      "C:\\ProgramData\\Anaconda3\\envs\\newenvt\\lib\\site-packages\\sklearn\\metrics\\_classification.py:1245: UndefinedMetricWarning: Precision and F-score are ill-defined and being set to 0.0 in labels with no predicted samples. Use `zero_division` parameter to control this behavior.\n",
      "  _warn_prf(average, modifier, msg_start, len(result))\n",
      "C:\\ProgramData\\Anaconda3\\envs\\newenvt\\lib\\site-packages\\sklearn\\multiclass.py:81: UserWarning: Label 0 is present in all training examples.\n",
      "  str(classes[c]))\n"
     ]
    },
    {
     "name": "stdout",
     "output_type": "stream",
     "text": [
      "BRFSS MultiLabel Cancer + Diabetes - Grounded, Knowledge Graph-Based Feature Selection - Random Forest\n",
      "              precision    recall  f1-score   support\n",
      "\n",
      "           0       0.87      1.00      0.93     11125\n",
      "           1       0.00      0.00      0.00      1669\n",
      "\n",
      "    accuracy                           0.87     12794\n",
      "   macro avg       0.43      0.50      0.47     12794\n",
      "weighted avg       0.76      0.87      0.81     12794\n",
      "\n",
      "Hamming Loss: 0.1304517742691887\n",
      "BRFSS MultiLabel Cancer + Diabetes - Grounded, Knowledge Graph-Based Feature Selection - Random Forest AGGREGATE\n",
      "              precision    recall  f1-score   support\n",
      "\n",
      "           0       0.84      1.00      0.91     53872\n",
      "           1       0.00      0.00      0.00     10101\n",
      "\n",
      "    accuracy                           0.84     63973\n",
      "   macro avg       0.42      0.50      0.46     63973\n",
      "weighted avg       0.71      0.84      0.77     63973\n",
      "\n",
      "Hamming Loss: 0.15789452888691047\n"
     ]
    },
    {
     "name": "stderr",
     "output_type": "stream",
     "text": [
      "C:\\ProgramData\\Anaconda3\\envs\\newenvt\\lib\\site-packages\\sklearn\\metrics\\_classification.py:1245: UndefinedMetricWarning: Precision and F-score are ill-defined and being set to 0.0 in labels with no predicted samples. Use `zero_division` parameter to control this behavior.\n",
      "  _warn_prf(average, modifier, msg_start, len(result))\n",
      "C:\\ProgramData\\Anaconda3\\envs\\newenvt\\lib\\site-packages\\sklearn\\metrics\\_classification.py:1245: UndefinedMetricWarning: Precision and F-score are ill-defined and being set to 0.0 in labels with no predicted samples. Use `zero_division` parameter to control this behavior.\n",
      "  _warn_prf(average, modifier, msg_start, len(result))\n",
      "C:\\ProgramData\\Anaconda3\\envs\\newenvt\\lib\\site-packages\\sklearn\\metrics\\_classification.py:1245: UndefinedMetricWarning: Precision and F-score are ill-defined and being set to 0.0 in labels with no predicted samples. Use `zero_division` parameter to control this behavior.\n",
      "  _warn_prf(average, modifier, msg_start, len(result))\n",
      "C:\\ProgramData\\Anaconda3\\envs\\newenvt\\lib\\site-packages\\sklearn\\metrics\\_classification.py:1245: UndefinedMetricWarning: Precision and F-score are ill-defined and being set to 0.0 in labels with no predicted samples. Use `zero_division` parameter to control this behavior.\n",
      "  _warn_prf(average, modifier, msg_start, len(result))\n",
      "C:\\ProgramData\\Anaconda3\\envs\\newenvt\\lib\\site-packages\\sklearn\\metrics\\_classification.py:1245: UndefinedMetricWarning: Precision and F-score are ill-defined and being set to 0.0 in labels with no predicted samples. Use `zero_division` parameter to control this behavior.\n",
      "  _warn_prf(average, modifier, msg_start, len(result))\n",
      "C:\\ProgramData\\Anaconda3\\envs\\newenvt\\lib\\site-packages\\sklearn\\metrics\\_classification.py:1245: UndefinedMetricWarning: Precision and F-score are ill-defined and being set to 0.0 in labels with no predicted samples. Use `zero_division` parameter to control this behavior.\n",
      "  _warn_prf(average, modifier, msg_start, len(result))\n"
     ]
    },
    {
     "name": "stdout",
     "output_type": "stream",
     "text": [
      "BRFSS MultiLabel Cancer + Diabetes - Grounded, Knowledge Graph-Based Feature Selection - KNN\n",
      "              precision    recall  f1-score   support\n",
      "\n",
      "           0       0.83      1.00      0.90     10573\n",
      "           1       0.00      0.00      0.00      2222\n",
      "\n",
      "    accuracy                           0.83     12795\n",
      "   macro avg       0.41      0.50      0.45     12795\n",
      "weighted avg       0.68      0.83      0.75     12795\n",
      "\n",
      "Hamming Loss: 0.17366158655724892\n"
     ]
    },
    {
     "name": "stderr",
     "output_type": "stream",
     "text": [
      "C:\\ProgramData\\Anaconda3\\envs\\newenvt\\lib\\site-packages\\sklearn\\metrics\\_classification.py:1245: UndefinedMetricWarning: Precision and F-score are ill-defined and being set to 0.0 in labels with no predicted samples. Use `zero_division` parameter to control this behavior.\n",
      "  _warn_prf(average, modifier, msg_start, len(result))\n",
      "C:\\ProgramData\\Anaconda3\\envs\\newenvt\\lib\\site-packages\\sklearn\\metrics\\_classification.py:1245: UndefinedMetricWarning: Precision and F-score are ill-defined and being set to 0.0 in labels with no predicted samples. Use `zero_division` parameter to control this behavior.\n",
      "  _warn_prf(average, modifier, msg_start, len(result))\n",
      "C:\\ProgramData\\Anaconda3\\envs\\newenvt\\lib\\site-packages\\sklearn\\metrics\\_classification.py:1245: UndefinedMetricWarning: Precision and F-score are ill-defined and being set to 0.0 in labels with no predicted samples. Use `zero_division` parameter to control this behavior.\n",
      "  _warn_prf(average, modifier, msg_start, len(result))\n"
     ]
    },
    {
     "name": "stdout",
     "output_type": "stream",
     "text": [
      "BRFSS MultiLabel Cancer + Diabetes - Grounded, Knowledge Graph-Based Feature Selection - KNN\n",
      "              precision    recall  f1-score   support\n",
      "\n",
      "           0       0.84      1.00      0.91     10693\n",
      "           1       0.00      0.00      0.00      2102\n",
      "\n",
      "    accuracy                           0.84     12795\n",
      "   macro avg       0.42      0.50      0.46     12795\n",
      "weighted avg       0.70      0.84      0.76     12795\n",
      "\n",
      "Hamming Loss: 0.16428292301680344\n"
     ]
    },
    {
     "name": "stderr",
     "output_type": "stream",
     "text": [
      "C:\\ProgramData\\Anaconda3\\envs\\newenvt\\lib\\site-packages\\sklearn\\metrics\\_classification.py:1245: UndefinedMetricWarning: Precision and F-score are ill-defined and being set to 0.0 in labels with no predicted samples. Use `zero_division` parameter to control this behavior.\n",
      "  _warn_prf(average, modifier, msg_start, len(result))\n",
      "C:\\ProgramData\\Anaconda3\\envs\\newenvt\\lib\\site-packages\\sklearn\\metrics\\_classification.py:1245: UndefinedMetricWarning: Precision and F-score are ill-defined and being set to 0.0 in labels with no predicted samples. Use `zero_division` parameter to control this behavior.\n",
      "  _warn_prf(average, modifier, msg_start, len(result))\n",
      "C:\\ProgramData\\Anaconda3\\envs\\newenvt\\lib\\site-packages\\sklearn\\metrics\\_classification.py:1245: UndefinedMetricWarning: Precision and F-score are ill-defined and being set to 0.0 in labels with no predicted samples. Use `zero_division` parameter to control this behavior.\n",
      "  _warn_prf(average, modifier, msg_start, len(result))\n"
     ]
    },
    {
     "name": "stdout",
     "output_type": "stream",
     "text": [
      "BRFSS MultiLabel Cancer + Diabetes - Grounded, Knowledge Graph-Based Feature Selection - KNN\n",
      "              precision    recall  f1-score   support\n",
      "\n",
      "           0       0.85      1.00      0.92     10888\n",
      "           1       0.00      0.00      0.00      1907\n",
      "\n",
      "    accuracy                           0.85     12795\n",
      "   macro avg       0.43      0.50      0.46     12795\n",
      "weighted avg       0.72      0.85      0.78     12795\n",
      "\n",
      "Hamming Loss: 0.14904259476357953\n"
     ]
    },
    {
     "name": "stderr",
     "output_type": "stream",
     "text": [
      "C:\\ProgramData\\Anaconda3\\envs\\newenvt\\lib\\site-packages\\sklearn\\metrics\\_classification.py:1245: UndefinedMetricWarning: Precision and F-score are ill-defined and being set to 0.0 in labels with no predicted samples. Use `zero_division` parameter to control this behavior.\n",
      "  _warn_prf(average, modifier, msg_start, len(result))\n",
      "C:\\ProgramData\\Anaconda3\\envs\\newenvt\\lib\\site-packages\\sklearn\\metrics\\_classification.py:1245: UndefinedMetricWarning: Precision and F-score are ill-defined and being set to 0.0 in labels with no predicted samples. Use `zero_division` parameter to control this behavior.\n",
      "  _warn_prf(average, modifier, msg_start, len(result))\n",
      "C:\\ProgramData\\Anaconda3\\envs\\newenvt\\lib\\site-packages\\sklearn\\metrics\\_classification.py:1245: UndefinedMetricWarning: Precision and F-score are ill-defined and being set to 0.0 in labels with no predicted samples. Use `zero_division` parameter to control this behavior.\n",
      "  _warn_prf(average, modifier, msg_start, len(result))\n"
     ]
    },
    {
     "name": "stdout",
     "output_type": "stream",
     "text": [
      "BRFSS MultiLabel Cancer + Diabetes - Grounded, Knowledge Graph-Based Feature Selection - KNN\n",
      "              precision    recall  f1-score   support\n",
      "\n",
      "           0       0.83      1.00      0.91     10593\n",
      "           1       0.00      0.00      0.00      2201\n",
      "\n",
      "    accuracy                           0.83     12794\n",
      "   macro avg       0.41      0.50      0.45     12794\n",
      "weighted avg       0.69      0.83      0.75     12794\n",
      "\n",
      "Hamming Loss: 0.17203376582773175\n"
     ]
    },
    {
     "name": "stderr",
     "output_type": "stream",
     "text": [
      "C:\\ProgramData\\Anaconda3\\envs\\newenvt\\lib\\site-packages\\sklearn\\metrics\\_classification.py:1245: UndefinedMetricWarning: Precision and F-score are ill-defined and being set to 0.0 in labels with no predicted samples. Use `zero_division` parameter to control this behavior.\n",
      "  _warn_prf(average, modifier, msg_start, len(result))\n",
      "C:\\ProgramData\\Anaconda3\\envs\\newenvt\\lib\\site-packages\\sklearn\\metrics\\_classification.py:1245: UndefinedMetricWarning: Precision and F-score are ill-defined and being set to 0.0 in labels with no predicted samples. Use `zero_division` parameter to control this behavior.\n",
      "  _warn_prf(average, modifier, msg_start, len(result))\n",
      "C:\\ProgramData\\Anaconda3\\envs\\newenvt\\lib\\site-packages\\sklearn\\metrics\\_classification.py:1245: UndefinedMetricWarning: Precision and F-score are ill-defined and being set to 0.0 in labels with no predicted samples. Use `zero_division` parameter to control this behavior.\n",
      "  _warn_prf(average, modifier, msg_start, len(result))\n",
      "C:\\ProgramData\\Anaconda3\\envs\\newenvt\\lib\\site-packages\\sklearn\\multiclass.py:81: UserWarning: Label 0 is present in all training examples.\n",
      "  str(classes[c]))\n"
     ]
    },
    {
     "name": "stdout",
     "output_type": "stream",
     "text": [
      "BRFSS MultiLabel Cancer + Diabetes - Grounded, Knowledge Graph-Based Feature Selection - KNN\n",
      "              precision    recall  f1-score   support\n",
      "\n",
      "           0       0.87      1.00      0.93     11125\n",
      "           1       0.00      0.00      0.00      1669\n",
      "\n",
      "    accuracy                           0.87     12794\n",
      "   macro avg       0.43      0.50      0.47     12794\n",
      "weighted avg       0.76      0.87      0.81     12794\n",
      "\n",
      "Hamming Loss: 0.1304517742691887\n",
      "BRFSS MultiLabel Cancer + Diabetes - Grounded, Knowledge Graph-Based Feature Selection - KNN AGGREGATE\n"
     ]
    },
    {
     "name": "stderr",
     "output_type": "stream",
     "text": [
      "C:\\ProgramData\\Anaconda3\\envs\\newenvt\\lib\\site-packages\\sklearn\\metrics\\_classification.py:1245: UndefinedMetricWarning: Precision and F-score are ill-defined and being set to 0.0 in labels with no predicted samples. Use `zero_division` parameter to control this behavior.\n",
      "  _warn_prf(average, modifier, msg_start, len(result))\n",
      "C:\\ProgramData\\Anaconda3\\envs\\newenvt\\lib\\site-packages\\sklearn\\metrics\\_classification.py:1245: UndefinedMetricWarning: Precision and F-score are ill-defined and being set to 0.0 in labels with no predicted samples. Use `zero_division` parameter to control this behavior.\n",
      "  _warn_prf(average, modifier, msg_start, len(result))\n",
      "C:\\ProgramData\\Anaconda3\\envs\\newenvt\\lib\\site-packages\\sklearn\\metrics\\_classification.py:1245: UndefinedMetricWarning: Precision and F-score are ill-defined and being set to 0.0 in labels with no predicted samples. Use `zero_division` parameter to control this behavior.\n",
      "  _warn_prf(average, modifier, msg_start, len(result))\n",
      "C:\\ProgramData\\Anaconda3\\envs\\newenvt\\lib\\site-packages\\sklearn\\metrics\\_classification.py:1245: UndefinedMetricWarning: Precision and F-score are ill-defined and being set to 0.0 in labels with no predicted samples. Use `zero_division` parameter to control this behavior.\n",
      "  _warn_prf(average, modifier, msg_start, len(result))\n",
      "C:\\ProgramData\\Anaconda3\\envs\\newenvt\\lib\\site-packages\\sklearn\\metrics\\_classification.py:1245: UndefinedMetricWarning: Precision and F-score are ill-defined and being set to 0.0 in labels with no predicted samples. Use `zero_division` parameter to control this behavior.\n",
      "  _warn_prf(average, modifier, msg_start, len(result))\n",
      "C:\\ProgramData\\Anaconda3\\envs\\newenvt\\lib\\site-packages\\sklearn\\metrics\\_classification.py:1245: UndefinedMetricWarning: Precision and F-score are ill-defined and being set to 0.0 in labels with no predicted samples. Use `zero_division` parameter to control this behavior.\n",
      "  _warn_prf(average, modifier, msg_start, len(result))\n"
     ]
    },
    {
     "name": "stdout",
     "output_type": "stream",
     "text": [
      "              precision    recall  f1-score   support\n",
      "\n",
      "           0       0.84      1.00      0.91     53872\n",
      "           1       0.00      0.00      0.00     10101\n",
      "\n",
      "    accuracy                           0.84     63973\n",
      "   macro avg       0.42      0.50      0.46     63973\n",
      "weighted avg       0.71      0.84      0.77     63973\n",
      "\n",
      "Hamming Loss: 0.15789452888691047\n",
      "BRFSS MultiLabel Cancer + Diabetes - Grounded - SVM\n",
      "              precision    recall  f1-score   support\n",
      "\n",
      "           0       0.83      1.00      0.90     10573\n",
      "           1       0.00      0.00      0.00      2222\n",
      "\n",
      "    accuracy                           0.83     12795\n",
      "   macro avg       0.41      0.50      0.45     12795\n",
      "weighted avg       0.68      0.83      0.75     12795\n",
      "\n",
      "Hamming Loss: 0.17366158655724892\n"
     ]
    },
    {
     "name": "stderr",
     "output_type": "stream",
     "text": [
      "C:\\ProgramData\\Anaconda3\\envs\\newenvt\\lib\\site-packages\\sklearn\\metrics\\_classification.py:1245: UndefinedMetricWarning: Precision and F-score are ill-defined and being set to 0.0 in labels with no predicted samples. Use `zero_division` parameter to control this behavior.\n",
      "  _warn_prf(average, modifier, msg_start, len(result))\n",
      "C:\\ProgramData\\Anaconda3\\envs\\newenvt\\lib\\site-packages\\sklearn\\metrics\\_classification.py:1245: UndefinedMetricWarning: Precision and F-score are ill-defined and being set to 0.0 in labels with no predicted samples. Use `zero_division` parameter to control this behavior.\n",
      "  _warn_prf(average, modifier, msg_start, len(result))\n",
      "C:\\ProgramData\\Anaconda3\\envs\\newenvt\\lib\\site-packages\\sklearn\\metrics\\_classification.py:1245: UndefinedMetricWarning: Precision and F-score are ill-defined and being set to 0.0 in labels with no predicted samples. Use `zero_division` parameter to control this behavior.\n",
      "  _warn_prf(average, modifier, msg_start, len(result))\n"
     ]
    },
    {
     "name": "stdout",
     "output_type": "stream",
     "text": [
      "BRFSS MultiLabel Cancer + Diabetes - Grounded - SVM\n",
      "              precision    recall  f1-score   support\n",
      "\n",
      "           0       0.84      1.00      0.91     10693\n",
      "           1       0.00      0.00      0.00      2102\n",
      "\n",
      "    accuracy                           0.84     12795\n",
      "   macro avg       0.42      0.50      0.46     12795\n",
      "weighted avg       0.70      0.84      0.76     12795\n",
      "\n",
      "Hamming Loss: 0.16428292301680344\n"
     ]
    },
    {
     "name": "stderr",
     "output_type": "stream",
     "text": [
      "C:\\ProgramData\\Anaconda3\\envs\\newenvt\\lib\\site-packages\\sklearn\\metrics\\_classification.py:1245: UndefinedMetricWarning: Precision and F-score are ill-defined and being set to 0.0 in labels with no predicted samples. Use `zero_division` parameter to control this behavior.\n",
      "  _warn_prf(average, modifier, msg_start, len(result))\n",
      "C:\\ProgramData\\Anaconda3\\envs\\newenvt\\lib\\site-packages\\sklearn\\metrics\\_classification.py:1245: UndefinedMetricWarning: Precision and F-score are ill-defined and being set to 0.0 in labels with no predicted samples. Use `zero_division` parameter to control this behavior.\n",
      "  _warn_prf(average, modifier, msg_start, len(result))\n",
      "C:\\ProgramData\\Anaconda3\\envs\\newenvt\\lib\\site-packages\\sklearn\\metrics\\_classification.py:1245: UndefinedMetricWarning: Precision and F-score are ill-defined and being set to 0.0 in labels with no predicted samples. Use `zero_division` parameter to control this behavior.\n",
      "  _warn_prf(average, modifier, msg_start, len(result))\n"
     ]
    },
    {
     "name": "stdout",
     "output_type": "stream",
     "text": [
      "BRFSS MultiLabel Cancer + Diabetes - Grounded - SVM\n",
      "              precision    recall  f1-score   support\n",
      "\n",
      "           0       0.85      1.00      0.92     10888\n",
      "           1       0.00      0.00      0.00      1907\n",
      "\n",
      "    accuracy                           0.85     12795\n",
      "   macro avg       0.43      0.50      0.46     12795\n",
      "weighted avg       0.72      0.85      0.78     12795\n",
      "\n",
      "Hamming Loss: 0.14904259476357953\n"
     ]
    },
    {
     "name": "stderr",
     "output_type": "stream",
     "text": [
      "C:\\ProgramData\\Anaconda3\\envs\\newenvt\\lib\\site-packages\\sklearn\\metrics\\_classification.py:1245: UndefinedMetricWarning: Precision and F-score are ill-defined and being set to 0.0 in labels with no predicted samples. Use `zero_division` parameter to control this behavior.\n",
      "  _warn_prf(average, modifier, msg_start, len(result))\n",
      "C:\\ProgramData\\Anaconda3\\envs\\newenvt\\lib\\site-packages\\sklearn\\metrics\\_classification.py:1245: UndefinedMetricWarning: Precision and F-score are ill-defined and being set to 0.0 in labels with no predicted samples. Use `zero_division` parameter to control this behavior.\n",
      "  _warn_prf(average, modifier, msg_start, len(result))\n",
      "C:\\ProgramData\\Anaconda3\\envs\\newenvt\\lib\\site-packages\\sklearn\\metrics\\_classification.py:1245: UndefinedMetricWarning: Precision and F-score are ill-defined and being set to 0.0 in labels with no predicted samples. Use `zero_division` parameter to control this behavior.\n",
      "  _warn_prf(average, modifier, msg_start, len(result))\n"
     ]
    },
    {
     "name": "stdout",
     "output_type": "stream",
     "text": [
      "BRFSS MultiLabel Cancer + Diabetes - Grounded - SVM\n",
      "              precision    recall  f1-score   support\n",
      "\n",
      "           0       0.83      1.00      0.91     10593\n",
      "           1       0.00      0.00      0.00      2201\n",
      "\n",
      "    accuracy                           0.83     12794\n",
      "   macro avg       0.41      0.50      0.45     12794\n",
      "weighted avg       0.69      0.83      0.75     12794\n",
      "\n",
      "Hamming Loss: 0.17203376582773175\n"
     ]
    },
    {
     "name": "stderr",
     "output_type": "stream",
     "text": [
      "C:\\ProgramData\\Anaconda3\\envs\\newenvt\\lib\\site-packages\\sklearn\\metrics\\_classification.py:1245: UndefinedMetricWarning: Precision and F-score are ill-defined and being set to 0.0 in labels with no predicted samples. Use `zero_division` parameter to control this behavior.\n",
      "  _warn_prf(average, modifier, msg_start, len(result))\n",
      "C:\\ProgramData\\Anaconda3\\envs\\newenvt\\lib\\site-packages\\sklearn\\metrics\\_classification.py:1245: UndefinedMetricWarning: Precision and F-score are ill-defined and being set to 0.0 in labels with no predicted samples. Use `zero_division` parameter to control this behavior.\n",
      "  _warn_prf(average, modifier, msg_start, len(result))\n",
      "C:\\ProgramData\\Anaconda3\\envs\\newenvt\\lib\\site-packages\\sklearn\\metrics\\_classification.py:1245: UndefinedMetricWarning: Precision and F-score are ill-defined and being set to 0.0 in labels with no predicted samples. Use `zero_division` parameter to control this behavior.\n",
      "  _warn_prf(average, modifier, msg_start, len(result))\n",
      "C:\\ProgramData\\Anaconda3\\envs\\newenvt\\lib\\site-packages\\sklearn\\multiclass.py:81: UserWarning: Label 0 is present in all training examples.\n",
      "  str(classes[c]))\n"
     ]
    },
    {
     "name": "stdout",
     "output_type": "stream",
     "text": [
      "BRFSS MultiLabel Cancer + Diabetes - Grounded - SVM\n",
      "              precision    recall  f1-score   support\n",
      "\n",
      "           0       0.87      1.00      0.93     11125\n",
      "           1       0.00      0.00      0.00      1669\n",
      "\n",
      "    accuracy                           0.87     12794\n",
      "   macro avg       0.43      0.50      0.47     12794\n",
      "weighted avg       0.76      0.87      0.81     12794\n",
      "\n",
      "Hamming Loss: 0.1304517742691887\n",
      "BRFSS MultiLabel Cancer + Diabetes - Grounded, Knowledge Graph-Based Feature Selection - SVM AGGREGATE\n",
      "              precision    recall  f1-score   support\n",
      "\n",
      "           0       0.84      1.00      0.91     53872\n",
      "           1       0.00      0.00      0.00     10101\n",
      "\n",
      "    accuracy                           0.84     63973\n",
      "   macro avg       0.42      0.50      0.46     63973\n",
      "weighted avg       0.71      0.84      0.77     63973\n",
      "\n",
      "Hamming Loss: 0.15789452888691047\n"
     ]
    },
    {
     "name": "stderr",
     "output_type": "stream",
     "text": [
      "C:\\ProgramData\\Anaconda3\\envs\\newenvt\\lib\\site-packages\\sklearn\\metrics\\_classification.py:1245: UndefinedMetricWarning: Precision and F-score are ill-defined and being set to 0.0 in labels with no predicted samples. Use `zero_division` parameter to control this behavior.\n",
      "  _warn_prf(average, modifier, msg_start, len(result))\n",
      "C:\\ProgramData\\Anaconda3\\envs\\newenvt\\lib\\site-packages\\sklearn\\metrics\\_classification.py:1245: UndefinedMetricWarning: Precision and F-score are ill-defined and being set to 0.0 in labels with no predicted samples. Use `zero_division` parameter to control this behavior.\n",
      "  _warn_prf(average, modifier, msg_start, len(result))\n",
      "C:\\ProgramData\\Anaconda3\\envs\\newenvt\\lib\\site-packages\\sklearn\\metrics\\_classification.py:1245: UndefinedMetricWarning: Precision and F-score are ill-defined and being set to 0.0 in labels with no predicted samples. Use `zero_division` parameter to control this behavior.\n",
      "  _warn_prf(average, modifier, msg_start, len(result))\n",
      "C:\\ProgramData\\Anaconda3\\envs\\newenvt\\lib\\site-packages\\sklearn\\metrics\\_classification.py:1245: UndefinedMetricWarning: Precision and F-score are ill-defined and being set to 0.0 in labels with no predicted samples. Use `zero_division` parameter to control this behavior.\n",
      "  _warn_prf(average, modifier, msg_start, len(result))\n",
      "C:\\ProgramData\\Anaconda3\\envs\\newenvt\\lib\\site-packages\\sklearn\\metrics\\_classification.py:1245: UndefinedMetricWarning: Precision and F-score are ill-defined and being set to 0.0 in labels with no predicted samples. Use `zero_division` parameter to control this behavior.\n",
      "  _warn_prf(average, modifier, msg_start, len(result))\n",
      "C:\\ProgramData\\Anaconda3\\envs\\newenvt\\lib\\site-packages\\sklearn\\metrics\\_classification.py:1245: UndefinedMetricWarning: Precision and F-score are ill-defined and being set to 0.0 in labels with no predicted samples. Use `zero_division` parameter to control this behavior.\n",
      "  _warn_prf(average, modifier, msg_start, len(result))\n"
     ]
    },
    {
     "name": "stdout",
     "output_type": "stream",
     "text": [
      "BRFSS MultiLabel Cancer + Diabetes - Grounded - RUSBoost\n",
      "              precision    recall  f1-score   support\n",
      "\n",
      "           0       0.83      1.00      0.90     10573\n",
      "           1       0.00      0.00      0.00      2222\n",
      "\n",
      "    accuracy                           0.83     12795\n",
      "   macro avg       0.41      0.50      0.45     12795\n",
      "weighted avg       0.68      0.83      0.75     12795\n",
      "\n",
      "Hamming Loss: 0.17366158655724892\n"
     ]
    },
    {
     "name": "stderr",
     "output_type": "stream",
     "text": [
      "C:\\ProgramData\\Anaconda3\\envs\\newenvt\\lib\\site-packages\\sklearn\\metrics\\_classification.py:1245: UndefinedMetricWarning: Precision and F-score are ill-defined and being set to 0.0 in labels with no predicted samples. Use `zero_division` parameter to control this behavior.\n",
      "  _warn_prf(average, modifier, msg_start, len(result))\n",
      "C:\\ProgramData\\Anaconda3\\envs\\newenvt\\lib\\site-packages\\sklearn\\metrics\\_classification.py:1245: UndefinedMetricWarning: Precision and F-score are ill-defined and being set to 0.0 in labels with no predicted samples. Use `zero_division` parameter to control this behavior.\n",
      "  _warn_prf(average, modifier, msg_start, len(result))\n",
      "C:\\ProgramData\\Anaconda3\\envs\\newenvt\\lib\\site-packages\\sklearn\\metrics\\_classification.py:1245: UndefinedMetricWarning: Precision and F-score are ill-defined and being set to 0.0 in labels with no predicted samples. Use `zero_division` parameter to control this behavior.\n",
      "  _warn_prf(average, modifier, msg_start, len(result))\n"
     ]
    },
    {
     "name": "stdout",
     "output_type": "stream",
     "text": [
      "BRFSS MultiLabel Cancer + Diabetes - Grounded - RUSBoost\n",
      "              precision    recall  f1-score   support\n",
      "\n",
      "           0       0.84      1.00      0.91     10693\n",
      "           1       0.00      0.00      0.00      2102\n",
      "\n",
      "    accuracy                           0.84     12795\n",
      "   macro avg       0.42      0.50      0.46     12795\n",
      "weighted avg       0.70      0.84      0.76     12795\n",
      "\n",
      "Hamming Loss: 0.16428292301680344\n"
     ]
    },
    {
     "name": "stderr",
     "output_type": "stream",
     "text": [
      "C:\\ProgramData\\Anaconda3\\envs\\newenvt\\lib\\site-packages\\sklearn\\metrics\\_classification.py:1245: UndefinedMetricWarning: Precision and F-score are ill-defined and being set to 0.0 in labels with no predicted samples. Use `zero_division` parameter to control this behavior.\n",
      "  _warn_prf(average, modifier, msg_start, len(result))\n",
      "C:\\ProgramData\\Anaconda3\\envs\\newenvt\\lib\\site-packages\\sklearn\\metrics\\_classification.py:1245: UndefinedMetricWarning: Precision and F-score are ill-defined and being set to 0.0 in labels with no predicted samples. Use `zero_division` parameter to control this behavior.\n",
      "  _warn_prf(average, modifier, msg_start, len(result))\n",
      "C:\\ProgramData\\Anaconda3\\envs\\newenvt\\lib\\site-packages\\sklearn\\metrics\\_classification.py:1245: UndefinedMetricWarning: Precision and F-score are ill-defined and being set to 0.0 in labels with no predicted samples. Use `zero_division` parameter to control this behavior.\n",
      "  _warn_prf(average, modifier, msg_start, len(result))\n"
     ]
    },
    {
     "name": "stdout",
     "output_type": "stream",
     "text": [
      "BRFSS MultiLabel Cancer + Diabetes - Grounded - RUSBoost\n",
      "              precision    recall  f1-score   support\n",
      "\n",
      "           0       0.85      1.00      0.92     10888\n",
      "           1       0.00      0.00      0.00      1907\n",
      "\n",
      "    accuracy                           0.85     12795\n",
      "   macro avg       0.43      0.50      0.46     12795\n",
      "weighted avg       0.72      0.85      0.78     12795\n",
      "\n",
      "Hamming Loss: 0.14904259476357953\n"
     ]
    },
    {
     "name": "stderr",
     "output_type": "stream",
     "text": [
      "C:\\ProgramData\\Anaconda3\\envs\\newenvt\\lib\\site-packages\\sklearn\\metrics\\_classification.py:1245: UndefinedMetricWarning: Precision and F-score are ill-defined and being set to 0.0 in labels with no predicted samples. Use `zero_division` parameter to control this behavior.\n",
      "  _warn_prf(average, modifier, msg_start, len(result))\n",
      "C:\\ProgramData\\Anaconda3\\envs\\newenvt\\lib\\site-packages\\sklearn\\metrics\\_classification.py:1245: UndefinedMetricWarning: Precision and F-score are ill-defined and being set to 0.0 in labels with no predicted samples. Use `zero_division` parameter to control this behavior.\n",
      "  _warn_prf(average, modifier, msg_start, len(result))\n",
      "C:\\ProgramData\\Anaconda3\\envs\\newenvt\\lib\\site-packages\\sklearn\\metrics\\_classification.py:1245: UndefinedMetricWarning: Precision and F-score are ill-defined and being set to 0.0 in labels with no predicted samples. Use `zero_division` parameter to control this behavior.\n",
      "  _warn_prf(average, modifier, msg_start, len(result))\n"
     ]
    },
    {
     "name": "stdout",
     "output_type": "stream",
     "text": [
      "BRFSS MultiLabel Cancer + Diabetes - Grounded - RUSBoost\n",
      "              precision    recall  f1-score   support\n",
      "\n",
      "           0       0.83      1.00      0.91     10593\n",
      "           1       0.00      0.00      0.00      2201\n",
      "\n",
      "    accuracy                           0.83     12794\n",
      "   macro avg       0.41      0.50      0.45     12794\n",
      "weighted avg       0.69      0.83      0.75     12794\n",
      "\n",
      "Hamming Loss: 0.17203376582773175\n"
     ]
    },
    {
     "name": "stderr",
     "output_type": "stream",
     "text": [
      "C:\\ProgramData\\Anaconda3\\envs\\newenvt\\lib\\site-packages\\sklearn\\metrics\\_classification.py:1245: UndefinedMetricWarning: Precision and F-score are ill-defined and being set to 0.0 in labels with no predicted samples. Use `zero_division` parameter to control this behavior.\n",
      "  _warn_prf(average, modifier, msg_start, len(result))\n",
      "C:\\ProgramData\\Anaconda3\\envs\\newenvt\\lib\\site-packages\\sklearn\\metrics\\_classification.py:1245: UndefinedMetricWarning: Precision and F-score are ill-defined and being set to 0.0 in labels with no predicted samples. Use `zero_division` parameter to control this behavior.\n",
      "  _warn_prf(average, modifier, msg_start, len(result))\n",
      "C:\\ProgramData\\Anaconda3\\envs\\newenvt\\lib\\site-packages\\sklearn\\metrics\\_classification.py:1245: UndefinedMetricWarning: Precision and F-score are ill-defined and being set to 0.0 in labels with no predicted samples. Use `zero_division` parameter to control this behavior.\n",
      "  _warn_prf(average, modifier, msg_start, len(result))\n",
      "C:\\ProgramData\\Anaconda3\\envs\\newenvt\\lib\\site-packages\\sklearn\\multiclass.py:81: UserWarning: Label 0 is present in all training examples.\n",
      "  str(classes[c]))\n"
     ]
    },
    {
     "name": "stdout",
     "output_type": "stream",
     "text": [
      "BRFSS MultiLabel Cancer + Diabetes - Grounded - RUSBoost\n",
      "              precision    recall  f1-score   support\n",
      "\n",
      "           0       0.87      1.00      0.93     11125\n",
      "           1       0.00      0.00      0.00      1669\n",
      "\n",
      "    accuracy                           0.87     12794\n",
      "   macro avg       0.43      0.50      0.47     12794\n",
      "weighted avg       0.76      0.87      0.81     12794\n",
      "\n",
      "Hamming Loss: 0.1304517742691887\n",
      "y_pred shape: \n",
      "(12794, 2)\n",
      "y_pred2 shape:\n",
      "(5,)\n",
      "BRFSS MultiLabel Cancer + Diabetes - Grounded, Knowledge Graph-Based Feature Selection - RUSBoost AGGREGATE\n"
     ]
    },
    {
     "name": "stderr",
     "output_type": "stream",
     "text": [
      "C:\\ProgramData\\Anaconda3\\envs\\newenvt\\lib\\site-packages\\sklearn\\metrics\\_classification.py:1245: UndefinedMetricWarning: Precision and F-score are ill-defined and being set to 0.0 in labels with no predicted samples. Use `zero_division` parameter to control this behavior.\n",
      "  _warn_prf(average, modifier, msg_start, len(result))\n",
      "C:\\ProgramData\\Anaconda3\\envs\\newenvt\\lib\\site-packages\\sklearn\\metrics\\_classification.py:1245: UndefinedMetricWarning: Precision and F-score are ill-defined and being set to 0.0 in labels with no predicted samples. Use `zero_division` parameter to control this behavior.\n",
      "  _warn_prf(average, modifier, msg_start, len(result))\n",
      "C:\\ProgramData\\Anaconda3\\envs\\newenvt\\lib\\site-packages\\sklearn\\metrics\\_classification.py:1245: UndefinedMetricWarning: Precision and F-score are ill-defined and being set to 0.0 in labels with no predicted samples. Use `zero_division` parameter to control this behavior.\n",
      "  _warn_prf(average, modifier, msg_start, len(result))\n",
      "C:\\ProgramData\\Anaconda3\\envs\\newenvt\\lib\\site-packages\\sklearn\\metrics\\_classification.py:1245: UndefinedMetricWarning: Precision and F-score are ill-defined and being set to 0.0 in labels with no predicted samples. Use `zero_division` parameter to control this behavior.\n",
      "  _warn_prf(average, modifier, msg_start, len(result))\n",
      "C:\\ProgramData\\Anaconda3\\envs\\newenvt\\lib\\site-packages\\sklearn\\metrics\\_classification.py:1245: UndefinedMetricWarning: Precision and F-score are ill-defined and being set to 0.0 in labels with no predicted samples. Use `zero_division` parameter to control this behavior.\n",
      "  _warn_prf(average, modifier, msg_start, len(result))\n",
      "C:\\ProgramData\\Anaconda3\\envs\\newenvt\\lib\\site-packages\\sklearn\\metrics\\_classification.py:1245: UndefinedMetricWarning: Precision and F-score are ill-defined and being set to 0.0 in labels with no predicted samples. Use `zero_division` parameter to control this behavior.\n",
      "  _warn_prf(average, modifier, msg_start, len(result))\n"
     ]
    },
    {
     "name": "stdout",
     "output_type": "stream",
     "text": [
      "              precision    recall  f1-score   support\n",
      "\n",
      "           0       0.84      1.00      0.91     53872\n",
      "           1       0.00      0.00      0.00     10101\n",
      "\n",
      "    accuracy                           0.84     63973\n",
      "   macro avg       0.42      0.50      0.46     63973\n",
      "weighted avg       0.71      0.84      0.77     63973\n",
      "\n",
      "Hamming Loss: 0.15789452888691047\n",
      "BRFSS MultiLabel Cancer + Diabetes - Grounded - AdaBoost\n",
      "              precision    recall  f1-score   support\n",
      "\n",
      "           0       0.83      1.00      0.90     10573\n",
      "           1       0.00      0.00      0.00      2222\n",
      "\n",
      "    accuracy                           0.83     12795\n",
      "   macro avg       0.41      0.50      0.45     12795\n",
      "weighted avg       0.68      0.83      0.75     12795\n",
      "\n",
      "Hamming Loss: 0.17366158655724892\n"
     ]
    },
    {
     "name": "stderr",
     "output_type": "stream",
     "text": [
      "C:\\ProgramData\\Anaconda3\\envs\\newenvt\\lib\\site-packages\\sklearn\\metrics\\_classification.py:1245: UndefinedMetricWarning: Precision and F-score are ill-defined and being set to 0.0 in labels with no predicted samples. Use `zero_division` parameter to control this behavior.\n",
      "  _warn_prf(average, modifier, msg_start, len(result))\n",
      "C:\\ProgramData\\Anaconda3\\envs\\newenvt\\lib\\site-packages\\sklearn\\metrics\\_classification.py:1245: UndefinedMetricWarning: Precision and F-score are ill-defined and being set to 0.0 in labels with no predicted samples. Use `zero_division` parameter to control this behavior.\n",
      "  _warn_prf(average, modifier, msg_start, len(result))\n",
      "C:\\ProgramData\\Anaconda3\\envs\\newenvt\\lib\\site-packages\\sklearn\\metrics\\_classification.py:1245: UndefinedMetricWarning: Precision and F-score are ill-defined and being set to 0.0 in labels with no predicted samples. Use `zero_division` parameter to control this behavior.\n",
      "  _warn_prf(average, modifier, msg_start, len(result))\n"
     ]
    },
    {
     "name": "stdout",
     "output_type": "stream",
     "text": [
      "BRFSS MultiLabel Cancer + Diabetes - Grounded - AdaBoost\n",
      "              precision    recall  f1-score   support\n",
      "\n",
      "           0       0.84      1.00      0.91     10693\n",
      "           1       0.00      0.00      0.00      2102\n",
      "\n",
      "    accuracy                           0.84     12795\n",
      "   macro avg       0.42      0.50      0.46     12795\n",
      "weighted avg       0.70      0.84      0.76     12795\n",
      "\n",
      "Hamming Loss: 0.16428292301680344\n"
     ]
    },
    {
     "name": "stderr",
     "output_type": "stream",
     "text": [
      "C:\\ProgramData\\Anaconda3\\envs\\newenvt\\lib\\site-packages\\sklearn\\metrics\\_classification.py:1245: UndefinedMetricWarning: Precision and F-score are ill-defined and being set to 0.0 in labels with no predicted samples. Use `zero_division` parameter to control this behavior.\n",
      "  _warn_prf(average, modifier, msg_start, len(result))\n",
      "C:\\ProgramData\\Anaconda3\\envs\\newenvt\\lib\\site-packages\\sklearn\\metrics\\_classification.py:1245: UndefinedMetricWarning: Precision and F-score are ill-defined and being set to 0.0 in labels with no predicted samples. Use `zero_division` parameter to control this behavior.\n",
      "  _warn_prf(average, modifier, msg_start, len(result))\n",
      "C:\\ProgramData\\Anaconda3\\envs\\newenvt\\lib\\site-packages\\sklearn\\metrics\\_classification.py:1245: UndefinedMetricWarning: Precision and F-score are ill-defined and being set to 0.0 in labels with no predicted samples. Use `zero_division` parameter to control this behavior.\n",
      "  _warn_prf(average, modifier, msg_start, len(result))\n"
     ]
    },
    {
     "name": "stdout",
     "output_type": "stream",
     "text": [
      "BRFSS MultiLabel Cancer + Diabetes - Grounded - AdaBoost\n",
      "              precision    recall  f1-score   support\n",
      "\n",
      "           0       0.85      1.00      0.92     10888\n",
      "           1       0.00      0.00      0.00      1907\n",
      "\n",
      "    accuracy                           0.85     12795\n",
      "   macro avg       0.43      0.50      0.46     12795\n",
      "weighted avg       0.72      0.85      0.78     12795\n",
      "\n",
      "Hamming Loss: 0.14904259476357953\n"
     ]
    },
    {
     "name": "stderr",
     "output_type": "stream",
     "text": [
      "C:\\ProgramData\\Anaconda3\\envs\\newenvt\\lib\\site-packages\\sklearn\\metrics\\_classification.py:1245: UndefinedMetricWarning: Precision and F-score are ill-defined and being set to 0.0 in labels with no predicted samples. Use `zero_division` parameter to control this behavior.\n",
      "  _warn_prf(average, modifier, msg_start, len(result))\n",
      "C:\\ProgramData\\Anaconda3\\envs\\newenvt\\lib\\site-packages\\sklearn\\metrics\\_classification.py:1245: UndefinedMetricWarning: Precision and F-score are ill-defined and being set to 0.0 in labels with no predicted samples. Use `zero_division` parameter to control this behavior.\n",
      "  _warn_prf(average, modifier, msg_start, len(result))\n",
      "C:\\ProgramData\\Anaconda3\\envs\\newenvt\\lib\\site-packages\\sklearn\\metrics\\_classification.py:1245: UndefinedMetricWarning: Precision and F-score are ill-defined and being set to 0.0 in labels with no predicted samples. Use `zero_division` parameter to control this behavior.\n",
      "  _warn_prf(average, modifier, msg_start, len(result))\n"
     ]
    },
    {
     "name": "stdout",
     "output_type": "stream",
     "text": [
      "BRFSS MultiLabel Cancer + Diabetes - Grounded - AdaBoost\n",
      "              precision    recall  f1-score   support\n",
      "\n",
      "           0       0.83      1.00      0.91     10593\n",
      "           1       0.00      0.00      0.00      2201\n",
      "\n",
      "    accuracy                           0.83     12794\n",
      "   macro avg       0.41      0.50      0.45     12794\n",
      "weighted avg       0.69      0.83      0.75     12794\n",
      "\n",
      "Hamming Loss: 0.17203376582773175\n"
     ]
    },
    {
     "name": "stderr",
     "output_type": "stream",
     "text": [
      "C:\\ProgramData\\Anaconda3\\envs\\newenvt\\lib\\site-packages\\sklearn\\metrics\\_classification.py:1245: UndefinedMetricWarning: Precision and F-score are ill-defined and being set to 0.0 in labels with no predicted samples. Use `zero_division` parameter to control this behavior.\n",
      "  _warn_prf(average, modifier, msg_start, len(result))\n",
      "C:\\ProgramData\\Anaconda3\\envs\\newenvt\\lib\\site-packages\\sklearn\\metrics\\_classification.py:1245: UndefinedMetricWarning: Precision and F-score are ill-defined and being set to 0.0 in labels with no predicted samples. Use `zero_division` parameter to control this behavior.\n",
      "  _warn_prf(average, modifier, msg_start, len(result))\n",
      "C:\\ProgramData\\Anaconda3\\envs\\newenvt\\lib\\site-packages\\sklearn\\metrics\\_classification.py:1245: UndefinedMetricWarning: Precision and F-score are ill-defined and being set to 0.0 in labels with no predicted samples. Use `zero_division` parameter to control this behavior.\n",
      "  _warn_prf(average, modifier, msg_start, len(result))\n",
      "C:\\ProgramData\\Anaconda3\\envs\\newenvt\\lib\\site-packages\\sklearn\\multiclass.py:81: UserWarning: Label 0 is present in all training examples.\n",
      "  str(classes[c]))\n"
     ]
    },
    {
     "name": "stdout",
     "output_type": "stream",
     "text": [
      "BRFSS MultiLabel Cancer + Diabetes - Grounded - AdaBoost\n",
      "              precision    recall  f1-score   support\n",
      "\n",
      "           0       0.87      1.00      0.93     11125\n",
      "           1       0.00      0.00      0.00      1669\n",
      "\n",
      "    accuracy                           0.87     12794\n",
      "   macro avg       0.43      0.50      0.47     12794\n",
      "weighted avg       0.76      0.87      0.81     12794\n",
      "\n",
      "Hamming Loss: 0.1304517742691887\n",
      "y_pred shape: \n",
      "(12794, 2)\n",
      "y_pred2 shape:\n",
      "(5,)\n",
      "BRFSS MultiLabel Cancer + Diabetes - Grounded, Knowledge Graph-Based Feature Selection - ADABoost AGGREGATE\n"
     ]
    },
    {
     "name": "stderr",
     "output_type": "stream",
     "text": [
      "C:\\ProgramData\\Anaconda3\\envs\\newenvt\\lib\\site-packages\\sklearn\\metrics\\_classification.py:1245: UndefinedMetricWarning: Precision and F-score are ill-defined and being set to 0.0 in labels with no predicted samples. Use `zero_division` parameter to control this behavior.\n",
      "  _warn_prf(average, modifier, msg_start, len(result))\n",
      "C:\\ProgramData\\Anaconda3\\envs\\newenvt\\lib\\site-packages\\sklearn\\metrics\\_classification.py:1245: UndefinedMetricWarning: Precision and F-score are ill-defined and being set to 0.0 in labels with no predicted samples. Use `zero_division` parameter to control this behavior.\n",
      "  _warn_prf(average, modifier, msg_start, len(result))\n",
      "C:\\ProgramData\\Anaconda3\\envs\\newenvt\\lib\\site-packages\\sklearn\\metrics\\_classification.py:1245: UndefinedMetricWarning: Precision and F-score are ill-defined and being set to 0.0 in labels with no predicted samples. Use `zero_division` parameter to control this behavior.\n",
      "  _warn_prf(average, modifier, msg_start, len(result))\n",
      "C:\\ProgramData\\Anaconda3\\envs\\newenvt\\lib\\site-packages\\sklearn\\metrics\\_classification.py:1245: UndefinedMetricWarning: Precision and F-score are ill-defined and being set to 0.0 in labels with no predicted samples. Use `zero_division` parameter to control this behavior.\n",
      "  _warn_prf(average, modifier, msg_start, len(result))\n"
     ]
    },
    {
     "name": "stdout",
     "output_type": "stream",
     "text": [
      "              precision    recall  f1-score   support\n",
      "\n",
      "           0       0.84      1.00      0.91     53872\n",
      "           1       0.00      0.00      0.00     10101\n",
      "\n",
      "    accuracy                           0.84     63973\n",
      "   macro avg       0.42      0.50      0.46     63973\n",
      "weighted avg       0.71      0.84      0.77     63973\n",
      "\n",
      "Hamming Loss: 0.15789452888691047\n"
     ]
    },
    {
     "name": "stderr",
     "output_type": "stream",
     "text": [
      "C:\\ProgramData\\Anaconda3\\envs\\newenvt\\lib\\site-packages\\sklearn\\metrics\\_classification.py:1245: UndefinedMetricWarning: Precision and F-score are ill-defined and being set to 0.0 in labels with no predicted samples. Use `zero_division` parameter to control this behavior.\n",
      "  _warn_prf(average, modifier, msg_start, len(result))\n",
      "C:\\ProgramData\\Anaconda3\\envs\\newenvt\\lib\\site-packages\\sklearn\\metrics\\_classification.py:1245: UndefinedMetricWarning: Precision and F-score are ill-defined and being set to 0.0 in labels with no predicted samples. Use `zero_division` parameter to control this behavior.\n",
      "  _warn_prf(average, modifier, msg_start, len(result))\n"
     ]
    }
   ],
   "source": [
    "from sklearn.datasets import make_multilabel_classification\n",
    "from sklearn.preprocessing import MultiLabelBinarizer\n",
    "from sklearn.multiclass import OneVsRestClassifier\n",
    "from sklearn.svm import SVC\n",
    "from sklearn.linear_model import LogisticRegression\n",
    "from sklearn.naive_bayes import MultinomialNB\n",
    "from sklearn.discriminant_analysis import LinearDiscriminantAnalysis\n",
    "from sklearn.ensemble import RandomForestClassifier\n",
    "from sklearn.neighbors import KNeighborsClassifier\n",
    "from sklearn.neural_network import MLPClassifier\n",
    "from sklearn.neural_network import MLPRegressor\n",
    "from imblearn.ensemble import RUSBoostClassifier\n",
    "from sklearn.ensemble import AdaBoostClassifier\n",
    "from sklearn.metrics import accuracy_score\n",
    "from sklearn.metrics import precision_score\n",
    "from sklearn.metrics import recall_score\n",
    "from sklearn.metrics import f1_score\n",
    "from sklearn.metrics import hamming_loss\n",
    "from sklearn.model_selection import KFold\n",
    "from sklearn.metrics import classification_report\n",
    "import numpy as np\n",
    "\n",
    "\n",
    "X = np.array(BRFSS_Grounded_X)\n",
    "y = BRFSS_Grounded[['CNCRTYP1', 'DIABETE4']].to_numpy()\n",
    "\n",
    "n_split=5\n",
    "\n",
    "y_pred2, pred2, y_test2, hl2 = list(),list(),list(),list()\n",
    "\n",
    "for train_index, test_index in KFold(n_split).split(X):\n",
    "  X_train, X_test = X[train_index], X[test_index]\n",
    "  y_train, y_test = y[train_index], y[test_index]\n",
    "\n",
    "  mlb = MultiLabelBinarizer()\n",
    "  labels = mlb.fit_transform(y_train)\n",
    "\n",
    "  mlb = MultiLabelBinarizer()\n",
    "  mlb.fit(labels)\n",
    "\n",
    "  model = LogisticRegression(C=1.0, penalty='l1', dual=False, solver='liblinear')\n",
    "  model = OneVsRestClassifier(model)    \n",
    "  clf = model.fit(X_train, mlb.transform(y_train))\n",
    "\n",
    "  y_pred = clf.predict(X_test)  \n",
    "  pred = np.argmax(y_pred, axis=1)\n",
    "  y_test = np.argmax(y_test, axis=1)\n",
    "\n",
    "  print(\"BRFSS MultiLabel Cancer + Diabetes - Grounded, Knowledge Graph-Based Feature Selection - Logistic Regression\")\n",
    "  #print(classification_report(y_test, pred, labels=[1, 2, 3]))\n",
    "  print(classification_report(y_test, pred))\n",
    "\n",
    "  hl=hamming_loss(y_test,pred)\n",
    "  print(\"Hamming Loss: \" + str(hl))\n",
    "    \n",
    "  y_pred2.append(y_pred)\n",
    "  pred2.append(pred)\n",
    "  y_test2.append(y_test)\n",
    "  hl2.append(hl)\n",
    "    \n",
    "print(\"y_pred shape: \")\n",
    "print(np.shape(y_pred))\n",
    "\n",
    "print(\"y_pred2 shape:\")\n",
    "print(np.shape(y_pred2))\n",
    "\n",
    "y_pred3 = np.concatenate((y_pred2[0], y_pred2[1], y_pred2[2], y_pred2[3], y_pred2[4]), axis=None)\n",
    "pred3 = np.concatenate((pred2[0], pred2[1], pred2[2], pred2[3], pred2[4]), axis=None)\n",
    "y_test3 = np.concatenate((y_test2[0], y_test2[1], y_test2[2], y_test2[3], y_test2[4]), axis=None)\n",
    "hl3 = np.concatenate((hl2[0], hl2[1], hl2[2], hl2[3], hl2[4]), axis=None)\n",
    "\n",
    "print(\"BRFSS MultiLabel Cancer + Diabetes - Grounded, Knowledge Graph-Based Feature Selection - Logistic Regression AGGREGATE\")\n",
    "#print(classification_report(y_test, pred, labels=[1, 2, 3]))\n",
    "print(classification_report(y_test3, pred3))\n",
    "hl3_avg = sum(hl3) / len(hl3)\n",
    "print(\"Hamming Loss: \" + str(hl3_avg))\n",
    "\n",
    "X = np.array(BRFSS_Grounded_X)\n",
    "y = BRFSS_Grounded[['CNCRTYP1', 'DIABETE4']].to_numpy()\n",
    "\n",
    "n_split=5\n",
    "\n",
    "y_pred2, pred2, y_test2, hl2 = list(),list(),list(),list()\n",
    "\n",
    "for train_index, test_index in KFold(n_split).split(X):\n",
    "  X_train, X_test = X[train_index], X[test_index]\n",
    "  y_train, y_test = y[train_index], y[test_index]\n",
    "\n",
    "  mlb = MultiLabelBinarizer()\n",
    "  labels = mlb.fit_transform(y_train)\n",
    "\n",
    "  mlb = MultiLabelBinarizer()\n",
    "  mlb.fit(labels)\n",
    "\n",
    "  model = MultinomialNB()\n",
    "  model = OneVsRestClassifier(MultinomialNB())   \n",
    "  clf = model.fit(X_train, mlb.transform(y_train))\n",
    "\n",
    "  y_pred = clf.predict(X_test)  \n",
    "  pred = np.argmax(y_pred, axis=1)\n",
    "  y_test = np.argmax(y_test, axis=1)\n",
    "\n",
    "  print(\"BRFSS MultiLabel Cancer + Diabetes - Grounded, Knowledge Graph-Based Feature Selection - MultinomialNB\")\n",
    "  #print(classification_report(y_test, pred, labels=[1, 2, 3]))\n",
    "  print(classification_report(y_test, pred))\n",
    "\n",
    "  hl=hamming_loss(y_test,pred)\n",
    "  print(\"Hamming Loss: \" + str(hl))\n",
    "   \n",
    "  y_pred2.append(y_pred)\n",
    "  pred2.append(pred)\n",
    "  y_test2.append(y_test)\n",
    "  hl2.append(hl)\n",
    "    \n",
    "y_pred3 = np.concatenate((y_pred2[0], y_pred2[1], y_pred2[2], y_pred2[3], y_pred2[4]), axis=None)\n",
    "pred3 = np.concatenate((pred2[0], pred2[1], pred2[2], pred2[3], pred2[4]), axis=None)\n",
    "y_test3 = np.concatenate((y_test2[0], y_test2[1], y_test2[2], y_test2[3], y_test2[4]), axis=None)\n",
    "hl3 = np.concatenate((hl2[0], hl2[1], hl2[2], hl2[3], hl2[4]), axis=None)\n",
    "\n",
    "print(\"BRFSS MultiLabel Cancer + Diabetes - Grounded, Knowledge Graph-Based Feature Selection - MultinomialNB AGGREGATE\")\n",
    "#print(classification_report(y_test, pred, labels=[1, 2, 3]))\n",
    "print(classification_report(y_test3, pred3))\n",
    "hl3_avg = sum(hl3) / len(hl3)\n",
    "print(\"Hamming Loss: \" + str(hl3_avg))\n",
    "\n",
    "X = np.array(BRFSS_Grounded_X)\n",
    "y = BRFSS_Grounded[['CNCRTYP1', 'DIABETE4']].to_numpy()\n",
    "\n",
    "n_split=5\n",
    "\n",
    "y_pred2, pred2, y_test2, hl2 = list(),list(),list(),list()\n",
    "\n",
    "for train_index, test_index in KFold(n_split).split(X):\n",
    "  X_train, X_test = X[train_index], X[test_index]\n",
    "  y_train, y_test = y[train_index], y[test_index]\n",
    "\n",
    "  mlb = MultiLabelBinarizer()\n",
    "  labels = mlb.fit_transform(y_train)\n",
    "\n",
    "  mlb = MultiLabelBinarizer()\n",
    "  mlb.fit(labels)\n",
    "\n",
    "  model = OneVsRestClassifier(LinearDiscriminantAnalysis(n_components=None, priors=None, shrinkage=None,\n",
    "              solver='svd', store_covariance=False, tol=0.0001))   \n",
    "  clf = model.fit(X_train, mlb.transform(y_train))\n",
    "\n",
    "  y_pred = clf.predict(X_test)  \n",
    "  pred = np.argmax(y_pred, axis=1)\n",
    "  y_test = np.argmax(y_test, axis=1)\n",
    "\n",
    "  print(\"BRFSS MultiLabel Cancer + Diabetes - Grounded, Knowledge Graph-Based Feature Selection - Linear DA\")\n",
    "  #print(classification_report(y_test, pred, labels=[1, 2, 3]))\n",
    "  print(classification_report(y_test, pred))\n",
    "\n",
    "  hl=hamming_loss(y_test,pred)\n",
    "  print(\"Hamming Loss: \" + str(hl))\n",
    "    \n",
    "  y_pred2.append(y_pred)\n",
    "  pred2.append(pred)\n",
    "  y_test2.append(y_test)\n",
    "  hl2.append(hl)\n",
    "    \n",
    "y_pred3 = np.concatenate((y_pred2[0], y_pred2[1], y_pred2[2], y_pred2[3], y_pred2[4]), axis=None)\n",
    "pred3 = np.concatenate((pred2[0], pred2[1], pred2[2], pred2[3], pred2[4]), axis=None)\n",
    "y_test3 = np.concatenate((y_test2[0], y_test2[1], y_test2[2], y_test2[3], y_test2[4]), axis=None)\n",
    "hl3 = np.concatenate((hl2[0], hl2[1], hl2[2], hl2[3], hl2[4]), axis=None)\n",
    "\n",
    "print(\"BRFSS MultiLabel Cancer + Diabetes - Grounded, Knowledge Graph-Based Feature Selection - Linear DA AGGREGATE\")\n",
    "#print(classification_report(y_test, pred, labels=[1, 2, 3]))\n",
    "print(classification_report(y_test3, pred3))\n",
    "hl3_avg = sum(hl3) / len(hl3)\n",
    "print(\"Hamming Loss: \" + str(hl3_avg))\n",
    "    \n",
    "X = np.array(BRFSS_Grounded_X)\n",
    "y = BRFSS_Grounded[['CNCRTYP1', 'DIABETE4']].to_numpy()\n",
    "\n",
    "n_split=5\n",
    "\n",
    "y_pred2, pred2, y_test2, hl2 = list(),list(),list(),list()\n",
    "\n",
    "for train_index, test_index in KFold(n_split).split(X):\n",
    "  X_train, X_test = X[train_index], X[test_index]\n",
    "  y_train, y_test = y[train_index], y[test_index]\n",
    "\n",
    "  mlb = MultiLabelBinarizer()\n",
    "  labels = mlb.fit_transform(y_train)\n",
    "\n",
    "  mlb = MultiLabelBinarizer()\n",
    "  mlb.fit(labels)\n",
    "\n",
    "  model = OneVsRestClassifier(RandomForestClassifier(max_depth=100, random_state=0))   \n",
    "  clf = model.fit(X_train, mlb.transform(y_train))\n",
    "\n",
    "  y_pred = clf.predict(X_test)  \n",
    "  pred = np.argmax(y_pred, axis=1)\n",
    "  y_test = np.argmax(y_test, axis=1)\n",
    "\n",
    "  print(\"BRFSS MultiLabel Cancer + Diabetes - Grounded, Knowledge Graph-Based Feature Selection - Random Forest\")\n",
    "  #print(classification_report(y_test, pred, labels=[1, 2, 3]))\n",
    "  print(classification_report(y_test, pred))\n",
    "\n",
    "  hl=hamming_loss(y_test,pred)\n",
    "  print(\"Hamming Loss: \" + str(hl))\n",
    "    \n",
    "  y_pred2.append(y_pred)\n",
    "  pred2.append(pred)\n",
    "  y_test2.append(y_test)\n",
    "  hl2.append(hl)\n",
    "    \n",
    "y_pred3 = np.concatenate((y_pred2[0], y_pred2[1], y_pred2[2], y_pred2[3], y_pred2[4]), axis=None)\n",
    "pred3 = np.concatenate((pred2[0], pred2[1], pred2[2], pred2[3], pred2[4]), axis=None)\n",
    "y_test3 = np.concatenate((y_test2[0], y_test2[1], y_test2[2], y_test2[3], y_test2[4]), axis=None)\n",
    "hl3 = np.concatenate((hl2[0], hl2[1], hl2[2], hl2[3], hl2[4]), axis=None)\n",
    "\n",
    "print(\"BRFSS MultiLabel Cancer + Diabetes - Grounded, Knowledge Graph-Based Feature Selection - Random Forest AGGREGATE\")\n",
    "#print(classification_report(y_test, pred, labels=[1, 2, 3]))\n",
    "print(classification_report(y_test3, pred3))\n",
    "hl3_avg = sum(hl3) / len(hl3)\n",
    "print(\"Hamming Loss: \" + str(hl3_avg))\n",
    "    \n",
    "X = np.array(BRFSS_Grounded_X)\n",
    "y = BRFSS_Grounded[['CNCRTYP1', 'DIABETE4']].to_numpy()\n",
    "\n",
    "n_split=5\n",
    "\n",
    "y_pred2, pred2, y_test2, hl2 = list(),list(),list(),list()\n",
    "\n",
    "for train_index, test_index in KFold(n_split).split(X):\n",
    "  X_train, X_test = X[train_index], X[test_index]\n",
    "  y_train, y_test = y[train_index], y[test_index]\n",
    "\n",
    "  mlb = MultiLabelBinarizer()\n",
    "  labels = mlb.fit_transform(y_train)\n",
    "\n",
    "  mlb = MultiLabelBinarizer()\n",
    "  mlb.fit(labels)\n",
    "\n",
    "  model = OneVsRestClassifier(KNeighborsClassifier(n_neighbors=5))   \n",
    "  clf = model.fit(X_train, mlb.transform(y_train))\n",
    "\n",
    "  y_pred = clf.predict(X_test)  \n",
    "  pred = np.argmax(y_pred, axis=1)\n",
    "  y_test = np.argmax(y_test, axis=1)\n",
    "\n",
    "  print(\"BRFSS MultiLabel Cancer + Diabetes - Grounded, Knowledge Graph-Based Feature Selection - KNN\")\n",
    "  #print(classification_report(y_test, pred, labels=[1, 2, 3]))\n",
    "  print(classification_report(y_test, pred))\n",
    "\n",
    "  hl=hamming_loss(y_test,pred)\n",
    "  print(\"Hamming Loss: \" + str(hl))\n",
    "    \n",
    "  y_pred2.append(y_pred)\n",
    "  pred2.append(pred)\n",
    "  y_test2.append(y_test)\n",
    "  hl2.append(hl)\n",
    "    \n",
    "y_pred3 = np.concatenate((y_pred2[0], y_pred2[1], y_pred2[2], y_pred2[3], y_pred2[4]), axis=None)\n",
    "pred3 = np.concatenate((pred2[0], pred2[1], pred2[2], pred2[3], pred2[4]), axis=None)\n",
    "y_test3 = np.concatenate((y_test2[0], y_test2[1], y_test2[2], y_test2[3], y_test2[4]), axis=None)\n",
    "hl3 = np.concatenate((hl2[0], hl2[1], hl2[2], hl2[3], hl2[4]), axis=None)\n",
    "\n",
    "print(\"BRFSS MultiLabel Cancer + Diabetes - Grounded, Knowledge Graph-Based Feature Selection - KNN AGGREGATE\")\n",
    "#print(classification_report(y_test, pred, labels=[1, 2, 3]))\n",
    "print(classification_report(y_test3, pred3))\n",
    "hl3_avg = sum(hl3) / len(hl3)\n",
    "print(\"Hamming Loss: \" + str(hl3_avg))\n",
    "\n",
    "a = []\n",
    "b = []\n",
    "X = np.array(BRFSS_Grounded_X)\n",
    "y = BRFSS_Grounded[['CNCRTYP1', 'DIABETE4']].to_numpy()\n",
    "\n",
    "n_split=5\n",
    "\n",
    "y_pred2, pred2, y_test2, hl2 = list(),list(),list(),list()\n",
    "\n",
    "for train_index, test_index in KFold(n_split).split(X):\n",
    "  X_train, X_test = X[train_index], X[test_index]\n",
    "  y_train, y_test = y[train_index], y[test_index]\n",
    "\n",
    "  mlb = MultiLabelBinarizer()\n",
    "  labels = mlb.fit_transform(y_train)\n",
    "\n",
    "  mlb = MultiLabelBinarizer()\n",
    "  mlb.fit(labels)\n",
    "\n",
    "  model = OneVsRestClassifier(SVC())   \n",
    "  clf = model.fit(X_train, mlb.transform(y_train))\n",
    "\n",
    "  y_pred = clf.predict(X_test)  \n",
    "  pred = np.argmax(y_pred, axis=1)\n",
    "  y_test = np.argmax(y_test, axis=1)\n",
    "\n",
    "  print(\"BRFSS MultiLabel Cancer + Diabetes - Grounded - SVM\")\n",
    "  #print(classification_report(y_test, pred, labels=[1, 2, 3]))\n",
    "  print(classification_report(y_test, pred))\n",
    "\n",
    "  hl=hamming_loss(y_test,pred)\n",
    "  print(\"Hamming Loss: \" + str(hl))  \n",
    "    \n",
    "  y_pred2.append(y_pred)\n",
    "  pred2.append(pred)\n",
    "  y_test2.append(y_test)\n",
    "  hl2.append(hl)\n",
    "    \n",
    "y_pred3 = np.concatenate((y_pred2[0], y_pred2[1], y_pred2[2], y_pred2[3], y_pred2[4]), axis=None)\n",
    "pred3 = np.concatenate((pred2[0], pred2[1], pred2[2], pred2[3], pred2[4]), axis=None)\n",
    "y_test3 = np.concatenate((y_test2[0], y_test2[1], y_test2[2], y_test2[3], y_test2[4]), axis=None)\n",
    "hl3 = np.concatenate((hl2[0], hl2[1], hl2[2], hl2[3], hl2[4]), axis=None)\n",
    "\n",
    "print(\"BRFSS MultiLabel Cancer + Diabetes - Grounded, Knowledge Graph-Based Feature Selection - SVM AGGREGATE\")\n",
    "#print(classification_report(y_test, pred, labels=[1, 2, 3]))\n",
    "print(classification_report(y_test3, pred3))\n",
    "hl3_avg = sum(hl3) / len(hl3)\n",
    "print(\"Hamming Loss: \" + str(hl3_avg))\n",
    "\n",
    "X = np.array(BRFSS_Grounded_X)\n",
    "y = BRFSS_Grounded[['CNCRTYP1', 'DIABETE4']].to_numpy()\n",
    "\n",
    "n_split=5\n",
    "\n",
    "y_pred2, pred2, y_test2, hl2 = list(),list(),list(),list()\n",
    "\n",
    "for train_index, test_index in KFold(n_split).split(X):\n",
    "  X_train, X_test = X[train_index], X[test_index]\n",
    "  y_train, y_test = y[train_index], y[test_index]\n",
    "\n",
    "  mlb = MultiLabelBinarizer()\n",
    "  labels = mlb.fit_transform(y_train)\n",
    "\n",
    "  mlb = MultiLabelBinarizer()\n",
    "  mlb.fit(labels)\n",
    "\n",
    "  #model = MultinomialNB()\n",
    "  model = OneVsRestClassifier(RUSBoostClassifier(random_state=0))   \n",
    "  clf = model.fit(X_train, mlb.transform(y_train))\n",
    "\n",
    "  y_pred = clf.predict(X_test)  \n",
    "  pred = np.argmax(y_pred, axis=1)\n",
    "  y_test = np.argmax(y_test, axis=1)\n",
    "\n",
    "  print(\"BRFSS MultiLabel Cancer + Diabetes - Grounded - RUSBoost\")\n",
    "  #print(classification_report(y_test, pred, labels=[1, 2, 3]))\n",
    "  print(classification_report(y_test, pred))\n",
    "\n",
    "  hl=hamming_loss(y_test,pred)\n",
    "  print(\"Hamming Loss: \" + str(hl))\n",
    "   \n",
    "  y_pred2.append(y_pred)\n",
    "  pred2.append(pred)\n",
    "  y_test2.append(y_test)\n",
    "  hl2.append(hl)\n",
    "    \n",
    "print(\"y_pred shape: \")\n",
    "print(np.shape(y_pred))\n",
    "\n",
    "print(\"y_pred2 shape:\")\n",
    "print(np.shape(y_pred2))\n",
    "\n",
    "y_pred3 = np.concatenate((y_pred2[0], y_pred2[1], y_pred2[2], y_pred2[3], y_pred2[4]), axis=None)\n",
    "pred3 = np.concatenate((pred2[0], pred2[1], pred2[2], pred2[3], pred2[4]), axis=None)\n",
    "y_test3 = np.concatenate((y_test2[0], y_test2[1], y_test2[2], y_test2[3], y_test2[4]), axis=None)\n",
    "hl3 = np.concatenate((hl2[0], hl2[1], hl2[2], hl2[3], hl2[4]), axis=None)\n",
    "\n",
    "print(\"BRFSS MultiLabel Cancer + Diabetes - Grounded, Knowledge Graph-Based Feature Selection - RUSBoost AGGREGATE\")\n",
    "#print(classification_report(y_test, pred, labels=[1, 2, 3]))\n",
    "print(classification_report(y_test3, pred3))\n",
    "hl3_avg = sum(hl3) / len(hl3)\n",
    "print(\"Hamming Loss: \" + str(hl3_avg))\n",
    "\n",
    "X = np.array(BRFSS_Grounded_X)\n",
    "y = BRFSS_Grounded[['CNCRTYP1', 'DIABETE4']].to_numpy()\n",
    "\n",
    "n_split=5\n",
    "\n",
    "y_pred2, pred2, y_test2, hl2 = list(),list(),list(),list()\n",
    "\n",
    "for train_index, test_index in KFold(n_split).split(X):\n",
    "  X_train, X_test = X[train_index], X[test_index]\n",
    "  y_train, y_test = y[train_index], y[test_index]\n",
    "\n",
    "  mlb = MultiLabelBinarizer()\n",
    "  labels = mlb.fit_transform(y_train)\n",
    "\n",
    "  mlb = MultiLabelBinarizer()\n",
    "  mlb.fit(labels)\n",
    "\n",
    "  #model = OneVsRestClassifier(AdaBoostClassifier(n_estimators=50,learning_rate=1))   \n",
    "  \n",
    "  model = OneVsRestClassifier(AdaBoostClassifier(n_estimators=200,learning_rate=1))   \n",
    "  clf = model.fit(X_train, mlb.transform(y_train))\n",
    "\n",
    "  y_pred = clf.predict(X_test)  \n",
    "  pred = np.argmax(y_pred, axis=1)\n",
    "  y_test = np.argmax(y_test, axis=1)\n",
    "\n",
    "  print(\"BRFSS MultiLabel Cancer + Diabetes - Grounded - AdaBoost\")\n",
    "  #print(classification_report(y_test, pred, labels=[1, 2, 3]))\n",
    "  print(classification_report(y_test, pred))\n",
    "\n",
    "  hl=hamming_loss(y_test,pred)\n",
    "  print(\"Hamming Loss: \" + str(hl))\n",
    "   \n",
    "  y_pred2.append(y_pred)\n",
    "  pred2.append(pred)\n",
    "  y_test2.append(y_test)\n",
    "  hl2.append(hl)\n",
    "    \n",
    "print(\"y_pred shape: \")\n",
    "print(np.shape(y_pred))\n",
    "\n",
    "print(\"y_pred2 shape:\")\n",
    "print(np.shape(y_pred2))\n",
    "\n",
    "y_pred3 = np.concatenate((y_pred2[0], y_pred2[1], y_pred2[2], y_pred2[3], y_pred2[4]), axis=None)\n",
    "pred3 = np.concatenate((pred2[0], pred2[1], pred2[2], pred2[3], pred2[4]), axis=None)\n",
    "y_test3 = np.concatenate((y_test2[0], y_test2[1], y_test2[2], y_test2[3], y_test2[4]), axis=None)\n",
    "hl3 = np.concatenate((hl2[0], hl2[1], hl2[2], hl2[3], hl2[4]), axis=None)\n",
    "\n",
    "print(\"BRFSS MultiLabel Cancer + Diabetes - Grounded, Knowledge Graph-Based Feature Selection - ADABoost AGGREGATE\")\n",
    "#print(classification_report(y_test, pred, labels=[1, 2, 3]))\n",
    "print(classification_report(y_test3, pred3))\n",
    "hl3_avg = sum(hl3) / len(hl3)\n",
    "print(\"Hamming Loss: \" + str(hl3_avg))"
   ]
  },
  {
   "cell_type": "code",
   "execution_count": null,
   "metadata": {},
   "outputs": [],
   "source": []
  },
  {
   "cell_type": "code",
   "execution_count": null,
   "metadata": {},
   "outputs": [],
   "source": []
  },
  {
   "cell_type": "code",
   "execution_count": null,
   "metadata": {},
   "outputs": [],
   "source": []
  },
  {
   "cell_type": "code",
   "execution_count": null,
   "metadata": {},
   "outputs": [],
   "source": [
    "\n",
    "    \n"
   ]
  },
  {
   "cell_type": "code",
   "execution_count": null,
   "metadata": {},
   "outputs": [],
   "source": []
  },
  {
   "cell_type": "code",
   "execution_count": null,
   "metadata": {},
   "outputs": [],
   "source": [
    "\n",
    "\n"
   ]
  },
  {
   "cell_type": "code",
   "execution_count": null,
   "metadata": {},
   "outputs": [],
   "source": []
  },
  {
   "cell_type": "code",
   "execution_count": null,
   "metadata": {},
   "outputs": [],
   "source": []
  },
  {
   "cell_type": "code",
   "execution_count": null,
   "metadata": {},
   "outputs": [],
   "source": []
  },
  {
   "cell_type": "code",
   "execution_count": null,
   "metadata": {},
   "outputs": [],
   "source": []
  },
  {
   "cell_type": "code",
   "execution_count": null,
   "metadata": {},
   "outputs": [],
   "source": []
  },
  {
   "cell_type": "code",
   "execution_count": null,
   "metadata": {},
   "outputs": [],
   "source": []
  },
  {
   "cell_type": "code",
   "execution_count": null,
   "metadata": {},
   "outputs": [],
   "source": []
  },
  {
   "cell_type": "code",
   "execution_count": null,
   "metadata": {},
   "outputs": [],
   "source": [
    "\n"
   ]
  },
  {
   "cell_type": "code",
   "execution_count": null,
   "metadata": {},
   "outputs": [],
   "source": []
  },
  {
   "cell_type": "code",
   "execution_count": null,
   "metadata": {},
   "outputs": [],
   "source": [
    "\n"
   ]
  },
  {
   "cell_type": "code",
   "execution_count": null,
   "metadata": {},
   "outputs": [],
   "source": []
  },
  {
   "cell_type": "code",
   "execution_count": null,
   "metadata": {},
   "outputs": [],
   "source": []
  },
  {
   "cell_type": "code",
   "execution_count": null,
   "metadata": {},
   "outputs": [],
   "source": []
  },
  {
   "cell_type": "code",
   "execution_count": null,
   "metadata": {},
   "outputs": [],
   "source": []
  },
  {
   "cell_type": "code",
   "execution_count": null,
   "metadata": {},
   "outputs": [],
   "source": [
    "\n"
   ]
  },
  {
   "cell_type": "code",
   "execution_count": null,
   "metadata": {},
   "outputs": [],
   "source": []
  },
  {
   "cell_type": "code",
   "execution_count": null,
   "metadata": {},
   "outputs": [],
   "source": []
  },
  {
   "cell_type": "code",
   "execution_count": null,
   "metadata": {},
   "outputs": [],
   "source": []
  },
  {
   "cell_type": "code",
   "execution_count": null,
   "metadata": {},
   "outputs": [],
   "source": []
  },
  {
   "cell_type": "code",
   "execution_count": null,
   "metadata": {},
   "outputs": [],
   "source": []
  },
  {
   "cell_type": "code",
   "execution_count": null,
   "metadata": {},
   "outputs": [],
   "source": []
  },
  {
   "cell_type": "code",
   "execution_count": null,
   "metadata": {},
   "outputs": [],
   "source": []
  },
  {
   "cell_type": "code",
   "execution_count": null,
   "metadata": {},
   "outputs": [],
   "source": []
  },
  {
   "cell_type": "code",
   "execution_count": null,
   "metadata": {},
   "outputs": [],
   "source": [
    " "
   ]
  },
  {
   "cell_type": "code",
   "execution_count": null,
   "metadata": {},
   "outputs": [],
   "source": [
    " "
   ]
  },
  {
   "cell_type": "code",
   "execution_count": null,
   "metadata": {},
   "outputs": [],
   "source": [
    " "
   ]
  },
  {
   "cell_type": "code",
   "execution_count": null,
   "metadata": {},
   "outputs": [],
   "source": [
    " "
   ]
  },
  {
   "cell_type": "code",
   "execution_count": null,
   "metadata": {},
   "outputs": [],
   "source": [
    " "
   ]
  },
  {
   "cell_type": "code",
   "execution_count": null,
   "metadata": {},
   "outputs": [],
   "source": [
    " "
   ]
  },
  {
   "cell_type": "code",
   "execution_count": null,
   "metadata": {},
   "outputs": [],
   "source": [
    " "
   ]
  },
  {
   "cell_type": "code",
   "execution_count": null,
   "metadata": {},
   "outputs": [],
   "source": [
    " "
   ]
  },
  {
   "cell_type": "code",
   "execution_count": null,
   "metadata": {},
   "outputs": [],
   "source": [
    " "
   ]
  },
  {
   "cell_type": "code",
   "execution_count": null,
   "metadata": {},
   "outputs": [],
   "source": [
    " "
   ]
  },
  {
   "cell_type": "code",
   "execution_count": null,
   "metadata": {},
   "outputs": [],
   "source": [
    " "
   ]
  },
  {
   "cell_type": "code",
   "execution_count": null,
   "metadata": {},
   "outputs": [],
   "source": [
    " "
   ]
  },
  {
   "cell_type": "code",
   "execution_count": null,
   "metadata": {},
   "outputs": [],
   "source": [
    " "
   ]
  },
  {
   "cell_type": "code",
   "execution_count": null,
   "metadata": {},
   "outputs": [],
   "source": [
    " "
   ]
  },
  {
   "cell_type": "code",
   "execution_count": null,
   "metadata": {},
   "outputs": [],
   "source": [
    " "
   ]
  },
  {
   "cell_type": "code",
   "execution_count": null,
   "metadata": {},
   "outputs": [],
   "source": [
    " "
   ]
  },
  {
   "cell_type": "code",
   "execution_count": null,
   "metadata": {},
   "outputs": [],
   "source": [
    " "
   ]
  },
  {
   "cell_type": "code",
   "execution_count": null,
   "metadata": {},
   "outputs": [],
   "source": [
    " "
   ]
  },
  {
   "cell_type": "code",
   "execution_count": null,
   "metadata": {},
   "outputs": [],
   "source": [
    " "
   ]
  },
  {
   "cell_type": "code",
   "execution_count": null,
   "metadata": {},
   "outputs": [],
   "source": [
    " "
   ]
  },
  {
   "cell_type": "code",
   "execution_count": null,
   "metadata": {},
   "outputs": [],
   "source": []
  },
  {
   "cell_type": "code",
   "execution_count": null,
   "metadata": {},
   "outputs": [],
   "source": []
  },
  {
   "cell_type": "code",
   "execution_count": null,
   "metadata": {},
   "outputs": [],
   "source": []
  },
  {
   "cell_type": "code",
   "execution_count": null,
   "metadata": {},
   "outputs": [],
   "source": []
  },
  {
   "cell_type": "code",
   "execution_count": null,
   "metadata": {},
   "outputs": [],
   "source": []
  },
  {
   "cell_type": "code",
   "execution_count": null,
   "metadata": {},
   "outputs": [],
   "source": []
  },
  {
   "cell_type": "code",
   "execution_count": null,
   "metadata": {},
   "outputs": [],
   "source": [
    " "
   ]
  },
  {
   "cell_type": "code",
   "execution_count": null,
   "metadata": {},
   "outputs": [],
   "source": [
    " "
   ]
  },
  {
   "cell_type": "code",
   "execution_count": null,
   "metadata": {},
   "outputs": [],
   "source": [
    " "
   ]
  },
  {
   "cell_type": "code",
   "execution_count": null,
   "metadata": {},
   "outputs": [],
   "source": [
    " "
   ]
  },
  {
   "cell_type": "code",
   "execution_count": null,
   "metadata": {},
   "outputs": [],
   "source": [
    " \n"
   ]
  },
  {
   "cell_type": "code",
   "execution_count": null,
   "metadata": {},
   "outputs": [],
   "source": []
  }
 ],
 "metadata": {
  "kernelspec": {
   "display_name": "Python 3",
   "language": "python",
   "name": "python3"
  },
  "language_info": {
   "codemirror_mode": {
    "name": "ipython",
    "version": 3
   },
   "file_extension": ".py",
   "mimetype": "text/x-python",
   "name": "python",
   "nbconvert_exporter": "python",
   "pygments_lexer": "ipython3",
   "version": "3.6.9"
  }
 },
 "nbformat": 4,
 "nbformat_minor": 2
}
